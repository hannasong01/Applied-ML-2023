{
  "nbformat": 4,
  "nbformat_minor": 0,
  "metadata": {
    "colab": {
      "provenance": []
    },
    "kernelspec": {
      "name": "python3",
      "display_name": "Python 3"
    },
    "language_info": {
      "name": "python"
    }
  },
  "cells": [
    {
      "cell_type": "markdown",
      "source": [
        "(20 points) Choose a (different) JSON dataset for #6.\n",
        " \n",
        "For the following problems, download and install nltk, urllib2, bs4, feedparser, pypdf, and tweepy to your machine.  Provide screenshots showing successful imports of these packages.\n"
      ],
      "metadata": {
        "id": "r8xsHxaYE1aP"
      }
    },
    {
      "cell_type": "code",
      "source": [
        "!pip install nltk\n",
        "!pip install urllib2\n",
        "!pip install bs4\n",
        "!pip install feedparser\n",
        "!pip install tweepy"
      ],
      "metadata": {
        "colab": {
          "base_uri": "https://localhost:8080/"
        },
        "id": "LgLURc4FE2I1",
        "outputId": "f631c50a-d0d9-4615-8e74-fc41e96ad771"
      },
      "execution_count": null,
      "outputs": [
        {
          "output_type": "stream",
          "name": "stdout",
          "text": [
            "Looking in indexes: https://pypi.org/simple, https://us-python.pkg.dev/colab-wheels/public/simple/\n",
            "Requirement already satisfied: nltk in /usr/local/lib/python3.8/dist-packages (3.7)\n",
            "Requirement already satisfied: tqdm in /usr/local/lib/python3.8/dist-packages (from nltk) (4.64.1)\n",
            "Requirement already satisfied: regex>=2021.8.3 in /usr/local/lib/python3.8/dist-packages (from nltk) (2022.6.2)\n",
            "Requirement already satisfied: click in /usr/local/lib/python3.8/dist-packages (from nltk) (7.1.2)\n",
            "Requirement already satisfied: joblib in /usr/local/lib/python3.8/dist-packages (from nltk) (1.2.0)\n",
            "Looking in indexes: https://pypi.org/simple, https://us-python.pkg.dev/colab-wheels/public/simple/\n",
            "\u001b[31mERROR: Could not find a version that satisfies the requirement urllib2 (from versions: none)\u001b[0m\u001b[31m\n",
            "\u001b[0m\u001b[31mERROR: No matching distribution found for urllib2\u001b[0m\u001b[31m\n",
            "\u001b[0mLooking in indexes: https://pypi.org/simple, https://us-python.pkg.dev/colab-wheels/public/simple/\n",
            "Requirement already satisfied: bs4 in /usr/local/lib/python3.8/dist-packages (0.0.1)\n",
            "Requirement already satisfied: beautifulsoup4 in /usr/local/lib/python3.8/dist-packages (from bs4) (4.6.3)\n",
            "Looking in indexes: https://pypi.org/simple, https://us-python.pkg.dev/colab-wheels/public/simple/\n",
            "Collecting feedparser\n",
            "  Downloading feedparser-6.0.10-py3-none-any.whl (81 kB)\n",
            "\u001b[2K     \u001b[90m━━━━━━━━━━━━━━━━━━━━━━━━━━━━━━━━━━━━━━━━\u001b[0m \u001b[32m81.1/81.1 KB\u001b[0m \u001b[31m1.8 MB/s\u001b[0m eta \u001b[36m0:00:00\u001b[0m\n",
            "\u001b[?25hCollecting sgmllib3k\n",
            "  Downloading sgmllib3k-1.0.0.tar.gz (5.8 kB)\n",
            "  Preparing metadata (setup.py) ... \u001b[?25l\u001b[?25hdone\n",
            "Building wheels for collected packages: sgmllib3k\n",
            "  Building wheel for sgmllib3k (setup.py) ... \u001b[?25l\u001b[?25hdone\n",
            "  Created wheel for sgmllib3k: filename=sgmllib3k-1.0.0-py3-none-any.whl size=6066 sha256=30a7c201e1c880a042359f139ec8797f3f4f8c0eaf84563bb3bddaa3f2153e1c\n",
            "  Stored in directory: /root/.cache/pip/wheels/83/63/2f/117884c3b19d46b64d3d61690333aa80c88dc14050e269c546\n",
            "Successfully built sgmllib3k\n",
            "Installing collected packages: sgmllib3k, feedparser\n",
            "Successfully installed feedparser-6.0.10 sgmllib3k-1.0.0\n",
            "Looking in indexes: https://pypi.org/simple, https://us-python.pkg.dev/colab-wheels/public/simple/\n",
            "Requirement already satisfied: tweepy in /usr/local/lib/python3.8/dist-packages (3.10.0)\n",
            "Requirement already satisfied: six>=1.10.0 in /usr/local/lib/python3.8/dist-packages (from tweepy) (1.15.0)\n",
            "Requirement already satisfied: requests-oauthlib>=0.7.0 in /usr/local/lib/python3.8/dist-packages (from tweepy) (1.3.1)\n",
            "Requirement already satisfied: requests[socks]>=2.11.1 in /usr/local/lib/python3.8/dist-packages (from tweepy) (2.25.1)\n",
            "Requirement already satisfied: oauthlib>=3.0.0 in /usr/local/lib/python3.8/dist-packages (from requests-oauthlib>=0.7.0->tweepy) (3.2.2)\n",
            "Requirement already satisfied: certifi>=2017.4.17 in /usr/local/lib/python3.8/dist-packages (from requests[socks]>=2.11.1->tweepy) (2022.12.7)\n",
            "Requirement already satisfied: urllib3<1.27,>=1.21.1 in /usr/local/lib/python3.8/dist-packages (from requests[socks]>=2.11.1->tweepy) (1.24.3)\n",
            "Requirement already satisfied: chardet<5,>=3.0.2 in /usr/local/lib/python3.8/dist-packages (from requests[socks]>=2.11.1->tweepy) (4.0.0)\n",
            "Requirement already satisfied: idna<3,>=2.5 in /usr/local/lib/python3.8/dist-packages (from requests[socks]>=2.11.1->tweepy) (2.10)\n",
            "Requirement already satisfied: PySocks!=1.5.7,>=1.5.6 in /usr/local/lib/python3.8/dist-packages (from requests[socks]>=2.11.1->tweepy) (1.7.1)\n"
          ]
        }
      ]
    },
    {
      "cell_type": "code",
      "source": [
        "from sklearn.feature_extraction import DictVectorizer\n",
        "import numpy as np\n",
        "import matplotlib.pyplot as plt\n",
        "from sklearn import datasets\n",
        "import pandas as pd\n",
        "from sklearn.model_selection import  ShuffleSplit, train_test_split\n",
        "import sklearn\n",
        "import pickle\n",
        "from urllib.request import urlopen\n",
        "import json"
      ],
      "metadata": {
        "id": "hjN1BoOrP5ha"
      },
      "execution_count": 2,
      "outputs": []
    },
    {
      "cell_type": "markdown",
      "source": [
        "a. \tSpend some time exploring this dataset, and brainstorm a question that you can use it to answer."
      ],
      "metadata": {
        "id": "7aaGpNzREXAv"
      }
    },
    {
      "cell_type": "markdown",
      "source": [
        "b. \tFirst, use the read_csv function in pandas to load the data into a dataframe. Next, use the to_dict function to save the data as a dictionary (HINT: transpose the data and make sure to only keep the values)"
      ],
      "metadata": {
        "id": "QMCBxdzXEbYA"
      }
    },
    {
      "cell_type": "code",
      "source": [
        "import requests\n",
        "from pandas.io.json import json_normalize\n",
        "\n",
        "url = \"https://data.cdc.gov/api/views/w9j2-ggv5/rows.json?accessType=DOWNLOAD\"\n",
        "#get the data from url\n",
        "response = requests.get(url).json()\n",
        "\n",
        "df = pd.json_normalize(response, 'data')\n"
      ],
      "metadata": {
        "id": "eztqivYoN5Ay"
      },
      "execution_count": 47,
      "outputs": []
    },
    {
      "cell_type": "code",
      "source": [
        "df.to_csv('csvfile.csv', encoding='utf-8', index=False)"
      ],
      "metadata": {
        "id": "oVsJaJSGSvdz"
      },
      "execution_count": 48,
      "outputs": []
    },
    {
      "cell_type": "code",
      "source": [
        "df.head()"
      ],
      "metadata": {
        "colab": {
          "base_uri": "https://localhost:8080/",
          "height": 337
        },
        "id": "YiNGbFHxRSEb",
        "outputId": "ccc69480-bdc4-440d-eaac-a9d65a0e21bf"
      },
      "execution_count": 49,
      "outputs": [
        {
          "output_type": "execute_result",
          "data": {
            "text/plain": [
              "                   0                                     1   2           3   \\\n",
              "0  row-rhmg~ppfg~kih8  00000000-0000-0000-20F5-93F72E08E03C   0  1599577329   \n",
              "1  row-xiv2.jqjx~2g57  00000000-0000-0000-55B6-4145A08CAE27   0  1599577329   \n",
              "2  row-hjm5_mwe5.mw5g  00000000-0000-0000-2E53-3946382A5254   0  1599577329   \n",
              "3  row-e8gs.7cxg~cqbx  00000000-0000-0000-3700-FFC7E757D6E4   0  1599577329   \n",
              "4  row-6gvu_yxj8.ma6s  00000000-0000-0000-7E14-75430798458F   0  1599577329   \n",
              "\n",
              "     4           5     6    7     8          9           10    11      12  \n",
              "0  None  1599577329  None  { }  1900  All Races  Both Sexes  47.3  2518.0  \n",
              "1  None  1599577329  None  { }  1901  All Races  Both Sexes  49.1  2473.1  \n",
              "2  None  1599577329  None  { }  1902  All Races  Both Sexes  51.5  2301.3  \n",
              "3  None  1599577329  None  { }  1903  All Races  Both Sexes  50.5  2379.0  \n",
              "4  None  1599577329  None  { }  1904  All Races  Both Sexes  47.6  2502.5  "
            ],
            "text/html": [
              "\n",
              "  <div id=\"df-90ded12a-5e53-4a40-86f5-d14b8ea1c4db\">\n",
              "    <div class=\"colab-df-container\">\n",
              "      <div>\n",
              "<style scoped>\n",
              "    .dataframe tbody tr th:only-of-type {\n",
              "        vertical-align: middle;\n",
              "    }\n",
              "\n",
              "    .dataframe tbody tr th {\n",
              "        vertical-align: top;\n",
              "    }\n",
              "\n",
              "    .dataframe thead th {\n",
              "        text-align: right;\n",
              "    }\n",
              "</style>\n",
              "<table border=\"1\" class=\"dataframe\">\n",
              "  <thead>\n",
              "    <tr style=\"text-align: right;\">\n",
              "      <th></th>\n",
              "      <th>0</th>\n",
              "      <th>1</th>\n",
              "      <th>2</th>\n",
              "      <th>3</th>\n",
              "      <th>4</th>\n",
              "      <th>5</th>\n",
              "      <th>6</th>\n",
              "      <th>7</th>\n",
              "      <th>8</th>\n",
              "      <th>9</th>\n",
              "      <th>10</th>\n",
              "      <th>11</th>\n",
              "      <th>12</th>\n",
              "    </tr>\n",
              "  </thead>\n",
              "  <tbody>\n",
              "    <tr>\n",
              "      <th>0</th>\n",
              "      <td>row-rhmg~ppfg~kih8</td>\n",
              "      <td>00000000-0000-0000-20F5-93F72E08E03C</td>\n",
              "      <td>0</td>\n",
              "      <td>1599577329</td>\n",
              "      <td>None</td>\n",
              "      <td>1599577329</td>\n",
              "      <td>None</td>\n",
              "      <td>{ }</td>\n",
              "      <td>1900</td>\n",
              "      <td>All Races</td>\n",
              "      <td>Both Sexes</td>\n",
              "      <td>47.3</td>\n",
              "      <td>2518.0</td>\n",
              "    </tr>\n",
              "    <tr>\n",
              "      <th>1</th>\n",
              "      <td>row-xiv2.jqjx~2g57</td>\n",
              "      <td>00000000-0000-0000-55B6-4145A08CAE27</td>\n",
              "      <td>0</td>\n",
              "      <td>1599577329</td>\n",
              "      <td>None</td>\n",
              "      <td>1599577329</td>\n",
              "      <td>None</td>\n",
              "      <td>{ }</td>\n",
              "      <td>1901</td>\n",
              "      <td>All Races</td>\n",
              "      <td>Both Sexes</td>\n",
              "      <td>49.1</td>\n",
              "      <td>2473.1</td>\n",
              "    </tr>\n",
              "    <tr>\n",
              "      <th>2</th>\n",
              "      <td>row-hjm5_mwe5.mw5g</td>\n",
              "      <td>00000000-0000-0000-2E53-3946382A5254</td>\n",
              "      <td>0</td>\n",
              "      <td>1599577329</td>\n",
              "      <td>None</td>\n",
              "      <td>1599577329</td>\n",
              "      <td>None</td>\n",
              "      <td>{ }</td>\n",
              "      <td>1902</td>\n",
              "      <td>All Races</td>\n",
              "      <td>Both Sexes</td>\n",
              "      <td>51.5</td>\n",
              "      <td>2301.3</td>\n",
              "    </tr>\n",
              "    <tr>\n",
              "      <th>3</th>\n",
              "      <td>row-e8gs.7cxg~cqbx</td>\n",
              "      <td>00000000-0000-0000-3700-FFC7E757D6E4</td>\n",
              "      <td>0</td>\n",
              "      <td>1599577329</td>\n",
              "      <td>None</td>\n",
              "      <td>1599577329</td>\n",
              "      <td>None</td>\n",
              "      <td>{ }</td>\n",
              "      <td>1903</td>\n",
              "      <td>All Races</td>\n",
              "      <td>Both Sexes</td>\n",
              "      <td>50.5</td>\n",
              "      <td>2379.0</td>\n",
              "    </tr>\n",
              "    <tr>\n",
              "      <th>4</th>\n",
              "      <td>row-6gvu_yxj8.ma6s</td>\n",
              "      <td>00000000-0000-0000-7E14-75430798458F</td>\n",
              "      <td>0</td>\n",
              "      <td>1599577329</td>\n",
              "      <td>None</td>\n",
              "      <td>1599577329</td>\n",
              "      <td>None</td>\n",
              "      <td>{ }</td>\n",
              "      <td>1904</td>\n",
              "      <td>All Races</td>\n",
              "      <td>Both Sexes</td>\n",
              "      <td>47.6</td>\n",
              "      <td>2502.5</td>\n",
              "    </tr>\n",
              "  </tbody>\n",
              "</table>\n",
              "</div>\n",
              "      <button class=\"colab-df-convert\" onclick=\"convertToInteractive('df-90ded12a-5e53-4a40-86f5-d14b8ea1c4db')\"\n",
              "              title=\"Convert this dataframe to an interactive table.\"\n",
              "              style=\"display:none;\">\n",
              "        \n",
              "  <svg xmlns=\"http://www.w3.org/2000/svg\" height=\"24px\"viewBox=\"0 0 24 24\"\n",
              "       width=\"24px\">\n",
              "    <path d=\"M0 0h24v24H0V0z\" fill=\"none\"/>\n",
              "    <path d=\"M18.56 5.44l.94 2.06.94-2.06 2.06-.94-2.06-.94-.94-2.06-.94 2.06-2.06.94zm-11 1L8.5 8.5l.94-2.06 2.06-.94-2.06-.94L8.5 2.5l-.94 2.06-2.06.94zm10 10l.94 2.06.94-2.06 2.06-.94-2.06-.94-.94-2.06-.94 2.06-2.06.94z\"/><path d=\"M17.41 7.96l-1.37-1.37c-.4-.4-.92-.59-1.43-.59-.52 0-1.04.2-1.43.59L10.3 9.45l-7.72 7.72c-.78.78-.78 2.05 0 2.83L4 21.41c.39.39.9.59 1.41.59.51 0 1.02-.2 1.41-.59l7.78-7.78 2.81-2.81c.8-.78.8-2.07 0-2.86zM5.41 20L4 18.59l7.72-7.72 1.47 1.35L5.41 20z\"/>\n",
              "  </svg>\n",
              "      </button>\n",
              "      \n",
              "  <style>\n",
              "    .colab-df-container {\n",
              "      display:flex;\n",
              "      flex-wrap:wrap;\n",
              "      gap: 12px;\n",
              "    }\n",
              "\n",
              "    .colab-df-convert {\n",
              "      background-color: #E8F0FE;\n",
              "      border: none;\n",
              "      border-radius: 50%;\n",
              "      cursor: pointer;\n",
              "      display: none;\n",
              "      fill: #1967D2;\n",
              "      height: 32px;\n",
              "      padding: 0 0 0 0;\n",
              "      width: 32px;\n",
              "    }\n",
              "\n",
              "    .colab-df-convert:hover {\n",
              "      background-color: #E2EBFA;\n",
              "      box-shadow: 0px 1px 2px rgba(60, 64, 67, 0.3), 0px 1px 3px 1px rgba(60, 64, 67, 0.15);\n",
              "      fill: #174EA6;\n",
              "    }\n",
              "\n",
              "    [theme=dark] .colab-df-convert {\n",
              "      background-color: #3B4455;\n",
              "      fill: #D2E3FC;\n",
              "    }\n",
              "\n",
              "    [theme=dark] .colab-df-convert:hover {\n",
              "      background-color: #434B5C;\n",
              "      box-shadow: 0px 1px 3px 1px rgba(0, 0, 0, 0.15);\n",
              "      filter: drop-shadow(0px 1px 2px rgba(0, 0, 0, 0.3));\n",
              "      fill: #FFFFFF;\n",
              "    }\n",
              "  </style>\n",
              "\n",
              "      <script>\n",
              "        const buttonEl =\n",
              "          document.querySelector('#df-90ded12a-5e53-4a40-86f5-d14b8ea1c4db button.colab-df-convert');\n",
              "        buttonEl.style.display =\n",
              "          google.colab.kernel.accessAllowed ? 'block' : 'none';\n",
              "\n",
              "        async function convertToInteractive(key) {\n",
              "          const element = document.querySelector('#df-90ded12a-5e53-4a40-86f5-d14b8ea1c4db');\n",
              "          const dataTable =\n",
              "            await google.colab.kernel.invokeFunction('convertToInteractive',\n",
              "                                                     [key], {});\n",
              "          if (!dataTable) return;\n",
              "\n",
              "          const docLinkHtml = 'Like what you see? Visit the ' +\n",
              "            '<a target=\"_blank\" href=https://colab.research.google.com/notebooks/data_table.ipynb>data table notebook</a>'\n",
              "            + ' to learn more about interactive tables.';\n",
              "          element.innerHTML = '';\n",
              "          dataTable['output_type'] = 'display_data';\n",
              "          await google.colab.output.renderOutput(dataTable, element);\n",
              "          const docLink = document.createElement('div');\n",
              "          docLink.innerHTML = docLinkHtml;\n",
              "          element.appendChild(docLink);\n",
              "        }\n",
              "      </script>\n",
              "    </div>\n",
              "  </div>\n",
              "  "
            ]
          },
          "metadata": {},
          "execution_count": 49
        }
      ]
    },
    {
      "cell_type": "code",
      "source": [
        "df.drop(df.iloc[:, 0:8], inplace=True, axis=1)"
      ],
      "metadata": {
        "id": "ezjobjGITnVD"
      },
      "execution_count": 50,
      "outputs": []
    },
    {
      "cell_type": "code",
      "source": [
        "df"
      ],
      "metadata": {
        "colab": {
          "base_uri": "https://localhost:8080/",
          "height": 424
        },
        "id": "zm37aD63UOa3",
        "outputId": "50edf6ff-f8e9-4f0b-e8bf-9f38d504e34f"
      },
      "execution_count": 51,
      "outputs": [
        {
          "output_type": "execute_result",
          "data": {
            "text/plain": [
              "        8          9           10    11      12\n",
              "0     1900  All Races  Both Sexes  47.3  2518.0\n",
              "1     1901  All Races  Both Sexes  49.1  2473.1\n",
              "2     1902  All Races  Both Sexes  51.5  2301.3\n",
              "3     1903  All Races  Both Sexes  50.5  2379.0\n",
              "4     1904  All Races  Both Sexes  47.6  2502.5\n",
              "...    ...        ...         ...   ...     ...\n",
              "1066  2014      White        Male  76.7   853.4\n",
              "1067  2015      White        Male  76.6   861.9\n",
              "1068  2016      White        Male  76.4   858.9\n",
              "1069  2017      White        Male  76.4   863.4\n",
              "1070  2018      White        Male  None   853.1\n",
              "\n",
              "[1071 rows x 5 columns]"
            ],
            "text/html": [
              "\n",
              "  <div id=\"df-9d501fcb-b305-4ce7-a998-c9a73e283800\">\n",
              "    <div class=\"colab-df-container\">\n",
              "      <div>\n",
              "<style scoped>\n",
              "    .dataframe tbody tr th:only-of-type {\n",
              "        vertical-align: middle;\n",
              "    }\n",
              "\n",
              "    .dataframe tbody tr th {\n",
              "        vertical-align: top;\n",
              "    }\n",
              "\n",
              "    .dataframe thead th {\n",
              "        text-align: right;\n",
              "    }\n",
              "</style>\n",
              "<table border=\"1\" class=\"dataframe\">\n",
              "  <thead>\n",
              "    <tr style=\"text-align: right;\">\n",
              "      <th></th>\n",
              "      <th>8</th>\n",
              "      <th>9</th>\n",
              "      <th>10</th>\n",
              "      <th>11</th>\n",
              "      <th>12</th>\n",
              "    </tr>\n",
              "  </thead>\n",
              "  <tbody>\n",
              "    <tr>\n",
              "      <th>0</th>\n",
              "      <td>1900</td>\n",
              "      <td>All Races</td>\n",
              "      <td>Both Sexes</td>\n",
              "      <td>47.3</td>\n",
              "      <td>2518.0</td>\n",
              "    </tr>\n",
              "    <tr>\n",
              "      <th>1</th>\n",
              "      <td>1901</td>\n",
              "      <td>All Races</td>\n",
              "      <td>Both Sexes</td>\n",
              "      <td>49.1</td>\n",
              "      <td>2473.1</td>\n",
              "    </tr>\n",
              "    <tr>\n",
              "      <th>2</th>\n",
              "      <td>1902</td>\n",
              "      <td>All Races</td>\n",
              "      <td>Both Sexes</td>\n",
              "      <td>51.5</td>\n",
              "      <td>2301.3</td>\n",
              "    </tr>\n",
              "    <tr>\n",
              "      <th>3</th>\n",
              "      <td>1903</td>\n",
              "      <td>All Races</td>\n",
              "      <td>Both Sexes</td>\n",
              "      <td>50.5</td>\n",
              "      <td>2379.0</td>\n",
              "    </tr>\n",
              "    <tr>\n",
              "      <th>4</th>\n",
              "      <td>1904</td>\n",
              "      <td>All Races</td>\n",
              "      <td>Both Sexes</td>\n",
              "      <td>47.6</td>\n",
              "      <td>2502.5</td>\n",
              "    </tr>\n",
              "    <tr>\n",
              "      <th>...</th>\n",
              "      <td>...</td>\n",
              "      <td>...</td>\n",
              "      <td>...</td>\n",
              "      <td>...</td>\n",
              "      <td>...</td>\n",
              "    </tr>\n",
              "    <tr>\n",
              "      <th>1066</th>\n",
              "      <td>2014</td>\n",
              "      <td>White</td>\n",
              "      <td>Male</td>\n",
              "      <td>76.7</td>\n",
              "      <td>853.4</td>\n",
              "    </tr>\n",
              "    <tr>\n",
              "      <th>1067</th>\n",
              "      <td>2015</td>\n",
              "      <td>White</td>\n",
              "      <td>Male</td>\n",
              "      <td>76.6</td>\n",
              "      <td>861.9</td>\n",
              "    </tr>\n",
              "    <tr>\n",
              "      <th>1068</th>\n",
              "      <td>2016</td>\n",
              "      <td>White</td>\n",
              "      <td>Male</td>\n",
              "      <td>76.4</td>\n",
              "      <td>858.9</td>\n",
              "    </tr>\n",
              "    <tr>\n",
              "      <th>1069</th>\n",
              "      <td>2017</td>\n",
              "      <td>White</td>\n",
              "      <td>Male</td>\n",
              "      <td>76.4</td>\n",
              "      <td>863.4</td>\n",
              "    </tr>\n",
              "    <tr>\n",
              "      <th>1070</th>\n",
              "      <td>2018</td>\n",
              "      <td>White</td>\n",
              "      <td>Male</td>\n",
              "      <td>None</td>\n",
              "      <td>853.1</td>\n",
              "    </tr>\n",
              "  </tbody>\n",
              "</table>\n",
              "<p>1071 rows × 5 columns</p>\n",
              "</div>\n",
              "      <button class=\"colab-df-convert\" onclick=\"convertToInteractive('df-9d501fcb-b305-4ce7-a998-c9a73e283800')\"\n",
              "              title=\"Convert this dataframe to an interactive table.\"\n",
              "              style=\"display:none;\">\n",
              "        \n",
              "  <svg xmlns=\"http://www.w3.org/2000/svg\" height=\"24px\"viewBox=\"0 0 24 24\"\n",
              "       width=\"24px\">\n",
              "    <path d=\"M0 0h24v24H0V0z\" fill=\"none\"/>\n",
              "    <path d=\"M18.56 5.44l.94 2.06.94-2.06 2.06-.94-2.06-.94-.94-2.06-.94 2.06-2.06.94zm-11 1L8.5 8.5l.94-2.06 2.06-.94-2.06-.94L8.5 2.5l-.94 2.06-2.06.94zm10 10l.94 2.06.94-2.06 2.06-.94-2.06-.94-.94-2.06-.94 2.06-2.06.94z\"/><path d=\"M17.41 7.96l-1.37-1.37c-.4-.4-.92-.59-1.43-.59-.52 0-1.04.2-1.43.59L10.3 9.45l-7.72 7.72c-.78.78-.78 2.05 0 2.83L4 21.41c.39.39.9.59 1.41.59.51 0 1.02-.2 1.41-.59l7.78-7.78 2.81-2.81c.8-.78.8-2.07 0-2.86zM5.41 20L4 18.59l7.72-7.72 1.47 1.35L5.41 20z\"/>\n",
              "  </svg>\n",
              "      </button>\n",
              "      \n",
              "  <style>\n",
              "    .colab-df-container {\n",
              "      display:flex;\n",
              "      flex-wrap:wrap;\n",
              "      gap: 12px;\n",
              "    }\n",
              "\n",
              "    .colab-df-convert {\n",
              "      background-color: #E8F0FE;\n",
              "      border: none;\n",
              "      border-radius: 50%;\n",
              "      cursor: pointer;\n",
              "      display: none;\n",
              "      fill: #1967D2;\n",
              "      height: 32px;\n",
              "      padding: 0 0 0 0;\n",
              "      width: 32px;\n",
              "    }\n",
              "\n",
              "    .colab-df-convert:hover {\n",
              "      background-color: #E2EBFA;\n",
              "      box-shadow: 0px 1px 2px rgba(60, 64, 67, 0.3), 0px 1px 3px 1px rgba(60, 64, 67, 0.15);\n",
              "      fill: #174EA6;\n",
              "    }\n",
              "\n",
              "    [theme=dark] .colab-df-convert {\n",
              "      background-color: #3B4455;\n",
              "      fill: #D2E3FC;\n",
              "    }\n",
              "\n",
              "    [theme=dark] .colab-df-convert:hover {\n",
              "      background-color: #434B5C;\n",
              "      box-shadow: 0px 1px 3px 1px rgba(0, 0, 0, 0.15);\n",
              "      filter: drop-shadow(0px 1px 2px rgba(0, 0, 0, 0.3));\n",
              "      fill: #FFFFFF;\n",
              "    }\n",
              "  </style>\n",
              "\n",
              "      <script>\n",
              "        const buttonEl =\n",
              "          document.querySelector('#df-9d501fcb-b305-4ce7-a998-c9a73e283800 button.colab-df-convert');\n",
              "        buttonEl.style.display =\n",
              "          google.colab.kernel.accessAllowed ? 'block' : 'none';\n",
              "\n",
              "        async function convertToInteractive(key) {\n",
              "          const element = document.querySelector('#df-9d501fcb-b305-4ce7-a998-c9a73e283800');\n",
              "          const dataTable =\n",
              "            await google.colab.kernel.invokeFunction('convertToInteractive',\n",
              "                                                     [key], {});\n",
              "          if (!dataTable) return;\n",
              "\n",
              "          const docLinkHtml = 'Like what you see? Visit the ' +\n",
              "            '<a target=\"_blank\" href=https://colab.research.google.com/notebooks/data_table.ipynb>data table notebook</a>'\n",
              "            + ' to learn more about interactive tables.';\n",
              "          element.innerHTML = '';\n",
              "          dataTable['output_type'] = 'display_data';\n",
              "          await google.colab.output.renderOutput(dataTable, element);\n",
              "          const docLink = document.createElement('div');\n",
              "          docLink.innerHTML = docLinkHtml;\n",
              "          element.appendChild(docLink);\n",
              "        }\n",
              "      </script>\n",
              "    </div>\n",
              "  </div>\n",
              "  "
            ]
          },
          "metadata": {},
          "execution_count": 51
        }
      ]
    },
    {
      "cell_type": "code",
      "source": [
        "df.columns = [\"Year\", \"Race\", \"Sex\",\"Average_Life_Expectancy\",\"Age-adjusted Death Rate\"]"
      ],
      "metadata": {
        "id": "SR7hGQySnLa9"
      },
      "execution_count": 52,
      "outputs": []
    },
    {
      "cell_type": "code",
      "source": [
        "df.columns = df.columns.astype(str)"
      ],
      "metadata": {
        "id": "1ANX0fXSs3-H"
      },
      "execution_count": 53,
      "outputs": []
    },
    {
      "cell_type": "code",
      "source": [
        "df.head()"
      ],
      "metadata": {
        "colab": {
          "base_uri": "https://localhost:8080/",
          "height": 206
        },
        "id": "yu12QvsGyw_t",
        "outputId": "d7731753-9ef0-4b0f-88c9-d7d366c50679"
      },
      "execution_count": 54,
      "outputs": [
        {
          "output_type": "execute_result",
          "data": {
            "text/plain": [
              "   Year       Race         Sex Average_Life_Expectancy Age-adjusted Death Rate\n",
              "0  1900  All Races  Both Sexes                    47.3                  2518.0\n",
              "1  1901  All Races  Both Sexes                    49.1                  2473.1\n",
              "2  1902  All Races  Both Sexes                    51.5                  2301.3\n",
              "3  1903  All Races  Both Sexes                    50.5                  2379.0\n",
              "4  1904  All Races  Both Sexes                    47.6                  2502.5"
            ],
            "text/html": [
              "\n",
              "  <div id=\"df-223c8614-ea6d-455d-b241-9ac28b711875\">\n",
              "    <div class=\"colab-df-container\">\n",
              "      <div>\n",
              "<style scoped>\n",
              "    .dataframe tbody tr th:only-of-type {\n",
              "        vertical-align: middle;\n",
              "    }\n",
              "\n",
              "    .dataframe tbody tr th {\n",
              "        vertical-align: top;\n",
              "    }\n",
              "\n",
              "    .dataframe thead th {\n",
              "        text-align: right;\n",
              "    }\n",
              "</style>\n",
              "<table border=\"1\" class=\"dataframe\">\n",
              "  <thead>\n",
              "    <tr style=\"text-align: right;\">\n",
              "      <th></th>\n",
              "      <th>Year</th>\n",
              "      <th>Race</th>\n",
              "      <th>Sex</th>\n",
              "      <th>Average_Life_Expectancy</th>\n",
              "      <th>Age-adjusted Death Rate</th>\n",
              "    </tr>\n",
              "  </thead>\n",
              "  <tbody>\n",
              "    <tr>\n",
              "      <th>0</th>\n",
              "      <td>1900</td>\n",
              "      <td>All Races</td>\n",
              "      <td>Both Sexes</td>\n",
              "      <td>47.3</td>\n",
              "      <td>2518.0</td>\n",
              "    </tr>\n",
              "    <tr>\n",
              "      <th>1</th>\n",
              "      <td>1901</td>\n",
              "      <td>All Races</td>\n",
              "      <td>Both Sexes</td>\n",
              "      <td>49.1</td>\n",
              "      <td>2473.1</td>\n",
              "    </tr>\n",
              "    <tr>\n",
              "      <th>2</th>\n",
              "      <td>1902</td>\n",
              "      <td>All Races</td>\n",
              "      <td>Both Sexes</td>\n",
              "      <td>51.5</td>\n",
              "      <td>2301.3</td>\n",
              "    </tr>\n",
              "    <tr>\n",
              "      <th>3</th>\n",
              "      <td>1903</td>\n",
              "      <td>All Races</td>\n",
              "      <td>Both Sexes</td>\n",
              "      <td>50.5</td>\n",
              "      <td>2379.0</td>\n",
              "    </tr>\n",
              "    <tr>\n",
              "      <th>4</th>\n",
              "      <td>1904</td>\n",
              "      <td>All Races</td>\n",
              "      <td>Both Sexes</td>\n",
              "      <td>47.6</td>\n",
              "      <td>2502.5</td>\n",
              "    </tr>\n",
              "  </tbody>\n",
              "</table>\n",
              "</div>\n",
              "      <button class=\"colab-df-convert\" onclick=\"convertToInteractive('df-223c8614-ea6d-455d-b241-9ac28b711875')\"\n",
              "              title=\"Convert this dataframe to an interactive table.\"\n",
              "              style=\"display:none;\">\n",
              "        \n",
              "  <svg xmlns=\"http://www.w3.org/2000/svg\" height=\"24px\"viewBox=\"0 0 24 24\"\n",
              "       width=\"24px\">\n",
              "    <path d=\"M0 0h24v24H0V0z\" fill=\"none\"/>\n",
              "    <path d=\"M18.56 5.44l.94 2.06.94-2.06 2.06-.94-2.06-.94-.94-2.06-.94 2.06-2.06.94zm-11 1L8.5 8.5l.94-2.06 2.06-.94-2.06-.94L8.5 2.5l-.94 2.06-2.06.94zm10 10l.94 2.06.94-2.06 2.06-.94-2.06-.94-.94-2.06-.94 2.06-2.06.94z\"/><path d=\"M17.41 7.96l-1.37-1.37c-.4-.4-.92-.59-1.43-.59-.52 0-1.04.2-1.43.59L10.3 9.45l-7.72 7.72c-.78.78-.78 2.05 0 2.83L4 21.41c.39.39.9.59 1.41.59.51 0 1.02-.2 1.41-.59l7.78-7.78 2.81-2.81c.8-.78.8-2.07 0-2.86zM5.41 20L4 18.59l7.72-7.72 1.47 1.35L5.41 20z\"/>\n",
              "  </svg>\n",
              "      </button>\n",
              "      \n",
              "  <style>\n",
              "    .colab-df-container {\n",
              "      display:flex;\n",
              "      flex-wrap:wrap;\n",
              "      gap: 12px;\n",
              "    }\n",
              "\n",
              "    .colab-df-convert {\n",
              "      background-color: #E8F0FE;\n",
              "      border: none;\n",
              "      border-radius: 50%;\n",
              "      cursor: pointer;\n",
              "      display: none;\n",
              "      fill: #1967D2;\n",
              "      height: 32px;\n",
              "      padding: 0 0 0 0;\n",
              "      width: 32px;\n",
              "    }\n",
              "\n",
              "    .colab-df-convert:hover {\n",
              "      background-color: #E2EBFA;\n",
              "      box-shadow: 0px 1px 2px rgba(60, 64, 67, 0.3), 0px 1px 3px 1px rgba(60, 64, 67, 0.15);\n",
              "      fill: #174EA6;\n",
              "    }\n",
              "\n",
              "    [theme=dark] .colab-df-convert {\n",
              "      background-color: #3B4455;\n",
              "      fill: #D2E3FC;\n",
              "    }\n",
              "\n",
              "    [theme=dark] .colab-df-convert:hover {\n",
              "      background-color: #434B5C;\n",
              "      box-shadow: 0px 1px 3px 1px rgba(0, 0, 0, 0.15);\n",
              "      filter: drop-shadow(0px 1px 2px rgba(0, 0, 0, 0.3));\n",
              "      fill: #FFFFFF;\n",
              "    }\n",
              "  </style>\n",
              "\n",
              "      <script>\n",
              "        const buttonEl =\n",
              "          document.querySelector('#df-223c8614-ea6d-455d-b241-9ac28b711875 button.colab-df-convert');\n",
              "        buttonEl.style.display =\n",
              "          google.colab.kernel.accessAllowed ? 'block' : 'none';\n",
              "\n",
              "        async function convertToInteractive(key) {\n",
              "          const element = document.querySelector('#df-223c8614-ea6d-455d-b241-9ac28b711875');\n",
              "          const dataTable =\n",
              "            await google.colab.kernel.invokeFunction('convertToInteractive',\n",
              "                                                     [key], {});\n",
              "          if (!dataTable) return;\n",
              "\n",
              "          const docLinkHtml = 'Like what you see? Visit the ' +\n",
              "            '<a target=\"_blank\" href=https://colab.research.google.com/notebooks/data_table.ipynb>data table notebook</a>'\n",
              "            + ' to learn more about interactive tables.';\n",
              "          element.innerHTML = '';\n",
              "          dataTable['output_type'] = 'display_data';\n",
              "          await google.colab.output.renderOutput(dataTable, element);\n",
              "          const docLink = document.createElement('div');\n",
              "          docLink.innerHTML = docLinkHtml;\n",
              "          element.appendChild(docLink);\n",
              "        }\n",
              "      </script>\n",
              "    </div>\n",
              "  </div>\n",
              "  "
            ]
          },
          "metadata": {},
          "execution_count": 54
        }
      ]
    },
    {
      "cell_type": "markdown",
      "source": [
        "c. \tUse the sklearn DictVectorizer to load the data"
      ],
      "metadata": {
        "id": "hsrt7zIYEdaI"
      }
    },
    {
      "cell_type": "code",
      "source": [
        "df_dict = df.T.to_dict()\n",
        "v = DictVectorizer(sparse=False)\n",
        "X = v.fit_transform(df_dict.values())"
      ],
      "metadata": {
        "id": "qYvc6UXKlcjE"
      },
      "execution_count": 55,
      "outputs": []
    },
    {
      "cell_type": "code",
      "source": [
        "X"
      ],
      "metadata": {
        "colab": {
          "base_uri": "https://localhost:8080/"
        },
        "id": "_rIl6oqaSKqc",
        "outputId": "53c94aed-2d61-4cd2-fbb0-e0023f844583"
      },
      "execution_count": 56,
      "outputs": [
        {
          "output_type": "execute_result",
          "data": {
            "text/plain": [
              "array([[0., 0., 0., ..., 0., 0., 0.],\n",
              "       [0., 0., 0., ..., 0., 0., 0.],\n",
              "       [0., 0., 0., ..., 0., 0., 0.],\n",
              "       ...,\n",
              "       [0., 0., 0., ..., 1., 0., 0.],\n",
              "       [0., 0., 0., ..., 0., 1., 0.],\n",
              "       [0., 0., 0., ..., 0., 0., 1.]])"
            ]
          },
          "metadata": {},
          "execution_count": 56
        }
      ]
    },
    {
      "cell_type": "code",
      "source": [
        "v.get_feature_names_out()"
      ],
      "metadata": {
        "colab": {
          "base_uri": "https://localhost:8080/"
        },
        "id": "WGcOGJ0wSNHZ",
        "outputId": "7cd1ad51-d302-44f4-f5fa-11831ff6b04e"
      },
      "execution_count": 57,
      "outputs": [
        {
          "output_type": "execute_result",
          "data": {
            "text/plain": [
              "array(['Age-adjusted Death Rate=1005.4', 'Age-adjusted Death Rate=1007.0',\n",
              "       'Age-adjusted Death Rate=1009.0', ..., 'Year=2016', 'Year=2017',\n",
              "       'Year=2018'], dtype=object)"
            ]
          },
          "metadata": {},
          "execution_count": 57
        }
      ]
    },
    {
      "cell_type": "markdown",
      "source": [
        "d.                   \tSave the dataset to a Pickle (.pkl) file and submit the file and your code with your assignment."
      ],
      "metadata": {
        "id": "N8hfbhS8EhcQ"
      }
    },
    {
      "cell_type": "code",
      "source": [
        "with open('death_rate_life_expectancy.pkl', 'wb') as fileWriteStream:\n",
        "    pickle.dump(df, fileWriteStream)"
      ],
      "metadata": {
        "id": "RFPXAzeBdmok"
      },
      "execution_count": 58,
      "outputs": []
    },
    {
      "cell_type": "code",
      "source": [
        "import os"
      ],
      "metadata": {
        "id": "Gjw7pGk1dmox"
      },
      "execution_count": 59,
      "outputs": []
    },
    {
      "cell_type": "code",
      "source": [
        "print('pickle file of death and life expectancy is saved at Location:',os.getcwd())"
      ],
      "metadata": {
        "colab": {
          "base_uri": "https://localhost:8080/"
        },
        "outputId": "90336882-383f-456e-83bc-2c3350493c55",
        "id": "lfhSpBfTdmox"
      },
      "execution_count": 60,
      "outputs": [
        {
          "output_type": "stream",
          "name": "stdout",
          "text": [
            "pickle file of death and life expectancy is saved at Location: /content\n"
          ]
        }
      ]
    },
    {
      "cell_type": "markdown",
      "source": [
        "e. \tHow many samples does this dataset have?\n",
        "f.  \tHow many features does this dataset have?"
      ],
      "metadata": {
        "id": "iHGkUQdeEiyW"
      }
    },
    {
      "cell_type": "code",
      "source": [
        "print(\"there are \" + str(len(df)) + \" samples\")"
      ],
      "metadata": {
        "id": "QONuG-rQIAkP",
        "colab": {
          "base_uri": "https://localhost:8080/"
        },
        "outputId": "acc71f7b-2162-4238-92d6-6bb1f1cda205"
      },
      "execution_count": 61,
      "outputs": [
        {
          "output_type": "stream",
          "name": "stdout",
          "text": [
            "there are 1071 samples\n"
          ]
        }
      ]
    },
    {
      "cell_type": "markdown",
      "source": [
        "g. \tFor each feature, indicate whether it is categorical or continuous. If categorical, how many levels does it have?"
      ],
      "metadata": {
        "id": "PCYDomNHEkGP"
      }
    },
    {
      "cell_type": "code",
      "source": [
        "len(df.columns)"
      ],
      "metadata": {
        "id": "0Vu-kCHDIBA_",
        "colab": {
          "base_uri": "https://localhost:8080/"
        },
        "outputId": "020edf9c-b068-41ab-d339-34a783d7e8af"
      },
      "execution_count": 62,
      "outputs": [
        {
          "output_type": "execute_result",
          "data": {
            "text/plain": [
              "5"
            ]
          },
          "metadata": {},
          "execution_count": 62
        }
      ]
    },
    {
      "cell_type": "code",
      "source": [
        "for col in df.columns:\n",
        "    print(col)"
      ],
      "metadata": {
        "colab": {
          "base_uri": "https://localhost:8080/"
        },
        "id": "-pveas_BrREC",
        "outputId": "cc39b914-0a0f-4a5a-9c59-38282d6f0893"
      },
      "execution_count": 63,
      "outputs": [
        {
          "output_type": "stream",
          "name": "stdout",
          "text": [
            "Year\n",
            "Race\n",
            "Sex\n",
            "Average_Life_Expectancy\n",
            "Age-adjusted Death Rate\n"
          ]
        }
      ]
    },
    {
      "cell_type": "code",
      "source": [
        "df.dtypes"
      ],
      "metadata": {
        "colab": {
          "base_uri": "https://localhost:8080/"
        },
        "id": "1LTzwL-7rTq0",
        "outputId": "becca65f-7bc5-401c-8988-3599e0dc2e5e"
      },
      "execution_count": 64,
      "outputs": [
        {
          "output_type": "execute_result",
          "data": {
            "text/plain": [
              "Year                       object\n",
              "Race                       object\n",
              "Sex                        object\n",
              "Average_Life_Expectancy    object\n",
              "Age-adjusted Death Rate    object\n",
              "dtype: object"
            ]
          },
          "metadata": {},
          "execution_count": 64
        }
      ]
    },
    {
      "cell_type": "markdown",
      "source": [
        "h. \tJustify, in writing, you answers to part iii\n",
        "\n",
        "*   The dataset have both categorical and continous variables. I converted obejct variables in to float because they are continous variables but downloaded as object. Year, Average Life Expectancy and Age-adjusted Death Rate are float which are continous and others are categorical from following code.\n",
        "\n"
      ],
      "metadata": {
        "id": "oer7fByQEl_2"
      }
    },
    {
      "cell_type": "code",
      "source": [
        "convert_dict = {'Year': float, 'Average_Life_Expectancy': float, 'Age-adjusted Death Rate': float}\n",
        " \n",
        "df = df.astype(convert_dict)\n",
        "print(df.dtypes)"
      ],
      "metadata": {
        "colab": {
          "base_uri": "https://localhost:8080/"
        },
        "id": "FvIScqapzv1c",
        "outputId": "889abf93-a8c9-4bff-c74a-e2fd37cd3e82"
      },
      "execution_count": 65,
      "outputs": [
        {
          "output_type": "stream",
          "name": "stdout",
          "text": [
            "Year                       float64\n",
            "Race                        object\n",
            "Sex                         object\n",
            "Average_Life_Expectancy    float64\n",
            "Age-adjusted Death Rate    float64\n",
            "dtype: object\n"
          ]
        }
      ]
    },
    {
      "cell_type": "code",
      "source": [
        "df.dtypes"
      ],
      "metadata": {
        "id": "ihXQIUSsIBY3",
        "colab": {
          "base_uri": "https://localhost:8080/"
        },
        "outputId": "2a9a1bd2-bfbe-45d0-89fb-df956433e7ca"
      },
      "execution_count": 66,
      "outputs": [
        {
          "output_type": "execute_result",
          "data": {
            "text/plain": [
              "Year                       float64\n",
              "Race                        object\n",
              "Sex                         object\n",
              "Average_Life_Expectancy    float64\n",
              "Age-adjusted Death Rate    float64\n",
              "dtype: object"
            ]
          },
          "metadata": {},
          "execution_count": 66
        }
      ]
    },
    {
      "cell_type": "markdown",
      "source": [
        "i.  \tFor each feature, calculate its mean and median (if continuous) and its mode (if categorical) "
      ],
      "metadata": {
        "id": "Oi_cskVNEn_e"
      }
    },
    {
      "cell_type": "code",
      "source": [
        "df.mean()"
      ],
      "metadata": {
        "id": "_9PCJ47CIB2I",
        "colab": {
          "base_uri": "https://localhost:8080/"
        },
        "outputId": "11cc3ec7-5a83-433a-9b14-d35742009b0e"
      },
      "execution_count": 67,
      "outputs": [
        {
          "output_type": "stream",
          "name": "stderr",
          "text": [
            "<ipython-input-67-c61f0c8f89b5>:1: FutureWarning: Dropping of nuisance columns in DataFrame reductions (with 'numeric_only=None') is deprecated; in a future version this will raise TypeError.  Select only valid columns before calling the reduction.\n",
            "  df.mean()\n"
          ]
        },
        {
          "output_type": "execute_result",
          "data": {
            "text/plain": [
              "Year                       1959.000000\n",
              "Average_Life_Expectancy      64.500188\n",
              "Age-adjusted Death Rate    1593.061625\n",
              "dtype: float64"
            ]
          },
          "metadata": {},
          "execution_count": 67
        }
      ]
    },
    {
      "cell_type": "code",
      "source": [
        "df[\"Race\"].mode()"
      ],
      "metadata": {
        "colab": {
          "base_uri": "https://localhost:8080/"
        },
        "id": "ZQYevA4xczzW",
        "outputId": "9a1bf51a-e815-47b9-f9d5-72e30c18f977"
      },
      "execution_count": 68,
      "outputs": [
        {
          "output_type": "execute_result",
          "data": {
            "text/plain": [
              "0    All Races\n",
              "1        Black\n",
              "2        White\n",
              "dtype: object"
            ]
          },
          "metadata": {},
          "execution_count": 68
        }
      ]
    },
    {
      "cell_type": "code",
      "source": [
        "df[\"Sex\"].mode()"
      ],
      "metadata": {
        "colab": {
          "base_uri": "https://localhost:8080/"
        },
        "id": "V7a0RE97czu2",
        "outputId": "1572bbed-d68e-431a-91c7-15255d726893"
      },
      "execution_count": 69,
      "outputs": [
        {
          "output_type": "execute_result",
          "data": {
            "text/plain": [
              "0    Both Sexes\n",
              "1        Female\n",
              "2          Male\n",
              "dtype: object"
            ]
          },
          "metadata": {},
          "execution_count": 69
        }
      ]
    },
    {
      "cell_type": "code",
      "source": [
        "df[\"Year\"].median()"
      ],
      "metadata": {
        "colab": {
          "base_uri": "https://localhost:8080/"
        },
        "id": "lDXUplkOczo8",
        "outputId": "66bc4e3d-2bb6-469f-fa58-74a95f2d93a2"
      },
      "execution_count": 70,
      "outputs": [
        {
          "output_type": "execute_result",
          "data": {
            "text/plain": [
              "1959.0"
            ]
          },
          "metadata": {},
          "execution_count": 70
        }
      ]
    },
    {
      "cell_type": "code",
      "source": [
        "df[\"Average_Life_Expectancy\"].median()"
      ],
      "metadata": {
        "colab": {
          "base_uri": "https://localhost:8080/"
        },
        "id": "aibKdUBxc-XQ",
        "outputId": "a453eaea-021c-4b2a-b522-7dd896bf8474"
      },
      "execution_count": 71,
      "outputs": [
        {
          "output_type": "execute_result",
          "data": {
            "text/plain": [
              "66.8"
            ]
          },
          "metadata": {},
          "execution_count": 71
        }
      ]
    },
    {
      "cell_type": "code",
      "source": [
        "df[\"Age-adjusted Death Rate\"].median()"
      ],
      "metadata": {
        "colab": {
          "base_uri": "https://localhost:8080/"
        },
        "id": "X79myuqKc-Qz",
        "outputId": "65b32826-3298-416c-a6a6-1ca93b6f2725"
      },
      "execution_count": 72,
      "outputs": [
        {
          "output_type": "execute_result",
          "data": {
            "text/plain": [
              "1513.7"
            ]
          },
          "metadata": {},
          "execution_count": 72
        }
      ]
    },
    {
      "cell_type": "markdown",
      "source": [
        "j.  \tPropose a plan to use this dataset to answer your question in part a.\n",
        "\n",
        "Using this dataset, we can determine the average life expectacny and death rate from race and sex. Throughout this, we can understand how these values associated with their life expectancy and death rate. Also, year might be a good determination to understand how human beings developed its life expectancy and death rate through the past year to determine our average life expectancy is getting increased."
      ],
      "metadata": {
        "id": "rTozWzA9Ep9K"
      }
    }
  ]
}