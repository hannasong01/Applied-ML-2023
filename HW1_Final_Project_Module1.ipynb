{
  "nbformat": 4,
  "nbformat_minor": 0,
  "metadata": {
    "colab": {
      "provenance": []
    },
    "kernelspec": {
      "name": "python3",
      "display_name": "Python 3"
    },
    "language_info": {
      "name": "python"
    }
  },
  "cells": [
    {
      "cell_type": "markdown",
      "source": [
        "Final project topic is Analysis of walkability using Machine Learning model, and our team members are Anh Nguyen, Elizabeth Pacious and Hanna Song."
      ],
      "metadata": {
        "id": "-96yko6RQroR"
      }
    },
    {
      "cell_type": "code",
      "source": [
        "df = pd.read_csv(\"https://edg.epa.gov/EPADataCommons/public/OA/EPA_SmartLocationDatabase_V3_Jan_2021_Final.csv\", header=None)"
      ],
      "metadata": {
        "colab": {
          "base_uri": "https://localhost:8080/"
        },
        "id": "B4tPYb3NODAF",
        "outputId": "6a4f8cdd-53de-44bf-95d6-ad0c2c589a65"
      },
      "execution_count": 5,
      "outputs": [
        {
          "output_type": "stream",
          "name": "stderr",
          "text": [
            "/usr/local/lib/python3.8/dist-packages/IPython/core/interactiveshell.py:3326: DtypeWarning: Columns (0,1,2,3,4,5,6,7,9,11,12,13,14,15,16,17,18,19,20,21,22,23,24,25,26,27,28,29,30,31,32,33,34,35,36,37,38,39,40,41,42,43,44,45,46,47,48,49,50,51,52,53,54,55,56,57,58,59,60,61,62,63,64,65,66,67,68,69,70,71,72,73,74,75,76,77,78,79,80,81,82,83,84,85,86,87,88,89,90,91,92,93,94,95,96,97,98,99,100,101,102,103,104,105,106,107,108,109,110,111,112,113,114,115,116) have mixed types.Specify dtype option on import or set low_memory=False.\n",
            "  exec(code_obj, self.user_global_ns, self.user_ns)\n"
          ]
        }
      ]
    },
    {
      "cell_type": "code",
      "source": [
        "df.head()"
      ],
      "metadata": {
        "colab": {
          "base_uri": "https://localhost:8080/",
          "height": 438
        },
        "id": "KzlWA8NMQg4t",
        "outputId": "d37f40f5-5779-4aed-d9c2-960c57f1a827"
      },
      "execution_count": 6,
      "outputs": [
        {
          "output_type": "execute_result",
          "data": {
            "text/plain": [
              "        0           1           2        3         4        5         6    \\\n",
              "0  OBJECTID     GEOID10     GEOID20  STATEFP  COUNTYFP  TRACTCE  BLKGRPCE   \n",
              "1         1  4.8113E+11  4.8113E+11       48       113     7825         4   \n",
              "2         2  4.8113E+11  4.8113E+11       48       113     7825         2   \n",
              "3         3  4.8113E+11  4.8113E+11       48       113     7825         3   \n",
              "4         4  4.8113E+11  4.8113E+11       48       113     7824         1   \n",
              "\n",
              "   7                         8      9    ...          107          108  \\\n",
              "0  CSA                  CSA_Name   CBSA  ...        D5DRI         D5DE   \n",
              "1  206  Dallas-Fort Worth, TX-OK  19100  ...  0.184696707  0.000475598   \n",
              "2  206  Dallas-Fort Worth, TX-OK  19100  ...  0.323221283  0.000800804   \n",
              "3  206  Dallas-Fort Worth, TX-OK  19100  ...  0.314627883  0.000736145   \n",
              "4  206  Dallas-Fort Worth, TX-OK  19100  ...  0.229820928  0.000708073   \n",
              "\n",
              "           109         110         111         112         113          114  \\\n",
              "0        D5DEI  D2A_Ranked  D2B_Ranked  D3B_Ranked  D4A_Ranked   NatWalkInd   \n",
              "1  0.137706673           6          14          15          17           14   \n",
              "2  0.231867832           3          10          12          14  10.83333333   \n",
              "3  0.213146272           1           1           7          17  8.333333333   \n",
              "4  0.205018325          16          10          17          17  15.66666667   \n",
              "\n",
              "            115          116  \n",
              "0  Shape_Length   Shape_Area  \n",
              "1    3110.36082  297836.0831  \n",
              "2    3519.46911  484945.1466  \n",
              "3   1697.091802  106705.9281  \n",
              "4   2922.609204  481828.4303  \n",
              "\n",
              "[5 rows x 117 columns]"
            ],
            "text/html": [
              "\n",
              "  <div id=\"df-1c5cfa3c-2682-4e70-8949-83e7cf01fc07\">\n",
              "    <div class=\"colab-df-container\">\n",
              "      <div>\n",
              "<style scoped>\n",
              "    .dataframe tbody tr th:only-of-type {\n",
              "        vertical-align: middle;\n",
              "    }\n",
              "\n",
              "    .dataframe tbody tr th {\n",
              "        vertical-align: top;\n",
              "    }\n",
              "\n",
              "    .dataframe thead th {\n",
              "        text-align: right;\n",
              "    }\n",
              "</style>\n",
              "<table border=\"1\" class=\"dataframe\">\n",
              "  <thead>\n",
              "    <tr style=\"text-align: right;\">\n",
              "      <th></th>\n",
              "      <th>0</th>\n",
              "      <th>1</th>\n",
              "      <th>2</th>\n",
              "      <th>3</th>\n",
              "      <th>4</th>\n",
              "      <th>5</th>\n",
              "      <th>6</th>\n",
              "      <th>7</th>\n",
              "      <th>8</th>\n",
              "      <th>9</th>\n",
              "      <th>...</th>\n",
              "      <th>107</th>\n",
              "      <th>108</th>\n",
              "      <th>109</th>\n",
              "      <th>110</th>\n",
              "      <th>111</th>\n",
              "      <th>112</th>\n",
              "      <th>113</th>\n",
              "      <th>114</th>\n",
              "      <th>115</th>\n",
              "      <th>116</th>\n",
              "    </tr>\n",
              "  </thead>\n",
              "  <tbody>\n",
              "    <tr>\n",
              "      <th>0</th>\n",
              "      <td>OBJECTID</td>\n",
              "      <td>GEOID10</td>\n",
              "      <td>GEOID20</td>\n",
              "      <td>STATEFP</td>\n",
              "      <td>COUNTYFP</td>\n",
              "      <td>TRACTCE</td>\n",
              "      <td>BLKGRPCE</td>\n",
              "      <td>CSA</td>\n",
              "      <td>CSA_Name</td>\n",
              "      <td>CBSA</td>\n",
              "      <td>...</td>\n",
              "      <td>D5DRI</td>\n",
              "      <td>D5DE</td>\n",
              "      <td>D5DEI</td>\n",
              "      <td>D2A_Ranked</td>\n",
              "      <td>D2B_Ranked</td>\n",
              "      <td>D3B_Ranked</td>\n",
              "      <td>D4A_Ranked</td>\n",
              "      <td>NatWalkInd</td>\n",
              "      <td>Shape_Length</td>\n",
              "      <td>Shape_Area</td>\n",
              "    </tr>\n",
              "    <tr>\n",
              "      <th>1</th>\n",
              "      <td>1</td>\n",
              "      <td>4.8113E+11</td>\n",
              "      <td>4.8113E+11</td>\n",
              "      <td>48</td>\n",
              "      <td>113</td>\n",
              "      <td>7825</td>\n",
              "      <td>4</td>\n",
              "      <td>206</td>\n",
              "      <td>Dallas-Fort Worth, TX-OK</td>\n",
              "      <td>19100</td>\n",
              "      <td>...</td>\n",
              "      <td>0.184696707</td>\n",
              "      <td>0.000475598</td>\n",
              "      <td>0.137706673</td>\n",
              "      <td>6</td>\n",
              "      <td>14</td>\n",
              "      <td>15</td>\n",
              "      <td>17</td>\n",
              "      <td>14</td>\n",
              "      <td>3110.36082</td>\n",
              "      <td>297836.0831</td>\n",
              "    </tr>\n",
              "    <tr>\n",
              "      <th>2</th>\n",
              "      <td>2</td>\n",
              "      <td>4.8113E+11</td>\n",
              "      <td>4.8113E+11</td>\n",
              "      <td>48</td>\n",
              "      <td>113</td>\n",
              "      <td>7825</td>\n",
              "      <td>2</td>\n",
              "      <td>206</td>\n",
              "      <td>Dallas-Fort Worth, TX-OK</td>\n",
              "      <td>19100</td>\n",
              "      <td>...</td>\n",
              "      <td>0.323221283</td>\n",
              "      <td>0.000800804</td>\n",
              "      <td>0.231867832</td>\n",
              "      <td>3</td>\n",
              "      <td>10</td>\n",
              "      <td>12</td>\n",
              "      <td>14</td>\n",
              "      <td>10.83333333</td>\n",
              "      <td>3519.46911</td>\n",
              "      <td>484945.1466</td>\n",
              "    </tr>\n",
              "    <tr>\n",
              "      <th>3</th>\n",
              "      <td>3</td>\n",
              "      <td>4.8113E+11</td>\n",
              "      <td>4.8113E+11</td>\n",
              "      <td>48</td>\n",
              "      <td>113</td>\n",
              "      <td>7825</td>\n",
              "      <td>3</td>\n",
              "      <td>206</td>\n",
              "      <td>Dallas-Fort Worth, TX-OK</td>\n",
              "      <td>19100</td>\n",
              "      <td>...</td>\n",
              "      <td>0.314627883</td>\n",
              "      <td>0.000736145</td>\n",
              "      <td>0.213146272</td>\n",
              "      <td>1</td>\n",
              "      <td>1</td>\n",
              "      <td>7</td>\n",
              "      <td>17</td>\n",
              "      <td>8.333333333</td>\n",
              "      <td>1697.091802</td>\n",
              "      <td>106705.9281</td>\n",
              "    </tr>\n",
              "    <tr>\n",
              "      <th>4</th>\n",
              "      <td>4</td>\n",
              "      <td>4.8113E+11</td>\n",
              "      <td>4.8113E+11</td>\n",
              "      <td>48</td>\n",
              "      <td>113</td>\n",
              "      <td>7824</td>\n",
              "      <td>1</td>\n",
              "      <td>206</td>\n",
              "      <td>Dallas-Fort Worth, TX-OK</td>\n",
              "      <td>19100</td>\n",
              "      <td>...</td>\n",
              "      <td>0.229820928</td>\n",
              "      <td>0.000708073</td>\n",
              "      <td>0.205018325</td>\n",
              "      <td>16</td>\n",
              "      <td>10</td>\n",
              "      <td>17</td>\n",
              "      <td>17</td>\n",
              "      <td>15.66666667</td>\n",
              "      <td>2922.609204</td>\n",
              "      <td>481828.4303</td>\n",
              "    </tr>\n",
              "  </tbody>\n",
              "</table>\n",
              "<p>5 rows × 117 columns</p>\n",
              "</div>\n",
              "      <button class=\"colab-df-convert\" onclick=\"convertToInteractive('df-1c5cfa3c-2682-4e70-8949-83e7cf01fc07')\"\n",
              "              title=\"Convert this dataframe to an interactive table.\"\n",
              "              style=\"display:none;\">\n",
              "        \n",
              "  <svg xmlns=\"http://www.w3.org/2000/svg\" height=\"24px\"viewBox=\"0 0 24 24\"\n",
              "       width=\"24px\">\n",
              "    <path d=\"M0 0h24v24H0V0z\" fill=\"none\"/>\n",
              "    <path d=\"M18.56 5.44l.94 2.06.94-2.06 2.06-.94-2.06-.94-.94-2.06-.94 2.06-2.06.94zm-11 1L8.5 8.5l.94-2.06 2.06-.94-2.06-.94L8.5 2.5l-.94 2.06-2.06.94zm10 10l.94 2.06.94-2.06 2.06-.94-2.06-.94-.94-2.06-.94 2.06-2.06.94z\"/><path d=\"M17.41 7.96l-1.37-1.37c-.4-.4-.92-.59-1.43-.59-.52 0-1.04.2-1.43.59L10.3 9.45l-7.72 7.72c-.78.78-.78 2.05 0 2.83L4 21.41c.39.39.9.59 1.41.59.51 0 1.02-.2 1.41-.59l7.78-7.78 2.81-2.81c.8-.78.8-2.07 0-2.86zM5.41 20L4 18.59l7.72-7.72 1.47 1.35L5.41 20z\"/>\n",
              "  </svg>\n",
              "      </button>\n",
              "      \n",
              "  <style>\n",
              "    .colab-df-container {\n",
              "      display:flex;\n",
              "      flex-wrap:wrap;\n",
              "      gap: 12px;\n",
              "    }\n",
              "\n",
              "    .colab-df-convert {\n",
              "      background-color: #E8F0FE;\n",
              "      border: none;\n",
              "      border-radius: 50%;\n",
              "      cursor: pointer;\n",
              "      display: none;\n",
              "      fill: #1967D2;\n",
              "      height: 32px;\n",
              "      padding: 0 0 0 0;\n",
              "      width: 32px;\n",
              "    }\n",
              "\n",
              "    .colab-df-convert:hover {\n",
              "      background-color: #E2EBFA;\n",
              "      box-shadow: 0px 1px 2px rgba(60, 64, 67, 0.3), 0px 1px 3px 1px rgba(60, 64, 67, 0.15);\n",
              "      fill: #174EA6;\n",
              "    }\n",
              "\n",
              "    [theme=dark] .colab-df-convert {\n",
              "      background-color: #3B4455;\n",
              "      fill: #D2E3FC;\n",
              "    }\n",
              "\n",
              "    [theme=dark] .colab-df-convert:hover {\n",
              "      background-color: #434B5C;\n",
              "      box-shadow: 0px 1px 3px 1px rgba(0, 0, 0, 0.15);\n",
              "      filter: drop-shadow(0px 1px 2px rgba(0, 0, 0, 0.3));\n",
              "      fill: #FFFFFF;\n",
              "    }\n",
              "  </style>\n",
              "\n",
              "      <script>\n",
              "        const buttonEl =\n",
              "          document.querySelector('#df-1c5cfa3c-2682-4e70-8949-83e7cf01fc07 button.colab-df-convert');\n",
              "        buttonEl.style.display =\n",
              "          google.colab.kernel.accessAllowed ? 'block' : 'none';\n",
              "\n",
              "        async function convertToInteractive(key) {\n",
              "          const element = document.querySelector('#df-1c5cfa3c-2682-4e70-8949-83e7cf01fc07');\n",
              "          const dataTable =\n",
              "            await google.colab.kernel.invokeFunction('convertToInteractive',\n",
              "                                                     [key], {});\n",
              "          if (!dataTable) return;\n",
              "\n",
              "          const docLinkHtml = 'Like what you see? Visit the ' +\n",
              "            '<a target=\"_blank\" href=https://colab.research.google.com/notebooks/data_table.ipynb>data table notebook</a>'\n",
              "            + ' to learn more about interactive tables.';\n",
              "          element.innerHTML = '';\n",
              "          dataTable['output_type'] = 'display_data';\n",
              "          await google.colab.output.renderOutput(dataTable, element);\n",
              "          const docLink = document.createElement('div');\n",
              "          docLink.innerHTML = docLinkHtml;\n",
              "          element.appendChild(docLink);\n",
              "        }\n",
              "      </script>\n",
              "    </div>\n",
              "  </div>\n",
              "  "
            ]
          },
          "metadata": {},
          "execution_count": 6
        }
      ]
    },
    {
      "cell_type": "code",
      "source": [
        "import pickle"
      ],
      "metadata": {
        "id": "_vRYq1mB0qb7"
      },
      "execution_count": 7,
      "outputs": []
    },
    {
      "cell_type": "code",
      "source": [
        "with open('df.pkl', 'wb') as fileWriteStream:\n",
        "    pickle.dump(df, fileWriteStream)"
      ],
      "metadata": {
        "id": "49IVi7L2JTqy"
      },
      "execution_count": 8,
      "outputs": []
    },
    {
      "cell_type": "code",
      "source": [
        "import os"
      ],
      "metadata": {
        "id": "oDFG1dZrMbyA"
      },
      "execution_count": 9,
      "outputs": []
    },
    {
      "cell_type": "code",
      "source": [
        "print('pickle file of dataset is saved at Location:',os.getcwd())"
      ],
      "metadata": {
        "colab": {
          "base_uri": "https://localhost:8080/"
        },
        "id": "GnOgl0FIMVE6",
        "outputId": "86c6189c-834a-4299-dc42-b60d3c124029"
      },
      "execution_count": 10,
      "outputs": [
        {
          "output_type": "stream",
          "name": "stdout",
          "text": [
            "pickle file of dataset is saved at Location: /content\n"
          ]
        }
      ]
    }
  ]
}