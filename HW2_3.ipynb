{
  "cells": [
    {
      "cell_type": "markdown",
      "id": "f38f1db4",
      "metadata": {
        "id": "f38f1db4"
      },
      "source": [
        "# Homework 2-3\n",
        "\n",
        "3)\tUsing SKLearn, build an OLS regression model for the Auto MPG Data Set including all explanatory variables (except car name)."
      ]
    },
    {
      "cell_type": "markdown",
      "id": "56cc57a0",
      "metadata": {
        "id": "56cc57a0"
      },
      "source": [
        "a. \tClean the data, removing samples with empty entries and scaling each feature to have zero mean and unit variance"
      ]
    },
    {
      "cell_type": "code",
      "execution_count": null,
      "id": "d58a3a03",
      "metadata": {
        "id": "d58a3a03"
      },
      "outputs": [],
      "source": [
        "import pandas as pd\n",
        "import numpy as np\n",
        "import matplotlib.pyplot as plt\n",
        "import seaborn as sns\n",
        "sns.set()\n",
        "import statsmodels as sm\n",
        "import os"
      ]
    },
    {
      "cell_type": "code",
      "source": [
        "from google.colab import drive\n",
        "drive.mount('/content/drive')"
      ],
      "metadata": {
        "id": "tKjMCwWjcmlj",
        "colab": {
          "base_uri": "https://localhost:8080/"
        },
        "outputId": "bb1d3575-5d95-46bb-b419-227884e92cbc"
      },
      "id": "tKjMCwWjcmlj",
      "execution_count": null,
      "outputs": [
        {
          "output_type": "stream",
          "name": "stdout",
          "text": [
            "Mounted at /content/drive\n"
          ]
        }
      ]
    },
    {
      "cell_type": "code",
      "execution_count": null,
      "id": "5554c8da",
      "metadata": {
        "id": "5554c8da"
      },
      "outputs": [],
      "source": [
        "path = \"/content/drive/My Drive/EMSE6575/auto-mpg.csv\"\n",
        "df = pd.read_csv(path)"
      ]
    },
    {
      "cell_type": "code",
      "execution_count": null,
      "id": "2d2d63b2",
      "metadata": {
        "colab": {
          "base_uri": "https://localhost:8080/",
          "height": 300
        },
        "id": "2d2d63b2",
        "outputId": "f0600269-91ba-4b08-8d5c-c3209f46fa81"
      },
      "outputs": [
        {
          "output_type": "execute_result",
          "data": {
            "text/plain": [
              "              mpg   cylinders  displacement       weight  acceleration  \\\n",
              "count  398.000000  398.000000    398.000000   398.000000    398.000000   \n",
              "mean    23.514573    5.454774    193.425879  2970.424623     15.568090   \n",
              "std      7.815984    1.701004    104.269838   846.841774      2.757689   \n",
              "min      9.000000    3.000000     68.000000  1613.000000      8.000000   \n",
              "25%     17.500000    4.000000    104.250000  2223.750000     13.825000   \n",
              "50%     23.000000    4.000000    148.500000  2803.500000     15.500000   \n",
              "75%     29.000000    8.000000    262.000000  3608.000000     17.175000   \n",
              "max     46.600000    8.000000    455.000000  5140.000000     24.800000   \n",
              "\n",
              "       model year      origin  \n",
              "count  398.000000  398.000000  \n",
              "mean    76.010050    1.572864  \n",
              "std      3.697627    0.802055  \n",
              "min     70.000000    1.000000  \n",
              "25%     73.000000    1.000000  \n",
              "50%     76.000000    1.000000  \n",
              "75%     79.000000    2.000000  \n",
              "max     82.000000    3.000000  "
            ],
            "text/html": [
              "\n",
              "  <div id=\"df-2aacebbe-5ccf-4f36-8f38-7d711aad5362\">\n",
              "    <div class=\"colab-df-container\">\n",
              "      <div>\n",
              "<style scoped>\n",
              "    .dataframe tbody tr th:only-of-type {\n",
              "        vertical-align: middle;\n",
              "    }\n",
              "\n",
              "    .dataframe tbody tr th {\n",
              "        vertical-align: top;\n",
              "    }\n",
              "\n",
              "    .dataframe thead th {\n",
              "        text-align: right;\n",
              "    }\n",
              "</style>\n",
              "<table border=\"1\" class=\"dataframe\">\n",
              "  <thead>\n",
              "    <tr style=\"text-align: right;\">\n",
              "      <th></th>\n",
              "      <th>mpg</th>\n",
              "      <th>cylinders</th>\n",
              "      <th>displacement</th>\n",
              "      <th>weight</th>\n",
              "      <th>acceleration</th>\n",
              "      <th>model year</th>\n",
              "      <th>origin</th>\n",
              "    </tr>\n",
              "  </thead>\n",
              "  <tbody>\n",
              "    <tr>\n",
              "      <th>count</th>\n",
              "      <td>398.000000</td>\n",
              "      <td>398.000000</td>\n",
              "      <td>398.000000</td>\n",
              "      <td>398.000000</td>\n",
              "      <td>398.000000</td>\n",
              "      <td>398.000000</td>\n",
              "      <td>398.000000</td>\n",
              "    </tr>\n",
              "    <tr>\n",
              "      <th>mean</th>\n",
              "      <td>23.514573</td>\n",
              "      <td>5.454774</td>\n",
              "      <td>193.425879</td>\n",
              "      <td>2970.424623</td>\n",
              "      <td>15.568090</td>\n",
              "      <td>76.010050</td>\n",
              "      <td>1.572864</td>\n",
              "    </tr>\n",
              "    <tr>\n",
              "      <th>std</th>\n",
              "      <td>7.815984</td>\n",
              "      <td>1.701004</td>\n",
              "      <td>104.269838</td>\n",
              "      <td>846.841774</td>\n",
              "      <td>2.757689</td>\n",
              "      <td>3.697627</td>\n",
              "      <td>0.802055</td>\n",
              "    </tr>\n",
              "    <tr>\n",
              "      <th>min</th>\n",
              "      <td>9.000000</td>\n",
              "      <td>3.000000</td>\n",
              "      <td>68.000000</td>\n",
              "      <td>1613.000000</td>\n",
              "      <td>8.000000</td>\n",
              "      <td>70.000000</td>\n",
              "      <td>1.000000</td>\n",
              "    </tr>\n",
              "    <tr>\n",
              "      <th>25%</th>\n",
              "      <td>17.500000</td>\n",
              "      <td>4.000000</td>\n",
              "      <td>104.250000</td>\n",
              "      <td>2223.750000</td>\n",
              "      <td>13.825000</td>\n",
              "      <td>73.000000</td>\n",
              "      <td>1.000000</td>\n",
              "    </tr>\n",
              "    <tr>\n",
              "      <th>50%</th>\n",
              "      <td>23.000000</td>\n",
              "      <td>4.000000</td>\n",
              "      <td>148.500000</td>\n",
              "      <td>2803.500000</td>\n",
              "      <td>15.500000</td>\n",
              "      <td>76.000000</td>\n",
              "      <td>1.000000</td>\n",
              "    </tr>\n",
              "    <tr>\n",
              "      <th>75%</th>\n",
              "      <td>29.000000</td>\n",
              "      <td>8.000000</td>\n",
              "      <td>262.000000</td>\n",
              "      <td>3608.000000</td>\n",
              "      <td>17.175000</td>\n",
              "      <td>79.000000</td>\n",
              "      <td>2.000000</td>\n",
              "    </tr>\n",
              "    <tr>\n",
              "      <th>max</th>\n",
              "      <td>46.600000</td>\n",
              "      <td>8.000000</td>\n",
              "      <td>455.000000</td>\n",
              "      <td>5140.000000</td>\n",
              "      <td>24.800000</td>\n",
              "      <td>82.000000</td>\n",
              "      <td>3.000000</td>\n",
              "    </tr>\n",
              "  </tbody>\n",
              "</table>\n",
              "</div>\n",
              "      <button class=\"colab-df-convert\" onclick=\"convertToInteractive('df-2aacebbe-5ccf-4f36-8f38-7d711aad5362')\"\n",
              "              title=\"Convert this dataframe to an interactive table.\"\n",
              "              style=\"display:none;\">\n",
              "        \n",
              "  <svg xmlns=\"http://www.w3.org/2000/svg\" height=\"24px\"viewBox=\"0 0 24 24\"\n",
              "       width=\"24px\">\n",
              "    <path d=\"M0 0h24v24H0V0z\" fill=\"none\"/>\n",
              "    <path d=\"M18.56 5.44l.94 2.06.94-2.06 2.06-.94-2.06-.94-.94-2.06-.94 2.06-2.06.94zm-11 1L8.5 8.5l.94-2.06 2.06-.94-2.06-.94L8.5 2.5l-.94 2.06-2.06.94zm10 10l.94 2.06.94-2.06 2.06-.94-2.06-.94-.94-2.06-.94 2.06-2.06.94z\"/><path d=\"M17.41 7.96l-1.37-1.37c-.4-.4-.92-.59-1.43-.59-.52 0-1.04.2-1.43.59L10.3 9.45l-7.72 7.72c-.78.78-.78 2.05 0 2.83L4 21.41c.39.39.9.59 1.41.59.51 0 1.02-.2 1.41-.59l7.78-7.78 2.81-2.81c.8-.78.8-2.07 0-2.86zM5.41 20L4 18.59l7.72-7.72 1.47 1.35L5.41 20z\"/>\n",
              "  </svg>\n",
              "      </button>\n",
              "      \n",
              "  <style>\n",
              "    .colab-df-container {\n",
              "      display:flex;\n",
              "      flex-wrap:wrap;\n",
              "      gap: 12px;\n",
              "    }\n",
              "\n",
              "    .colab-df-convert {\n",
              "      background-color: #E8F0FE;\n",
              "      border: none;\n",
              "      border-radius: 50%;\n",
              "      cursor: pointer;\n",
              "      display: none;\n",
              "      fill: #1967D2;\n",
              "      height: 32px;\n",
              "      padding: 0 0 0 0;\n",
              "      width: 32px;\n",
              "    }\n",
              "\n",
              "    .colab-df-convert:hover {\n",
              "      background-color: #E2EBFA;\n",
              "      box-shadow: 0px 1px 2px rgba(60, 64, 67, 0.3), 0px 1px 3px 1px rgba(60, 64, 67, 0.15);\n",
              "      fill: #174EA6;\n",
              "    }\n",
              "\n",
              "    [theme=dark] .colab-df-convert {\n",
              "      background-color: #3B4455;\n",
              "      fill: #D2E3FC;\n",
              "    }\n",
              "\n",
              "    [theme=dark] .colab-df-convert:hover {\n",
              "      background-color: #434B5C;\n",
              "      box-shadow: 0px 1px 3px 1px rgba(0, 0, 0, 0.15);\n",
              "      filter: drop-shadow(0px 1px 2px rgba(0, 0, 0, 0.3));\n",
              "      fill: #FFFFFF;\n",
              "    }\n",
              "  </style>\n",
              "\n",
              "      <script>\n",
              "        const buttonEl =\n",
              "          document.querySelector('#df-2aacebbe-5ccf-4f36-8f38-7d711aad5362 button.colab-df-convert');\n",
              "        buttonEl.style.display =\n",
              "          google.colab.kernel.accessAllowed ? 'block' : 'none';\n",
              "\n",
              "        async function convertToInteractive(key) {\n",
              "          const element = document.querySelector('#df-2aacebbe-5ccf-4f36-8f38-7d711aad5362');\n",
              "          const dataTable =\n",
              "            await google.colab.kernel.invokeFunction('convertToInteractive',\n",
              "                                                     [key], {});\n",
              "          if (!dataTable) return;\n",
              "\n",
              "          const docLinkHtml = 'Like what you see? Visit the ' +\n",
              "            '<a target=\"_blank\" href=https://colab.research.google.com/notebooks/data_table.ipynb>data table notebook</a>'\n",
              "            + ' to learn more about interactive tables.';\n",
              "          element.innerHTML = '';\n",
              "          dataTable['output_type'] = 'display_data';\n",
              "          await google.colab.output.renderOutput(dataTable, element);\n",
              "          const docLink = document.createElement('div');\n",
              "          docLink.innerHTML = docLinkHtml;\n",
              "          element.appendChild(docLink);\n",
              "        }\n",
              "      </script>\n",
              "    </div>\n",
              "  </div>\n",
              "  "
            ]
          },
          "metadata": {},
          "execution_count": 5
        }
      ],
      "source": [
        "df.describe()"
      ]
    },
    {
      "cell_type": "code",
      "execution_count": null,
      "id": "90232949",
      "metadata": {
        "colab": {
          "base_uri": "https://localhost:8080/"
        },
        "id": "90232949",
        "outputId": "2fa58874-0e2c-429b-c3db-44591c6caf47"
      },
      "outputs": [
        {
          "output_type": "execute_result",
          "data": {
            "text/plain": [
              "mpg             float64\n",
              "cylinders         int64\n",
              "displacement    float64\n",
              "horsepower       object\n",
              "weight            int64\n",
              "acceleration    float64\n",
              "model year        int64\n",
              "origin            int64\n",
              "car name         object\n",
              "dtype: object"
            ]
          },
          "metadata": {},
          "execution_count": 6
        }
      ],
      "source": [
        "df.dtypes"
      ]
    },
    {
      "cell_type": "code",
      "execution_count": null,
      "id": "ece862cd",
      "metadata": {
        "colab": {
          "base_uri": "https://localhost:8080/"
        },
        "id": "ece862cd",
        "outputId": "12563c09-01c7-4723-c101-24cfc221b9d5"
      },
      "outputs": [
        {
          "output_type": "stream",
          "name": "stdout",
          "text": [
            "mpg -> 129\n",
            "cylinders -> 5\n",
            "displacement -> 82\n",
            "horsepower -> 94\n",
            "weight -> 351\n",
            "acceleration -> 95\n",
            "model year -> 13\n",
            "origin -> 3\n",
            "car name -> 305\n"
          ]
        }
      ],
      "source": [
        "for i in df.columns:\n",
        "  print(i, \"->\", len(df[i].unique()))"
      ]
    },
    {
      "cell_type": "code",
      "source": [
        "df = df[df[\"horsepower\"]!= \"?\"]"
      ],
      "metadata": {
        "id": "2QdwASxdjqQR"
      },
      "id": "2QdwASxdjqQR",
      "execution_count": null,
      "outputs": []
    },
    {
      "cell_type": "code",
      "source": [
        "df[\"horsepower\"] = df[\"horsepower\"].astype(str).astype(int)"
      ],
      "metadata": {
        "id": "RJAguvoXdN80"
      },
      "id": "RJAguvoXdN80",
      "execution_count": null,
      "outputs": []
    },
    {
      "cell_type": "code",
      "source": [
        "df.drop(\"car name\", axis = 1, inplace = True)"
      ],
      "metadata": {
        "id": "7LdwcBKpdN5h"
      },
      "id": "7LdwcBKpdN5h",
      "execution_count": null,
      "outputs": []
    },
    {
      "cell_type": "code",
      "source": [
        "df.isnull().sum()"
      ],
      "metadata": {
        "colab": {
          "base_uri": "https://localhost:8080/"
        },
        "id": "DfRzA3KqdN27",
        "outputId": "132e39cb-4fc8-475e-f309-520b98c77cd3"
      },
      "id": "DfRzA3KqdN27",
      "execution_count": null,
      "outputs": [
        {
          "output_type": "execute_result",
          "data": {
            "text/plain": [
              "mpg             0\n",
              "cylinders       0\n",
              "displacement    0\n",
              "horsepower      0\n",
              "weight          0\n",
              "acceleration    0\n",
              "model year      0\n",
              "origin          0\n",
              "dtype: int64"
            ]
          },
          "metadata": {},
          "execution_count": 11
        }
      ]
    },
    {
      "cell_type": "code",
      "source": [
        "from sklearn.preprocessing import StandardScaler\n",
        "\n",
        "scaler = StandardScaler()\n",
        "scale_df = scaler.fit_transform(df)\n",
        "\n",
        "df = pd.DataFrame(scale_df, columns = df.columns)\n",
        "df"
      ],
      "metadata": {
        "colab": {
          "base_uri": "https://localhost:8080/",
          "height": 424
        },
        "id": "dq276Uq8kjif",
        "outputId": "9f237861-f286-4428-9e4b-138275888bce"
      },
      "id": "dq276Uq8kjif",
      "execution_count": null,
      "outputs": [
        {
          "output_type": "execute_result",
          "data": {
            "text/plain": [
              "          mpg  cylinders  displacement  horsepower    weight  acceleration  \\\n",
              "0   -0.698638   1.483947      1.077290    0.664133  0.620540     -1.285258   \n",
              "1   -1.083498   1.483947      1.488732    1.574594  0.843334     -1.466724   \n",
              "2   -0.698638   1.483947      1.182542    1.184397  0.540382     -1.648189   \n",
              "3   -0.955212   1.483947      1.048584    1.184397  0.536845     -1.285258   \n",
              "4   -0.826925   1.483947      1.029447    0.924265  0.555706     -1.829655   \n",
              "..        ...        ...           ...         ...       ...           ...   \n",
              "387  0.455941  -0.864014     -0.520637   -0.480448 -0.221125      0.021294   \n",
              "388  2.636813  -0.864014     -0.932079   -1.364896 -0.999134      3.287676   \n",
              "389  1.097374  -0.864014     -0.568479   -0.532474 -0.804632     -1.430430   \n",
              "390  0.584228  -0.864014     -0.712005   -0.662540 -0.415627      1.110088   \n",
              "391  0.969088  -0.864014     -0.721574   -0.584501 -0.303641      1.400433   \n",
              "\n",
              "     model year    origin  \n",
              "0     -1.625315 -0.716641  \n",
              "1     -1.625315 -0.716641  \n",
              "2     -1.625315 -0.716641  \n",
              "3     -1.625315 -0.716641  \n",
              "4     -1.625315 -0.716641  \n",
              "..          ...       ...  \n",
              "387    1.636410 -0.716641  \n",
              "388    1.636410  0.526382  \n",
              "389    1.636410 -0.716641  \n",
              "390    1.636410 -0.716641  \n",
              "391    1.636410 -0.716641  \n",
              "\n",
              "[392 rows x 8 columns]"
            ],
            "text/html": [
              "\n",
              "  <div id=\"df-6a336ade-b99d-4f6d-979f-fd3eb3e6ed5b\">\n",
              "    <div class=\"colab-df-container\">\n",
              "      <div>\n",
              "<style scoped>\n",
              "    .dataframe tbody tr th:only-of-type {\n",
              "        vertical-align: middle;\n",
              "    }\n",
              "\n",
              "    .dataframe tbody tr th {\n",
              "        vertical-align: top;\n",
              "    }\n",
              "\n",
              "    .dataframe thead th {\n",
              "        text-align: right;\n",
              "    }\n",
              "</style>\n",
              "<table border=\"1\" class=\"dataframe\">\n",
              "  <thead>\n",
              "    <tr style=\"text-align: right;\">\n",
              "      <th></th>\n",
              "      <th>mpg</th>\n",
              "      <th>cylinders</th>\n",
              "      <th>displacement</th>\n",
              "      <th>horsepower</th>\n",
              "      <th>weight</th>\n",
              "      <th>acceleration</th>\n",
              "      <th>model year</th>\n",
              "      <th>origin</th>\n",
              "    </tr>\n",
              "  </thead>\n",
              "  <tbody>\n",
              "    <tr>\n",
              "      <th>0</th>\n",
              "      <td>-0.698638</td>\n",
              "      <td>1.483947</td>\n",
              "      <td>1.077290</td>\n",
              "      <td>0.664133</td>\n",
              "      <td>0.620540</td>\n",
              "      <td>-1.285258</td>\n",
              "      <td>-1.625315</td>\n",
              "      <td>-0.716641</td>\n",
              "    </tr>\n",
              "    <tr>\n",
              "      <th>1</th>\n",
              "      <td>-1.083498</td>\n",
              "      <td>1.483947</td>\n",
              "      <td>1.488732</td>\n",
              "      <td>1.574594</td>\n",
              "      <td>0.843334</td>\n",
              "      <td>-1.466724</td>\n",
              "      <td>-1.625315</td>\n",
              "      <td>-0.716641</td>\n",
              "    </tr>\n",
              "    <tr>\n",
              "      <th>2</th>\n",
              "      <td>-0.698638</td>\n",
              "      <td>1.483947</td>\n",
              "      <td>1.182542</td>\n",
              "      <td>1.184397</td>\n",
              "      <td>0.540382</td>\n",
              "      <td>-1.648189</td>\n",
              "      <td>-1.625315</td>\n",
              "      <td>-0.716641</td>\n",
              "    </tr>\n",
              "    <tr>\n",
              "      <th>3</th>\n",
              "      <td>-0.955212</td>\n",
              "      <td>1.483947</td>\n",
              "      <td>1.048584</td>\n",
              "      <td>1.184397</td>\n",
              "      <td>0.536845</td>\n",
              "      <td>-1.285258</td>\n",
              "      <td>-1.625315</td>\n",
              "      <td>-0.716641</td>\n",
              "    </tr>\n",
              "    <tr>\n",
              "      <th>4</th>\n",
              "      <td>-0.826925</td>\n",
              "      <td>1.483947</td>\n",
              "      <td>1.029447</td>\n",
              "      <td>0.924265</td>\n",
              "      <td>0.555706</td>\n",
              "      <td>-1.829655</td>\n",
              "      <td>-1.625315</td>\n",
              "      <td>-0.716641</td>\n",
              "    </tr>\n",
              "    <tr>\n",
              "      <th>...</th>\n",
              "      <td>...</td>\n",
              "      <td>...</td>\n",
              "      <td>...</td>\n",
              "      <td>...</td>\n",
              "      <td>...</td>\n",
              "      <td>...</td>\n",
              "      <td>...</td>\n",
              "      <td>...</td>\n",
              "    </tr>\n",
              "    <tr>\n",
              "      <th>387</th>\n",
              "      <td>0.455941</td>\n",
              "      <td>-0.864014</td>\n",
              "      <td>-0.520637</td>\n",
              "      <td>-0.480448</td>\n",
              "      <td>-0.221125</td>\n",
              "      <td>0.021294</td>\n",
              "      <td>1.636410</td>\n",
              "      <td>-0.716641</td>\n",
              "    </tr>\n",
              "    <tr>\n",
              "      <th>388</th>\n",
              "      <td>2.636813</td>\n",
              "      <td>-0.864014</td>\n",
              "      <td>-0.932079</td>\n",
              "      <td>-1.364896</td>\n",
              "      <td>-0.999134</td>\n",
              "      <td>3.287676</td>\n",
              "      <td>1.636410</td>\n",
              "      <td>0.526382</td>\n",
              "    </tr>\n",
              "    <tr>\n",
              "      <th>389</th>\n",
              "      <td>1.097374</td>\n",
              "      <td>-0.864014</td>\n",
              "      <td>-0.568479</td>\n",
              "      <td>-0.532474</td>\n",
              "      <td>-0.804632</td>\n",
              "      <td>-1.430430</td>\n",
              "      <td>1.636410</td>\n",
              "      <td>-0.716641</td>\n",
              "    </tr>\n",
              "    <tr>\n",
              "      <th>390</th>\n",
              "      <td>0.584228</td>\n",
              "      <td>-0.864014</td>\n",
              "      <td>-0.712005</td>\n",
              "      <td>-0.662540</td>\n",
              "      <td>-0.415627</td>\n",
              "      <td>1.110088</td>\n",
              "      <td>1.636410</td>\n",
              "      <td>-0.716641</td>\n",
              "    </tr>\n",
              "    <tr>\n",
              "      <th>391</th>\n",
              "      <td>0.969088</td>\n",
              "      <td>-0.864014</td>\n",
              "      <td>-0.721574</td>\n",
              "      <td>-0.584501</td>\n",
              "      <td>-0.303641</td>\n",
              "      <td>1.400433</td>\n",
              "      <td>1.636410</td>\n",
              "      <td>-0.716641</td>\n",
              "    </tr>\n",
              "  </tbody>\n",
              "</table>\n",
              "<p>392 rows × 8 columns</p>\n",
              "</div>\n",
              "      <button class=\"colab-df-convert\" onclick=\"convertToInteractive('df-6a336ade-b99d-4f6d-979f-fd3eb3e6ed5b')\"\n",
              "              title=\"Convert this dataframe to an interactive table.\"\n",
              "              style=\"display:none;\">\n",
              "        \n",
              "  <svg xmlns=\"http://www.w3.org/2000/svg\" height=\"24px\"viewBox=\"0 0 24 24\"\n",
              "       width=\"24px\">\n",
              "    <path d=\"M0 0h24v24H0V0z\" fill=\"none\"/>\n",
              "    <path d=\"M18.56 5.44l.94 2.06.94-2.06 2.06-.94-2.06-.94-.94-2.06-.94 2.06-2.06.94zm-11 1L8.5 8.5l.94-2.06 2.06-.94-2.06-.94L8.5 2.5l-.94 2.06-2.06.94zm10 10l.94 2.06.94-2.06 2.06-.94-2.06-.94-.94-2.06-.94 2.06-2.06.94z\"/><path d=\"M17.41 7.96l-1.37-1.37c-.4-.4-.92-.59-1.43-.59-.52 0-1.04.2-1.43.59L10.3 9.45l-7.72 7.72c-.78.78-.78 2.05 0 2.83L4 21.41c.39.39.9.59 1.41.59.51 0 1.02-.2 1.41-.59l7.78-7.78 2.81-2.81c.8-.78.8-2.07 0-2.86zM5.41 20L4 18.59l7.72-7.72 1.47 1.35L5.41 20z\"/>\n",
              "  </svg>\n",
              "      </button>\n",
              "      \n",
              "  <style>\n",
              "    .colab-df-container {\n",
              "      display:flex;\n",
              "      flex-wrap:wrap;\n",
              "      gap: 12px;\n",
              "    }\n",
              "\n",
              "    .colab-df-convert {\n",
              "      background-color: #E8F0FE;\n",
              "      border: none;\n",
              "      border-radius: 50%;\n",
              "      cursor: pointer;\n",
              "      display: none;\n",
              "      fill: #1967D2;\n",
              "      height: 32px;\n",
              "      padding: 0 0 0 0;\n",
              "      width: 32px;\n",
              "    }\n",
              "\n",
              "    .colab-df-convert:hover {\n",
              "      background-color: #E2EBFA;\n",
              "      box-shadow: 0px 1px 2px rgba(60, 64, 67, 0.3), 0px 1px 3px 1px rgba(60, 64, 67, 0.15);\n",
              "      fill: #174EA6;\n",
              "    }\n",
              "\n",
              "    [theme=dark] .colab-df-convert {\n",
              "      background-color: #3B4455;\n",
              "      fill: #D2E3FC;\n",
              "    }\n",
              "\n",
              "    [theme=dark] .colab-df-convert:hover {\n",
              "      background-color: #434B5C;\n",
              "      box-shadow: 0px 1px 3px 1px rgba(0, 0, 0, 0.15);\n",
              "      filter: drop-shadow(0px 1px 2px rgba(0, 0, 0, 0.3));\n",
              "      fill: #FFFFFF;\n",
              "    }\n",
              "  </style>\n",
              "\n",
              "      <script>\n",
              "        const buttonEl =\n",
              "          document.querySelector('#df-6a336ade-b99d-4f6d-979f-fd3eb3e6ed5b button.colab-df-convert');\n",
              "        buttonEl.style.display =\n",
              "          google.colab.kernel.accessAllowed ? 'block' : 'none';\n",
              "\n",
              "        async function convertToInteractive(key) {\n",
              "          const element = document.querySelector('#df-6a336ade-b99d-4f6d-979f-fd3eb3e6ed5b');\n",
              "          const dataTable =\n",
              "            await google.colab.kernel.invokeFunction('convertToInteractive',\n",
              "                                                     [key], {});\n",
              "          if (!dataTable) return;\n",
              "\n",
              "          const docLinkHtml = 'Like what you see? Visit the ' +\n",
              "            '<a target=\"_blank\" href=https://colab.research.google.com/notebooks/data_table.ipynb>data table notebook</a>'\n",
              "            + ' to learn more about interactive tables.';\n",
              "          element.innerHTML = '';\n",
              "          dataTable['output_type'] = 'display_data';\n",
              "          await google.colab.output.renderOutput(dataTable, element);\n",
              "          const docLink = document.createElement('div');\n",
              "          docLink.innerHTML = docLinkHtml;\n",
              "          element.appendChild(docLink);\n",
              "        }\n",
              "      </script>\n",
              "    </div>\n",
              "  </div>\n",
              "  "
            ]
          },
          "metadata": {},
          "execution_count": 12
        }
      ]
    },
    {
      "cell_type": "markdown",
      "id": "5584b783",
      "metadata": {
        "id": "5584b783"
      },
      "source": [
        "b. \tWhat are the best fitting regression coefficients?"
      ]
    },
    {
      "cell_type": "code",
      "source": [
        "from sklearn.model_selection import train_test_split\n",
        "import statsmodels.api as sm\n",
        "\n",
        "y = df[\"mpg\"]\n",
        "X = df.drop(\"mpg\", axis = 1)\n",
        "\n",
        "X = sm.add_constant(X)\n",
        "\n",
        "X_train, X_test, y_train, y_test = train_test_split(X, y, test_size = 0.2, random_state = 42)\n",
        "\n",
        "result = sm.OLS(y_train, X_train).fit()\n",
        "y_pred = result.predict(X_test)\n",
        "result.params"
      ],
      "metadata": {
        "colab": {
          "base_uri": "https://localhost:8080/"
        },
        "id": "-l5j8zJlgCFS",
        "outputId": "d793ba2c-d48d-4a8d-d5b5-74d66aee1d9b"
      },
      "id": "-l5j8zJlgCFS",
      "execution_count": null,
      "outputs": [
        {
          "output_type": "execute_result",
          "data": {
            "text/plain": [
              "const           0.006868\n",
              "cylinders      -0.075572\n",
              "displacement    0.202567\n",
              "horsepower     -0.105052\n",
              "weight         -0.668380\n",
              "acceleration    0.013414\n",
              "model year      0.362352\n",
              "origin          0.166517\n",
              "dtype: float64"
            ]
          },
          "metadata": {},
          "execution_count": 14
        }
      ]
    },
    {
      "cell_type": "code",
      "source": [
        "print(result.params[abs(result.params) == max(abs(result.params))])"
      ],
      "metadata": {
        "colab": {
          "base_uri": "https://localhost:8080/"
        },
        "id": "QiC7IVDjgBzB",
        "outputId": "23e399df-2633-40ca-efad-ddff9eda560b"
      },
      "id": "QiC7IVDjgBzB",
      "execution_count": null,
      "outputs": [
        {
          "output_type": "stream",
          "name": "stdout",
          "text": [
            "weight   -0.66838\n",
            "dtype: float64\n"
          ]
        }
      ]
    },
    {
      "cell_type": "markdown",
      "id": "2d9dc947",
      "metadata": {
        "id": "2d9dc947"
      },
      "source": [
        "c. \tHow much variance in the data does this model explain?"
      ]
    },
    {
      "cell_type": "code",
      "execution_count": null,
      "id": "c120e193",
      "metadata": {
        "id": "c120e193"
      },
      "outputs": [],
      "source": [
        "from sklearn.metrics import explained_variance_score"
      ]
    },
    {
      "cell_type": "code",
      "source": [
        "print(\"Variance: %.2f\" % explained_variance_score(y_test, y_pred))"
      ],
      "metadata": {
        "colab": {
          "base_uri": "https://localhost:8080/"
        },
        "id": "I1Evgnmu0FvP",
        "outputId": "3992f26c-2968-4525-c1b6-dcab270bc45a"
      },
      "id": "I1Evgnmu0FvP",
      "execution_count": null,
      "outputs": [
        {
          "output_type": "stream",
          "name": "stdout",
          "text": [
            "Variance: 0.79\n"
          ]
        }
      ]
    },
    {
      "cell_type": "markdown",
      "id": "df73ffce",
      "metadata": {
        "id": "df73ffce"
      },
      "source": [
        "d. \tWhat is the residual sum of squares?"
      ]
    },
    {
      "cell_type": "code",
      "execution_count": null,
      "id": "aa17537b",
      "metadata": {
        "colab": {
          "base_uri": "https://localhost:8080/"
        },
        "id": "aa17537b",
        "outputId": "5228ae04-e984-4f8f-f32a-fb9a3c37c6ae"
      },
      "outputs": [
        {
          "output_type": "stream",
          "name": "stdout",
          "text": [
            "Residual Sum of Squares: 13.93\n"
          ]
        }
      ],
      "source": [
        "import numpy as np\n",
        "print(\"Residual Sum of Squares: %.2f\" % np.sum(np.square(y_test - y_pred)))"
      ]
    },
    {
      "cell_type": "markdown",
      "id": "019223a9",
      "metadata": {
        "id": "019223a9"
      },
      "source": [
        "e. \tCalculate the Akaike Information Criterion (AIC) and Bayesian Information Criterion (BIC) for two models – one with all coefficients, and one with the largest magnitude coefficient. According to each of these criteria, which one of these two is a better model?"
      ]
    },
    {
      "cell_type": "code",
      "source": [
        "from sklearn.metrics import mean_squared_error, r2_score\n",
        "import math\n",
        "from math import log"
      ],
      "metadata": {
        "id": "rlo2ABYB0HG4"
      },
      "id": "rlo2ABYB0HG4",
      "execution_count": null,
      "outputs": []
    },
    {
      "cell_type": "code",
      "source": [
        "def calculate_aic(n, mse, num_params):\n",
        "    aic = n * math.log(mse) + 2 * num_params\n",
        "    return aic\n",
        "\n",
        "def calculate_bic(n, mse, num_params):\n",
        "    bic = n * math.log(mse) + num_params * math.log(n)\n",
        "    return bic\n",
        "\n",
        "mse = mean_squared_error(y_test, y_pred)\n",
        "num_params = len(result.params) + 1"
      ],
      "metadata": {
        "id": "85pFYANvaM9d"
      },
      "id": "85pFYANvaM9d",
      "execution_count": null,
      "outputs": []
    },
    {
      "cell_type": "code",
      "source": [
        "print(\"AIC coefficients: \", calculate_aic(len(y_test), mse, num_params))\n",
        "print(\"BIC coefficients: \", calculate_bic(len(y_test), mse, num_params))"
      ],
      "metadata": {
        "colab": {
          "base_uri": "https://localhost:8080/"
        },
        "id": "JCoqKtAZdMLa",
        "outputId": "07c9d0a5-685f-4130-a2fa-88820781e150"
      },
      "id": "JCoqKtAZdMLa",
      "execution_count": null,
      "outputs": [
        {
          "output_type": "stream",
          "name": "stdout",
          "text": [
            "AIC coefficients:  -119.12173416236757\n",
            "BIC coefficients:  -97.79670349016439\n"
          ]
        }
      ]
    },
    {
      "cell_type": "code",
      "source": [
        "X_max = X[\"weight\"]\n",
        "y_max = df['mpg']\n",
        "\n",
        "X_max_train, X_max_test, y_max_train, y_max_test = train_test_split(X_max, y_max, test_size = 0.2, random_state = 42)\n",
        "\n",
        "regr_largest = sm.OLS(y_max_train, X_max_train)\n",
        "result_largest = regr_largest.fit()\n",
        "y_largest_pred = result_largest.predict(X_max_test)\n",
        "\n",
        "mse_largest = mean_squared_error(y_max_test, y_largest_pred)\n",
        "num_params_largest = len(result_largest.params) + 1"
      ],
      "metadata": {
        "id": "FC7qPl2sgFS4"
      },
      "id": "FC7qPl2sgFS4",
      "execution_count": null,
      "outputs": []
    },
    {
      "cell_type": "code",
      "source": [
        "print(\"Largest coefficient of AIC : \", calculate_aic(len(y_max_test), mse_largest, num_params_largest))\n",
        "print('Largest coefficient of BIC: ', calculate_bic(len(y_max_test), mse_largest, num_params_largest))"
      ],
      "metadata": {
        "colab": {
          "base_uri": "https://localhost:8080/"
        },
        "id": "2ZgvCe8Szghf",
        "outputId": "b37d4275-9d30-49be-d581-b70c42cf530b"
      },
      "id": "2ZgvCe8Szghf",
      "execution_count": null,
      "outputs": [
        {
          "output_type": "stream",
          "name": "stdout",
          "text": [
            "Largest coefficient of AIC :  -95.46070730324416\n",
            "Largest coefficient of BIC:  -90.72181159831013\n"
          ]
        }
      ]
    },
    {
      "cell_type": "markdown",
      "source": [
        "AIC, BIC figures illustrates that regression model that use all coefficents gives better results and better model."
      ],
      "metadata": {
        "id": "Al-TwEAddYQh"
      },
      "id": "Al-TwEAddYQh"
    },
    {
      "cell_type": "markdown",
      "source": [
        "f. Using the AIC or BIC criteria, find a better model for this dataset"
      ],
      "metadata": {
        "id": "GFezGFqs1qsh"
      },
      "id": "GFezGFqs1qsh"
    },
    {
      "cell_type": "code",
      "source": [
        "from sklearn.model_selection import KFold\n",
        "import numpy as np\n",
        "import matplotlib.pyplot as plt\n",
        "from sklearn.pipeline import Pipeline\n",
        "from sklearn.preprocessing import PolynomialFeatures\n",
        "from sklearn.linear_model import LinearRegression\n",
        "from sklearn.linear_model import LogisticRegression\n",
        "from sklearn.model_selection import cross_val_score\n",
        "from sklearn.model_selection import train_test_split\n",
        "from sklearn.metrics import mean_squared_error, r2_score\n",
        "import statsmodels.api as sm\n",
        "import math\n",
        "from math import log\n",
        "import itertools"
      ],
      "metadata": {
        "id": "P6nZCObn1sXL"
      },
      "id": "P6nZCObn1sXL",
      "execution_count": null,
      "outputs": []
    },
    {
      "cell_type": "code",
      "source": [
        "df2 = df.copy()\n",
        "df2"
      ],
      "metadata": {
        "id": "4o5cA1rw1soX",
        "colab": {
          "base_uri": "https://localhost:8080/",
          "height": 424
        },
        "outputId": "5cc7602a-2c91-464f-c43f-dbf3f13b7b9d"
      },
      "id": "4o5cA1rw1soX",
      "execution_count": null,
      "outputs": [
        {
          "output_type": "execute_result",
          "data": {
            "text/plain": [
              "          mpg  cylinders  displacement  horsepower    weight  acceleration  \\\n",
              "0   -0.698638   1.483947      1.077290    0.664133  0.620540     -1.285258   \n",
              "1   -1.083498   1.483947      1.488732    1.574594  0.843334     -1.466724   \n",
              "2   -0.698638   1.483947      1.182542    1.184397  0.540382     -1.648189   \n",
              "3   -0.955212   1.483947      1.048584    1.184397  0.536845     -1.285258   \n",
              "4   -0.826925   1.483947      1.029447    0.924265  0.555706     -1.829655   \n",
              "..        ...        ...           ...         ...       ...           ...   \n",
              "387  0.455941  -0.864014     -0.520637   -0.480448 -0.221125      0.021294   \n",
              "388  2.636813  -0.864014     -0.932079   -1.364896 -0.999134      3.287676   \n",
              "389  1.097374  -0.864014     -0.568479   -0.532474 -0.804632     -1.430430   \n",
              "390  0.584228  -0.864014     -0.712005   -0.662540 -0.415627      1.110088   \n",
              "391  0.969088  -0.864014     -0.721574   -0.584501 -0.303641      1.400433   \n",
              "\n",
              "     model year    origin  \n",
              "0     -1.625315 -0.716641  \n",
              "1     -1.625315 -0.716641  \n",
              "2     -1.625315 -0.716641  \n",
              "3     -1.625315 -0.716641  \n",
              "4     -1.625315 -0.716641  \n",
              "..          ...       ...  \n",
              "387    1.636410 -0.716641  \n",
              "388    1.636410  0.526382  \n",
              "389    1.636410 -0.716641  \n",
              "390    1.636410 -0.716641  \n",
              "391    1.636410 -0.716641  \n",
              "\n",
              "[392 rows x 8 columns]"
            ],
            "text/html": [
              "\n",
              "  <div id=\"df-dea7039d-c659-4f46-b2de-3dfcbbd2b1f8\">\n",
              "    <div class=\"colab-df-container\">\n",
              "      <div>\n",
              "<style scoped>\n",
              "    .dataframe tbody tr th:only-of-type {\n",
              "        vertical-align: middle;\n",
              "    }\n",
              "\n",
              "    .dataframe tbody tr th {\n",
              "        vertical-align: top;\n",
              "    }\n",
              "\n",
              "    .dataframe thead th {\n",
              "        text-align: right;\n",
              "    }\n",
              "</style>\n",
              "<table border=\"1\" class=\"dataframe\">\n",
              "  <thead>\n",
              "    <tr style=\"text-align: right;\">\n",
              "      <th></th>\n",
              "      <th>mpg</th>\n",
              "      <th>cylinders</th>\n",
              "      <th>displacement</th>\n",
              "      <th>horsepower</th>\n",
              "      <th>weight</th>\n",
              "      <th>acceleration</th>\n",
              "      <th>model year</th>\n",
              "      <th>origin</th>\n",
              "    </tr>\n",
              "  </thead>\n",
              "  <tbody>\n",
              "    <tr>\n",
              "      <th>0</th>\n",
              "      <td>-0.698638</td>\n",
              "      <td>1.483947</td>\n",
              "      <td>1.077290</td>\n",
              "      <td>0.664133</td>\n",
              "      <td>0.620540</td>\n",
              "      <td>-1.285258</td>\n",
              "      <td>-1.625315</td>\n",
              "      <td>-0.716641</td>\n",
              "    </tr>\n",
              "    <tr>\n",
              "      <th>1</th>\n",
              "      <td>-1.083498</td>\n",
              "      <td>1.483947</td>\n",
              "      <td>1.488732</td>\n",
              "      <td>1.574594</td>\n",
              "      <td>0.843334</td>\n",
              "      <td>-1.466724</td>\n",
              "      <td>-1.625315</td>\n",
              "      <td>-0.716641</td>\n",
              "    </tr>\n",
              "    <tr>\n",
              "      <th>2</th>\n",
              "      <td>-0.698638</td>\n",
              "      <td>1.483947</td>\n",
              "      <td>1.182542</td>\n",
              "      <td>1.184397</td>\n",
              "      <td>0.540382</td>\n",
              "      <td>-1.648189</td>\n",
              "      <td>-1.625315</td>\n",
              "      <td>-0.716641</td>\n",
              "    </tr>\n",
              "    <tr>\n",
              "      <th>3</th>\n",
              "      <td>-0.955212</td>\n",
              "      <td>1.483947</td>\n",
              "      <td>1.048584</td>\n",
              "      <td>1.184397</td>\n",
              "      <td>0.536845</td>\n",
              "      <td>-1.285258</td>\n",
              "      <td>-1.625315</td>\n",
              "      <td>-0.716641</td>\n",
              "    </tr>\n",
              "    <tr>\n",
              "      <th>4</th>\n",
              "      <td>-0.826925</td>\n",
              "      <td>1.483947</td>\n",
              "      <td>1.029447</td>\n",
              "      <td>0.924265</td>\n",
              "      <td>0.555706</td>\n",
              "      <td>-1.829655</td>\n",
              "      <td>-1.625315</td>\n",
              "      <td>-0.716641</td>\n",
              "    </tr>\n",
              "    <tr>\n",
              "      <th>...</th>\n",
              "      <td>...</td>\n",
              "      <td>...</td>\n",
              "      <td>...</td>\n",
              "      <td>...</td>\n",
              "      <td>...</td>\n",
              "      <td>...</td>\n",
              "      <td>...</td>\n",
              "      <td>...</td>\n",
              "    </tr>\n",
              "    <tr>\n",
              "      <th>387</th>\n",
              "      <td>0.455941</td>\n",
              "      <td>-0.864014</td>\n",
              "      <td>-0.520637</td>\n",
              "      <td>-0.480448</td>\n",
              "      <td>-0.221125</td>\n",
              "      <td>0.021294</td>\n",
              "      <td>1.636410</td>\n",
              "      <td>-0.716641</td>\n",
              "    </tr>\n",
              "    <tr>\n",
              "      <th>388</th>\n",
              "      <td>2.636813</td>\n",
              "      <td>-0.864014</td>\n",
              "      <td>-0.932079</td>\n",
              "      <td>-1.364896</td>\n",
              "      <td>-0.999134</td>\n",
              "      <td>3.287676</td>\n",
              "      <td>1.636410</td>\n",
              "      <td>0.526382</td>\n",
              "    </tr>\n",
              "    <tr>\n",
              "      <th>389</th>\n",
              "      <td>1.097374</td>\n",
              "      <td>-0.864014</td>\n",
              "      <td>-0.568479</td>\n",
              "      <td>-0.532474</td>\n",
              "      <td>-0.804632</td>\n",
              "      <td>-1.430430</td>\n",
              "      <td>1.636410</td>\n",
              "      <td>-0.716641</td>\n",
              "    </tr>\n",
              "    <tr>\n",
              "      <th>390</th>\n",
              "      <td>0.584228</td>\n",
              "      <td>-0.864014</td>\n",
              "      <td>-0.712005</td>\n",
              "      <td>-0.662540</td>\n",
              "      <td>-0.415627</td>\n",
              "      <td>1.110088</td>\n",
              "      <td>1.636410</td>\n",
              "      <td>-0.716641</td>\n",
              "    </tr>\n",
              "    <tr>\n",
              "      <th>391</th>\n",
              "      <td>0.969088</td>\n",
              "      <td>-0.864014</td>\n",
              "      <td>-0.721574</td>\n",
              "      <td>-0.584501</td>\n",
              "      <td>-0.303641</td>\n",
              "      <td>1.400433</td>\n",
              "      <td>1.636410</td>\n",
              "      <td>-0.716641</td>\n",
              "    </tr>\n",
              "  </tbody>\n",
              "</table>\n",
              "<p>392 rows × 8 columns</p>\n",
              "</div>\n",
              "      <button class=\"colab-df-convert\" onclick=\"convertToInteractive('df-dea7039d-c659-4f46-b2de-3dfcbbd2b1f8')\"\n",
              "              title=\"Convert this dataframe to an interactive table.\"\n",
              "              style=\"display:none;\">\n",
              "        \n",
              "  <svg xmlns=\"http://www.w3.org/2000/svg\" height=\"24px\"viewBox=\"0 0 24 24\"\n",
              "       width=\"24px\">\n",
              "    <path d=\"M0 0h24v24H0V0z\" fill=\"none\"/>\n",
              "    <path d=\"M18.56 5.44l.94 2.06.94-2.06 2.06-.94-2.06-.94-.94-2.06-.94 2.06-2.06.94zm-11 1L8.5 8.5l.94-2.06 2.06-.94-2.06-.94L8.5 2.5l-.94 2.06-2.06.94zm10 10l.94 2.06.94-2.06 2.06-.94-2.06-.94-.94-2.06-.94 2.06-2.06.94z\"/><path d=\"M17.41 7.96l-1.37-1.37c-.4-.4-.92-.59-1.43-.59-.52 0-1.04.2-1.43.59L10.3 9.45l-7.72 7.72c-.78.78-.78 2.05 0 2.83L4 21.41c.39.39.9.59 1.41.59.51 0 1.02-.2 1.41-.59l7.78-7.78 2.81-2.81c.8-.78.8-2.07 0-2.86zM5.41 20L4 18.59l7.72-7.72 1.47 1.35L5.41 20z\"/>\n",
              "  </svg>\n",
              "      </button>\n",
              "      \n",
              "  <style>\n",
              "    .colab-df-container {\n",
              "      display:flex;\n",
              "      flex-wrap:wrap;\n",
              "      gap: 12px;\n",
              "    }\n",
              "\n",
              "    .colab-df-convert {\n",
              "      background-color: #E8F0FE;\n",
              "      border: none;\n",
              "      border-radius: 50%;\n",
              "      cursor: pointer;\n",
              "      display: none;\n",
              "      fill: #1967D2;\n",
              "      height: 32px;\n",
              "      padding: 0 0 0 0;\n",
              "      width: 32px;\n",
              "    }\n",
              "\n",
              "    .colab-df-convert:hover {\n",
              "      background-color: #E2EBFA;\n",
              "      box-shadow: 0px 1px 2px rgba(60, 64, 67, 0.3), 0px 1px 3px 1px rgba(60, 64, 67, 0.15);\n",
              "      fill: #174EA6;\n",
              "    }\n",
              "\n",
              "    [theme=dark] .colab-df-convert {\n",
              "      background-color: #3B4455;\n",
              "      fill: #D2E3FC;\n",
              "    }\n",
              "\n",
              "    [theme=dark] .colab-df-convert:hover {\n",
              "      background-color: #434B5C;\n",
              "      box-shadow: 0px 1px 3px 1px rgba(0, 0, 0, 0.15);\n",
              "      filter: drop-shadow(0px 1px 2px rgba(0, 0, 0, 0.3));\n",
              "      fill: #FFFFFF;\n",
              "    }\n",
              "  </style>\n",
              "\n",
              "      <script>\n",
              "        const buttonEl =\n",
              "          document.querySelector('#df-dea7039d-c659-4f46-b2de-3dfcbbd2b1f8 button.colab-df-convert');\n",
              "        buttonEl.style.display =\n",
              "          google.colab.kernel.accessAllowed ? 'block' : 'none';\n",
              "\n",
              "        async function convertToInteractive(key) {\n",
              "          const element = document.querySelector('#df-dea7039d-c659-4f46-b2de-3dfcbbd2b1f8');\n",
              "          const dataTable =\n",
              "            await google.colab.kernel.invokeFunction('convertToInteractive',\n",
              "                                                     [key], {});\n",
              "          if (!dataTable) return;\n",
              "\n",
              "          const docLinkHtml = 'Like what you see? Visit the ' +\n",
              "            '<a target=\"_blank\" href=https://colab.research.google.com/notebooks/data_table.ipynb>data table notebook</a>'\n",
              "            + ' to learn more about interactive tables.';\n",
              "          element.innerHTML = '';\n",
              "          dataTable['output_type'] = 'display_data';\n",
              "          await google.colab.output.renderOutput(dataTable, element);\n",
              "          const docLink = document.createElement('div');\n",
              "          docLink.innerHTML = docLinkHtml;\n",
              "          element.appendChild(docLink);\n",
              "        }\n",
              "      </script>\n",
              "    </div>\n",
              "  </div>\n",
              "  "
            ]
          },
          "metadata": {},
          "execution_count": 25
        }
      ]
    },
    {
      "cell_type": "code",
      "source": [
        "i = 1\n",
        "min_aic = np.inf\n",
        "min_bic = np.inf\n",
        "best_features = []\n",
        "best_model = None\n",
        "\n",
        "y = df2[\"mpg\"]\n",
        "X = df2.drop(\"mpg\", axis = 1)\n",
        "\n",
        "\n",
        "def calculate_aic(n, mse, num_params):\n",
        "    aic = n * math.log(mse) + 2 * num_params\n",
        "    return aic\n",
        "\n",
        "def calculate_bic(n, mse, num_params):\n",
        "    bic = n * math.log(mse) + num_params * math.log(n)\n",
        "    return bic\n",
        "\n",
        "n_features = list(range(1,7))\n",
        "for comb in range(1, 7):\n",
        "    for combination in itertools.combinations(n_features, comb):\n",
        "        \n",
        "        #print(combination)\n",
        "        X = df2.drop(\"mpg\", axis = 1)\n",
        "        X = X.iloc[:, (k for k in combination)]\n",
        "        \n",
        "        X = sm.add_constant(X)\n",
        "\n",
        "        X_train, X_test, y_train, y_test = train_test_split(X, y, test_size = 0.2, random_state = 42)\n",
        "\n",
        "        result = sm.OLS(y_train, X_train).fit()\n",
        "        y_pred = result.predict(X_test)\n",
        "        #result.params\n",
        "        \n",
        "        mse = mean_squared_error(y_test, y_pred)\n",
        "        num_params = len(result.params) + 1\n",
        "    \n",
        "        aic = calculate_aic(len(y_test), mse, num_params)\n",
        "        bic = calculate_bic(len(y_test), mse, num_params)\n",
        "\n",
        "        if aic<min_aic or bic<min_bic:\n",
        "            min_aic = aic\n",
        "            min_bic = bic\n",
        "            best_features = X.columns\n",
        "            "
      ],
      "metadata": {
        "id": "AijMeWrqgT4Y"
      },
      "id": "AijMeWrqgT4Y",
      "execution_count": null,
      "outputs": []
    },
    {
      "cell_type": "code",
      "source": [
        "print(\"min_aic is : \",min_aic, \" and min_bic is : \", min_bic)\n",
        "print(best_features)"
      ],
      "metadata": {
        "colab": {
          "base_uri": "https://localhost:8080/"
        },
        "id": "YF7ADmE01xN6",
        "outputId": "9e04dc2a-acfd-4369-a320-c9b326327c89"
      },
      "id": "YF7ADmE01xN6",
      "execution_count": null,
      "outputs": [
        {
          "output_type": "stream",
          "name": "stdout",
          "text": [
            "min_aic is :  -130.65269660173874  and min_bic is :  -121.17490519187065\n",
            "Index(['const', 'weight', 'model year'], dtype='object')\n"
          ]
        }
      ]
    },
    {
      "cell_type": "code",
      "source": [
        "X = df2[[\"weight\",\"model year\"]]\n",
        "y = df2[\"mpg\"]\n",
        "\n",
        "X = sm.add_constant(X)\n",
        "\n",
        "X_train, X_test, y_train, y_test = train_test_split(X, y, test_size = 0.2, random_state = 42)\n",
        "\n",
        "result = sm.OLS(y_train, X_train).fit()\n",
        "y_pred = result.predict(X_test)\n",
        "result.params\n",
        "        \n",
        "mse = mean_squared_error(y_test, y_pred)\n",
        "num_params = len(result.params) + 1\n",
        "    \n",
        "aic = calculate_aic(len(y_test), mse, num_params)\n",
        "bic = calculate_bic(len(y_test), mse, num_params)"
      ],
      "metadata": {
        "id": "LA0NSp_HgTul"
      },
      "id": "LA0NSp_HgTul",
      "execution_count": null,
      "outputs": []
    },
    {
      "cell_type": "code",
      "source": [
        "print(\"AIC :\",aic,\" BIC : \",bic)"
      ],
      "metadata": {
        "colab": {
          "base_uri": "https://localhost:8080/"
        },
        "id": "LrRA05nf135W",
        "outputId": "79799c45-3b0e-4314-8293-db0b7a2dd16c"
      },
      "id": "LrRA05nf135W",
      "execution_count": null,
      "outputs": [
        {
          "output_type": "stream",
          "name": "stdout",
          "text": [
            "AIC : -130.65269660173874  BIC :  -121.17490519187065\n"
          ]
        }
      ]
    },
    {
      "cell_type": "markdown",
      "source": [
        "g. Use 10-fold cross validation and MSE as a metric to select among these three models. How are the results different from using AIC or BIC?"
      ],
      "metadata": {
        "id": "b7qTsxYM1r1k"
      },
      "id": "b7qTsxYM1r1k"
    },
    {
      "cell_type": "code",
      "source": [
        "import sklearn\n",
        "from sklearn.metrics import fbeta_score, make_scorer\n",
        "y = df[\"mpg\"]\n",
        "X_model_1 = df.drop(\"mpg\", axis = 1)\n",
        "X_model_2 = df[\"weight\"]\n",
        "X_model_3 = df[[\"weight\", \"model year\"]]\n",
        "\n",
        "\n",
        "model = LinearRegression()\n",
        "mse_1 = cross_val_score(model, X_model_1, y, cv = 10, scoring = make_scorer(sklearn.metrics.mean_squared_error))\n",
        "\n",
        "mse_2 = cross_val_score(model, X_model_2.values.reshape(-1, 1), y, cv = 10, scoring = make_scorer(sklearn.metrics.mean_squared_error))\n",
        "\n",
        "mse_3 = cross_val_score(model, X_model_3, y, cv = 10, scoring = make_scorer(sklearn.metrics.mean_squared_error))"
      ],
      "metadata": {
        "id": "DIkFLh1WgMGY"
      },
      "id": "DIkFLh1WgMGY",
      "execution_count": null,
      "outputs": []
    },
    {
      "cell_type": "code",
      "source": [
        "print(\"MSE 1 : %.3f\" %(sum(mse_1) / len(mse_1)))\n",
        "print(\"MSE 2 : %.3f\" %(sum(mse_2) / len(mse_2)))\n",
        "print(\"MSE 3 : %.3f\" %(sum(mse_3) / len(mse_3)))"
      ],
      "metadata": {
        "colab": {
          "base_uri": "https://localhost:8080/"
        },
        "id": "8lB9Z66SgMBC",
        "outputId": "e7d5f978-3f57-4429-e41e-e84a284158b9"
      },
      "id": "8lB9Z66SgMBC",
      "execution_count": null,
      "outputs": [
        {
          "output_type": "stream",
          "name": "stdout",
          "text": [
            "MSE 1 : 0.208\n",
            "MSE 2 : 0.353\n",
            "MSE 3 : 0.212\n"
          ]
        }
      ]
    }
  ],
  "metadata": {
    "kernelspec": {
      "display_name": "Python 3 (ipykernel)",
      "language": "python",
      "name": "python3"
    },
    "language_info": {
      "codemirror_mode": {
        "name": "ipython",
        "version": 3
      },
      "file_extension": ".py",
      "mimetype": "text/x-python",
      "name": "python",
      "nbconvert_exporter": "python",
      "pygments_lexer": "ipython3",
      "version": "3.9.13"
    },
    "colab": {
      "provenance": []
    }
  },
  "nbformat": 4,
  "nbformat_minor": 5
}