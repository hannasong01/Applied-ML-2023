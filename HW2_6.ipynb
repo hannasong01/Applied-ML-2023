{
  "nbformat": 4,
  "nbformat_minor": 0,
  "metadata": {
    "colab": {
      "provenance": []
    },
    "kernelspec": {
      "name": "python3",
      "display_name": "Python 3"
    },
    "language_info": {
      "name": "python"
    }
  },
  "cells": [
    {
      "cell_type": "markdown",
      "source": [
        "6)\tDownload the breast cancer Wisconsin dataset from the UCI Machine learning repository: https://archive.ics.uci.edu/ml/machine-learning-databases/breast-cancer-wisconsin/ -- specifically, use the WDBC dataset.\n",
        "\n",
        "\n",
        "\n",
        "a. \tFit a univariate OLS linear regression model to predict whether a given sample is benign or malignant using the Standard Error of the area as the independent variable.  Specifically, using 0.5 as your cutoff criterion, “classify” samples in the test set by whether they are predicted to be malignant. Using 10-fold cross validation, what is the accuracy of this approach?\n"
      ],
      "metadata": {
        "id": "R-R_nAKRyNEQ"
      }
    },
    {
      "cell_type": "code",
      "execution_count": 7,
      "metadata": {
        "id": "d58a3a03"
      },
      "outputs": [],
      "source": [
        "import pandas as pd\n",
        "import numpy as np\n",
        "import matplotlib.pyplot as plt\n",
        "import seaborn as sns\n",
        "sns.set()\n",
        "import statsmodels as sm\n",
        "import os\n",
        "from sklearn.linear_model import LogisticRegressionCV, LogisticRegression\n",
        "from sklearn.model_selection import train_test_split\n",
        "from sklearn.impute import SimpleImputer\n",
        "from sklearn.model_selection import KFold\n",
        "from sklearn.metrics import accuracy_score"
      ]
    },
    {
      "cell_type": "code",
      "source": [
        "from google.colab import drive\n",
        "drive.mount('/content/drive')"
      ],
      "metadata": {
        "id": "tKjMCwWjcmlj",
        "colab": {
          "base_uri": "https://localhost:8080/"
        },
        "outputId": "d8aa5ce6-225f-43ca-9dcc-96be7a16f801"
      },
      "execution_count": 2,
      "outputs": [
        {
          "output_type": "stream",
          "name": "stdout",
          "text": [
            "Mounted at /content/drive\n"
          ]
        }
      ]
    },
    {
      "cell_type": "code",
      "execution_count": 4,
      "metadata": {
        "id": "5554c8da"
      },
      "outputs": [],
      "source": [
        "path = \"/content/drive/My Drive/EMSE6575/wdbc.data\"\n",
        "df = pd.read_csv(path)"
      ]
    },
    {
      "cell_type": "code",
      "source": [
        "X, y = df.drop(df.columns[:2], axis=1), df[df.columns[1]]\n",
        "y.replace({'M':1, 'B':0}, inplace=True)"
      ],
      "metadata": {
        "id": "y0JIThSL2ONN"
      },
      "execution_count": 5,
      "outputs": []
    },
    {
      "cell_type": "code",
      "source": [
        "X_train, X_test, y_train, y_test = train_test_split(X, y, test_size=0.15, stratify=y, random_state=1)"
      ],
      "metadata": {
        "id": "J8b9X4jS2OJ3"
      },
      "execution_count": 8,
      "outputs": []
    },
    {
      "cell_type": "code",
      "source": [
        "X_train.info()"
      ],
      "metadata": {
        "colab": {
          "base_uri": "https://localhost:8080/"
        },
        "id": "iTATZcUf-QLF",
        "outputId": "f14b3af4-becd-47e3-957c-772829af0eaf"
      },
      "execution_count": 10,
      "outputs": [
        {
          "output_type": "stream",
          "name": "stdout",
          "text": [
            "<class 'pandas.core.frame.DataFrame'>\n",
            "Int64Index: 482 entries, 494 to 283\n",
            "Data columns (total 30 columns):\n",
            " #   Column    Non-Null Count  Dtype  \n",
            "---  ------    --------------  -----  \n",
            " 0   17.99     482 non-null    float64\n",
            " 1   10.38     482 non-null    float64\n",
            " 2   122.8     482 non-null    float64\n",
            " 3   1001      482 non-null    float64\n",
            " 4   0.1184    482 non-null    float64\n",
            " 5   0.2776    482 non-null    float64\n",
            " 6   0.3001    482 non-null    float64\n",
            " 7   0.1471    482 non-null    float64\n",
            " 8   0.2419    482 non-null    float64\n",
            " 9   0.07871   482 non-null    float64\n",
            " 10  1.095     482 non-null    float64\n",
            " 11  0.9053    482 non-null    float64\n",
            " 12  8.589     482 non-null    float64\n",
            " 13  153.4     482 non-null    float64\n",
            " 14  0.006399  482 non-null    float64\n",
            " 15  0.04904   482 non-null    float64\n",
            " 16  0.05373   482 non-null    float64\n",
            " 17  0.01587   482 non-null    float64\n",
            " 18  0.03003   482 non-null    float64\n",
            " 19  0.006193  482 non-null    float64\n",
            " 20  25.38     482 non-null    float64\n",
            " 21  17.33     482 non-null    float64\n",
            " 22  184.6     482 non-null    float64\n",
            " 23  2019      482 non-null    float64\n",
            " 24  0.1622    482 non-null    float64\n",
            " 25  0.6656    482 non-null    float64\n",
            " 26  0.7119    482 non-null    float64\n",
            " 27  0.2654    482 non-null    float64\n",
            " 28  0.4601    482 non-null    float64\n",
            " 29  0.1189    482 non-null    float64\n",
            "dtypes: float64(30)\n",
            "memory usage: 116.7 KB\n"
          ]
        }
      ]
    },
    {
      "cell_type": "code",
      "source": [
        "from statsmodels.regression.linear_model import OLS"
      ],
      "metadata": {
        "id": "i2KB9iAf_Chd"
      },
      "execution_count": 13,
      "outputs": []
    },
    {
      "cell_type": "code",
      "source": [
        "res = OLS(y_train,X_train.iloc[:, [16]]).fit()\n",
        "# Get Coefficients\n",
        "coeffs_ols = res.params\n",
        "print(f'coefficients : {coeffs_ols}')\n",
        "\n",
        "# Prediction\n",
        "ols_preds= res.predict()\n",
        "\n",
        "# Model summary\n",
        "res.summary()"
      ],
      "metadata": {
        "colab": {
          "base_uri": "https://localhost:8080/",
          "height": 483
        },
        "id": "FGZtgpRX4-8y",
        "outputId": "477ec6aa-85db-4a8d-b627-7a3ebbfec8c5"
      },
      "execution_count": 15,
      "outputs": [
        {
          "output_type": "stream",
          "name": "stdout",
          "text": [
            "coefficients : 0.05373    7.611696\n",
            "dtype: float64\n"
          ]
        },
        {
          "output_type": "execute_result",
          "data": {
            "text/plain": [
              "<class 'statsmodels.iolib.summary.Summary'>\n",
              "\"\"\"\n",
              "                                 OLS Regression Results                                \n",
              "=======================================================================================\n",
              "Dep. Variable:                      M   R-squared (uncentered):                   0.307\n",
              "Model:                            OLS   Adj. R-squared (uncentered):              0.305\n",
              "Method:                 Least Squares   F-statistic:                              213.0\n",
              "Date:                Fri, 31 Mar 2023   Prob (F-statistic):                    3.39e-40\n",
              "Time:                        09:25:41   Log-Likelihood:                         -356.87\n",
              "No. Observations:                 482   AIC:                                      715.7\n",
              "Df Residuals:                     481   BIC:                                      719.9\n",
              "Df Model:                           1                                                  \n",
              "Covariance Type:            nonrobust                                                  \n",
              "==============================================================================\n",
              "                 coef    std err          t      P>|t|      [0.025      0.975]\n",
              "------------------------------------------------------------------------------\n",
              "0.05373        7.6117      0.522     14.593      0.000       6.587       8.637\n",
              "==============================================================================\n",
              "Omnibus:                       62.085   Durbin-Watson:                   1.929\n",
              "Prob(Omnibus):                  0.000   Jarque-Bera (JB):              233.044\n",
              "Skew:                          -0.520   Prob(JB):                     2.48e-51\n",
              "Kurtosis:                       6.244   Cond. No.                         1.00\n",
              "==============================================================================\n",
              "\n",
              "Notes:\n",
              "[1] R² is computed without centering (uncentered) since the model does not contain a constant.\n",
              "[2] Standard Errors assume that the covariance matrix of the errors is correctly specified.\n",
              "\"\"\""
            ],
            "text/html": [
              "<table class=\"simpletable\">\n",
              "<caption>OLS Regression Results</caption>\n",
              "<tr>\n",
              "  <th>Dep. Variable:</th>            <td>M</td>        <th>  R-squared (uncentered):</th>      <td>   0.307</td>\n",
              "</tr>\n",
              "<tr>\n",
              "  <th>Model:</th>                   <td>OLS</td>       <th>  Adj. R-squared (uncentered):</th> <td>   0.305</td>\n",
              "</tr>\n",
              "<tr>\n",
              "  <th>Method:</th>             <td>Least Squares</td>  <th>  F-statistic:       </th>          <td>   213.0</td>\n",
              "</tr>\n",
              "<tr>\n",
              "  <th>Date:</th>             <td>Fri, 31 Mar 2023</td> <th>  Prob (F-statistic):</th>          <td>3.39e-40</td>\n",
              "</tr>\n",
              "<tr>\n",
              "  <th>Time:</th>                 <td>09:25:41</td>     <th>  Log-Likelihood:    </th>          <td> -356.87</td>\n",
              "</tr>\n",
              "<tr>\n",
              "  <th>No. Observations:</th>      <td>   482</td>      <th>  AIC:               </th>          <td>   715.7</td>\n",
              "</tr>\n",
              "<tr>\n",
              "  <th>Df Residuals:</th>          <td>   481</td>      <th>  BIC:               </th>          <td>   719.9</td>\n",
              "</tr>\n",
              "<tr>\n",
              "  <th>Df Model:</th>              <td>     1</td>      <th>                     </th>              <td> </td>   \n",
              "</tr>\n",
              "<tr>\n",
              "  <th>Covariance Type:</th>      <td>nonrobust</td>    <th>                     </th>              <td> </td>   \n",
              "</tr>\n",
              "</table>\n",
              "<table class=\"simpletable\">\n",
              "<tr>\n",
              "     <td></td>        <th>coef</th>     <th>std err</th>      <th>t</th>      <th>P>|t|</th>  <th>[0.025</th>    <th>0.975]</th>  \n",
              "</tr>\n",
              "<tr>\n",
              "  <th>0.05373</th> <td>    7.6117</td> <td>    0.522</td> <td>   14.593</td> <td> 0.000</td> <td>    6.587</td> <td>    8.637</td>\n",
              "</tr>\n",
              "</table>\n",
              "<table class=\"simpletable\">\n",
              "<tr>\n",
              "  <th>Omnibus:</th>       <td>62.085</td> <th>  Durbin-Watson:     </th> <td>   1.929</td>\n",
              "</tr>\n",
              "<tr>\n",
              "  <th>Prob(Omnibus):</th> <td> 0.000</td> <th>  Jarque-Bera (JB):  </th> <td> 233.044</td>\n",
              "</tr>\n",
              "<tr>\n",
              "  <th>Skew:</th>          <td>-0.520</td> <th>  Prob(JB):          </th> <td>2.48e-51</td>\n",
              "</tr>\n",
              "<tr>\n",
              "  <th>Kurtosis:</th>      <td> 6.244</td> <th>  Cond. No.          </th> <td>    1.00</td>\n",
              "</tr>\n",
              "</table><br/><br/>Notes:<br/>[1] R² is computed without centering (uncentered) since the model does not contain a constant.<br/>[2] Standard Errors assume that the covariance matrix of the errors is correctly specified."
            ]
          },
          "metadata": {},
          "execution_count": 15
        }
      ]
    },
    {
      "cell_type": "code",
      "source": [
        "from sklearn.model_selection import KFold\n",
        "from sklearn.metrics import accuracy_score"
      ],
      "metadata": {
        "id": "myJk9ADp_hz3"
      },
      "execution_count": 27,
      "outputs": []
    },
    {
      "cell_type": "code",
      "source": [
        "kf = KFold(n_splits=10)\n",
        "accuracy = 0\n",
        "for train, test in kf.split(X_train.iloc[:, [16]]):\n",
        "    res_t = OLS(y_train.iloc[train],X_train.iloc[:, [16]].iloc[train]).fit()\n",
        "    test_res = res_t.predict(X_train.iloc[:, [16]].iloc[test]).apply(lambda x: 1 if x>=0.5 else 0)\n",
        "    accuracy += accuracy_score(y_train.iloc[test], test_res)"
      ],
      "metadata": {
        "colab": {
          "base_uri": "https://localhost:8080/"
        },
        "id": "DmKPQrzy5KKx",
        "outputId": "70e26d90-3420-491d-d08a-a57c68001292"
      },
      "execution_count": 28,
      "outputs": [
        {
          "output_type": "stream",
          "name": "stdout",
          "text": [
            "10 fold cross validation accuracy is  0.6160289115646258\n"
          ]
        }
      ]
    },
    {
      "cell_type": "code",
      "source": [
        "print('10 fold cross validation accuracy: ', accuracy/10)"
      ],
      "metadata": {
        "id": "CvHWb_YN_jxb",
        "outputId": "cf2ae291-45e0-4d18-9327-4411c15344cd",
        "colab": {
          "base_uri": "https://localhost:8080/"
        }
      },
      "execution_count": 29,
      "outputs": [
        {
          "output_type": "stream",
          "name": "stdout",
          "text": [
            "10 fold cross validation accuracy:  0.6160289115646258\n"
          ]
        }
      ]
    },
    {
      "cell_type": "markdown",
      "source": [
        "b. \tDoes linear regression perform well at this classification task? How does it compare to a model that consistently estimates “benign”? How does it compare to the logistic regression model calculated in #1?"
      ],
      "metadata": {
        "id": "uY_WmgYh5ZRv"
      }
    },
    {
      "cell_type": "code",
      "source": [
        "actual_test_res = res.predict(X_test.iloc[:, [16]]).apply(lambda x: 1 if x>=0.5 else 0)"
      ],
      "metadata": {
        "id": "DYtf7Wyf-0Y_"
      },
      "execution_count": 22,
      "outputs": []
    },
    {
      "cell_type": "code",
      "source": [
        "print('Accuracy of test set: ', accuracy_score(y_test, actual_test_res))\n",
        "print('Accuracy of the entire model: ', accuracy_score(y_test, [0]*len(y_test)))"
      ],
      "metadata": {
        "colab": {
          "base_uri": "https://localhost:8080/"
        },
        "id": "kQ18FFJA_UTS",
        "outputId": "dd7c3a48-32df-4b6c-dfd4-3bcd49065793"
      },
      "execution_count": 21,
      "outputs": [
        {
          "output_type": "stream",
          "name": "stdout",
          "text": [
            "Accuracy of test set:  0.7093023255813954\n",
            "Accuracy of the entire model:  0.627906976744186\n"
          ]
        }
      ]
    },
    {
      "cell_type": "markdown",
      "source": [
        "c. \tExplain the difference in performance between the logistic and linear regression models."
      ],
      "metadata": {
        "id": "Py6cPVfN5ao-"
      }
    },
    {
      "cell_type": "code",
      "source": [
        "lr = LogisticRegression(random_state=1)\n",
        "lr.fit(X_train.iloc[:, [16]], y_train)\n",
        "y_pred = lr.predict(X_test.iloc[:, [16]])"
      ],
      "metadata": {
        "id": "h70aYZcR-2uT"
      },
      "execution_count": 25,
      "outputs": []
    },
    {
      "cell_type": "code",
      "source": [
        "print('Accuracy of logistic regression of test set: ', accuracy_score(y_test, y_pred))"
      ],
      "metadata": {
        "colab": {
          "base_uri": "https://localhost:8080/"
        },
        "id": "G1btxa-w_aXQ",
        "outputId": "cd7c9ec9-0c09-40d4-ab0b-5f7386243e76"
      },
      "execution_count": 26,
      "outputs": [
        {
          "output_type": "stream",
          "name": "stdout",
          "text": [
            "Accuracy of logistic regression of test set:  0.627906976744186\n"
          ]
        }
      ]
    }
  ]
}