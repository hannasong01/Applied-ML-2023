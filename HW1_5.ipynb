{
  "nbformat": 4,
  "nbformat_minor": 0,
  "metadata": {
    "colab": {
      "provenance": []
    },
    "kernelspec": {
      "name": "python3",
      "display_name": "Python 3"
    },
    "language_info": {
      "name": "python"
    }
  },
  "cells": [
    {
      "cell_type": "markdown",
      "source": [
        "(20 points) Load the airports only (airports.dat) dataset from http://openflights.org/data.html into SKLearn using the dictionary vectorizer function."
      ],
      "metadata": {
        "id": "8YGSBLZOcf2b"
      }
    },
    {
      "cell_type": "code",
      "execution_count": 1,
      "metadata": {
        "id": "A5UusQbDvLUS"
      },
      "outputs": [],
      "source": [
        "from sklearn.feature_extraction import DictVectorizer\n",
        "import numpy as np\n",
        "import matplotlib.pyplot as plt\n",
        "from sklearn import datasets\n",
        "import pandas as pd\n",
        "from sklearn.model_selection import  ShuffleSplit, train_test_split\n",
        "import sklearn\n",
        "import pickle"
      ]
    },
    {
      "cell_type": "code",
      "source": [
        "airport = pd.read_csv(\"https://raw.githubusercontent.com/jpatokal/openflights/master/data/airports.dat\", header=None)"
      ],
      "metadata": {
        "id": "ybfpBQfgOi9e"
      },
      "execution_count": 2,
      "outputs": []
    },
    {
      "cell_type": "markdown",
      "source": [
        "a. First, use the read_csv function in pandas to load the data into a dataframe. Next, use the to_dict function to save the data as a dictionary (HINT: transpose the data and make sure to only keep the values)"
      ],
      "metadata": {
        "id": "F4qVlggyaTZN"
      }
    },
    {
      "cell_type": "code",
      "source": [
        "df = airport\n",
        "airport.columns = airport.columns.astype(str)"
      ],
      "metadata": {
        "id": "nCpmBVS4X1Po"
      },
      "execution_count": 3,
      "outputs": []
    },
    {
      "cell_type": "code",
      "source": [
        "df.head()"
      ],
      "metadata": {
        "colab": {
          "base_uri": "https://localhost:8080/",
          "height": 337
        },
        "id": "imXV8qju09zD",
        "outputId": "f8bc8525-1d0f-4d89-8bba-65871c150347"
      },
      "execution_count": 4,
      "outputs": [
        {
          "output_type": "execute_result",
          "data": {
            "text/plain": [
              "   0                                            1             2  \\\n",
              "0  1                               Goroka Airport        Goroka   \n",
              "1  2                               Madang Airport        Madang   \n",
              "2  3                 Mount Hagen Kagamuga Airport   Mount Hagen   \n",
              "3  4                               Nadzab Airport        Nadzab   \n",
              "4  5  Port Moresby Jacksons International Airport  Port Moresby   \n",
              "\n",
              "                  3    4     5         6           7     8   9 10  \\\n",
              "0  Papua New Guinea  GKA  AYGA -6.081690  145.391998  5282  10  U   \n",
              "1  Papua New Guinea  MAG  AYMD -5.207080  145.789001    20  10  U   \n",
              "2  Papua New Guinea  HGU  AYMH -5.826790  144.296005  5388  10  U   \n",
              "3  Papua New Guinea  LAE  AYNZ -6.569803  146.725977   239  10  U   \n",
              "4  Papua New Guinea  POM  AYPY -9.443380  147.220001   146  10  U   \n",
              "\n",
              "                     11       12           13  \n",
              "0  Pacific/Port_Moresby  airport  OurAirports  \n",
              "1  Pacific/Port_Moresby  airport  OurAirports  \n",
              "2  Pacific/Port_Moresby  airport  OurAirports  \n",
              "3  Pacific/Port_Moresby  airport  OurAirports  \n",
              "4  Pacific/Port_Moresby  airport  OurAirports  "
            ],
            "text/html": [
              "\n",
              "  <div id=\"df-0f9a5526-fb6c-4dcf-b864-50e12d2d6fcf\">\n",
              "    <div class=\"colab-df-container\">\n",
              "      <div>\n",
              "<style scoped>\n",
              "    .dataframe tbody tr th:only-of-type {\n",
              "        vertical-align: middle;\n",
              "    }\n",
              "\n",
              "    .dataframe tbody tr th {\n",
              "        vertical-align: top;\n",
              "    }\n",
              "\n",
              "    .dataframe thead th {\n",
              "        text-align: right;\n",
              "    }\n",
              "</style>\n",
              "<table border=\"1\" class=\"dataframe\">\n",
              "  <thead>\n",
              "    <tr style=\"text-align: right;\">\n",
              "      <th></th>\n",
              "      <th>0</th>\n",
              "      <th>1</th>\n",
              "      <th>2</th>\n",
              "      <th>3</th>\n",
              "      <th>4</th>\n",
              "      <th>5</th>\n",
              "      <th>6</th>\n",
              "      <th>7</th>\n",
              "      <th>8</th>\n",
              "      <th>9</th>\n",
              "      <th>10</th>\n",
              "      <th>11</th>\n",
              "      <th>12</th>\n",
              "      <th>13</th>\n",
              "    </tr>\n",
              "  </thead>\n",
              "  <tbody>\n",
              "    <tr>\n",
              "      <th>0</th>\n",
              "      <td>1</td>\n",
              "      <td>Goroka Airport</td>\n",
              "      <td>Goroka</td>\n",
              "      <td>Papua New Guinea</td>\n",
              "      <td>GKA</td>\n",
              "      <td>AYGA</td>\n",
              "      <td>-6.081690</td>\n",
              "      <td>145.391998</td>\n",
              "      <td>5282</td>\n",
              "      <td>10</td>\n",
              "      <td>U</td>\n",
              "      <td>Pacific/Port_Moresby</td>\n",
              "      <td>airport</td>\n",
              "      <td>OurAirports</td>\n",
              "    </tr>\n",
              "    <tr>\n",
              "      <th>1</th>\n",
              "      <td>2</td>\n",
              "      <td>Madang Airport</td>\n",
              "      <td>Madang</td>\n",
              "      <td>Papua New Guinea</td>\n",
              "      <td>MAG</td>\n",
              "      <td>AYMD</td>\n",
              "      <td>-5.207080</td>\n",
              "      <td>145.789001</td>\n",
              "      <td>20</td>\n",
              "      <td>10</td>\n",
              "      <td>U</td>\n",
              "      <td>Pacific/Port_Moresby</td>\n",
              "      <td>airport</td>\n",
              "      <td>OurAirports</td>\n",
              "    </tr>\n",
              "    <tr>\n",
              "      <th>2</th>\n",
              "      <td>3</td>\n",
              "      <td>Mount Hagen Kagamuga Airport</td>\n",
              "      <td>Mount Hagen</td>\n",
              "      <td>Papua New Guinea</td>\n",
              "      <td>HGU</td>\n",
              "      <td>AYMH</td>\n",
              "      <td>-5.826790</td>\n",
              "      <td>144.296005</td>\n",
              "      <td>5388</td>\n",
              "      <td>10</td>\n",
              "      <td>U</td>\n",
              "      <td>Pacific/Port_Moresby</td>\n",
              "      <td>airport</td>\n",
              "      <td>OurAirports</td>\n",
              "    </tr>\n",
              "    <tr>\n",
              "      <th>3</th>\n",
              "      <td>4</td>\n",
              "      <td>Nadzab Airport</td>\n",
              "      <td>Nadzab</td>\n",
              "      <td>Papua New Guinea</td>\n",
              "      <td>LAE</td>\n",
              "      <td>AYNZ</td>\n",
              "      <td>-6.569803</td>\n",
              "      <td>146.725977</td>\n",
              "      <td>239</td>\n",
              "      <td>10</td>\n",
              "      <td>U</td>\n",
              "      <td>Pacific/Port_Moresby</td>\n",
              "      <td>airport</td>\n",
              "      <td>OurAirports</td>\n",
              "    </tr>\n",
              "    <tr>\n",
              "      <th>4</th>\n",
              "      <td>5</td>\n",
              "      <td>Port Moresby Jacksons International Airport</td>\n",
              "      <td>Port Moresby</td>\n",
              "      <td>Papua New Guinea</td>\n",
              "      <td>POM</td>\n",
              "      <td>AYPY</td>\n",
              "      <td>-9.443380</td>\n",
              "      <td>147.220001</td>\n",
              "      <td>146</td>\n",
              "      <td>10</td>\n",
              "      <td>U</td>\n",
              "      <td>Pacific/Port_Moresby</td>\n",
              "      <td>airport</td>\n",
              "      <td>OurAirports</td>\n",
              "    </tr>\n",
              "  </tbody>\n",
              "</table>\n",
              "</div>\n",
              "      <button class=\"colab-df-convert\" onclick=\"convertToInteractive('df-0f9a5526-fb6c-4dcf-b864-50e12d2d6fcf')\"\n",
              "              title=\"Convert this dataframe to an interactive table.\"\n",
              "              style=\"display:none;\">\n",
              "        \n",
              "  <svg xmlns=\"http://www.w3.org/2000/svg\" height=\"24px\"viewBox=\"0 0 24 24\"\n",
              "       width=\"24px\">\n",
              "    <path d=\"M0 0h24v24H0V0z\" fill=\"none\"/>\n",
              "    <path d=\"M18.56 5.44l.94 2.06.94-2.06 2.06-.94-2.06-.94-.94-2.06-.94 2.06-2.06.94zm-11 1L8.5 8.5l.94-2.06 2.06-.94-2.06-.94L8.5 2.5l-.94 2.06-2.06.94zm10 10l.94 2.06.94-2.06 2.06-.94-2.06-.94-.94-2.06-.94 2.06-2.06.94z\"/><path d=\"M17.41 7.96l-1.37-1.37c-.4-.4-.92-.59-1.43-.59-.52 0-1.04.2-1.43.59L10.3 9.45l-7.72 7.72c-.78.78-.78 2.05 0 2.83L4 21.41c.39.39.9.59 1.41.59.51 0 1.02-.2 1.41-.59l7.78-7.78 2.81-2.81c.8-.78.8-2.07 0-2.86zM5.41 20L4 18.59l7.72-7.72 1.47 1.35L5.41 20z\"/>\n",
              "  </svg>\n",
              "      </button>\n",
              "      \n",
              "  <style>\n",
              "    .colab-df-container {\n",
              "      display:flex;\n",
              "      flex-wrap:wrap;\n",
              "      gap: 12px;\n",
              "    }\n",
              "\n",
              "    .colab-df-convert {\n",
              "      background-color: #E8F0FE;\n",
              "      border: none;\n",
              "      border-radius: 50%;\n",
              "      cursor: pointer;\n",
              "      display: none;\n",
              "      fill: #1967D2;\n",
              "      height: 32px;\n",
              "      padding: 0 0 0 0;\n",
              "      width: 32px;\n",
              "    }\n",
              "\n",
              "    .colab-df-convert:hover {\n",
              "      background-color: #E2EBFA;\n",
              "      box-shadow: 0px 1px 2px rgba(60, 64, 67, 0.3), 0px 1px 3px 1px rgba(60, 64, 67, 0.15);\n",
              "      fill: #174EA6;\n",
              "    }\n",
              "\n",
              "    [theme=dark] .colab-df-convert {\n",
              "      background-color: #3B4455;\n",
              "      fill: #D2E3FC;\n",
              "    }\n",
              "\n",
              "    [theme=dark] .colab-df-convert:hover {\n",
              "      background-color: #434B5C;\n",
              "      box-shadow: 0px 1px 3px 1px rgba(0, 0, 0, 0.15);\n",
              "      filter: drop-shadow(0px 1px 2px rgba(0, 0, 0, 0.3));\n",
              "      fill: #FFFFFF;\n",
              "    }\n",
              "  </style>\n",
              "\n",
              "      <script>\n",
              "        const buttonEl =\n",
              "          document.querySelector('#df-0f9a5526-fb6c-4dcf-b864-50e12d2d6fcf button.colab-df-convert');\n",
              "        buttonEl.style.display =\n",
              "          google.colab.kernel.accessAllowed ? 'block' : 'none';\n",
              "\n",
              "        async function convertToInteractive(key) {\n",
              "          const element = document.querySelector('#df-0f9a5526-fb6c-4dcf-b864-50e12d2d6fcf');\n",
              "          const dataTable =\n",
              "            await google.colab.kernel.invokeFunction('convertToInteractive',\n",
              "                                                     [key], {});\n",
              "          if (!dataTable) return;\n",
              "\n",
              "          const docLinkHtml = 'Like what you see? Visit the ' +\n",
              "            '<a target=\"_blank\" href=https://colab.research.google.com/notebooks/data_table.ipynb>data table notebook</a>'\n",
              "            + ' to learn more about interactive tables.';\n",
              "          element.innerHTML = '';\n",
              "          dataTable['output_type'] = 'display_data';\n",
              "          await google.colab.output.renderOutput(dataTable, element);\n",
              "          const docLink = document.createElement('div');\n",
              "          docLink.innerHTML = docLinkHtml;\n",
              "          element.appendChild(docLink);\n",
              "        }\n",
              "      </script>\n",
              "    </div>\n",
              "  </div>\n",
              "  "
            ]
          },
          "metadata": {},
          "execution_count": 4
        }
      ]
    },
    {
      "cell_type": "code",
      "source": [
        "# dict function to the data as a dict\n",
        "df_dict1 = df.to_dict('records')\n",
        "\n",
        "print(df_dict1[0])"
      ],
      "metadata": {
        "id": "Si6xZZ9ta8bk",
        "colab": {
          "base_uri": "https://localhost:8080/"
        },
        "outputId": "98a10505-fd57-4f39-a11e-48ec52574558"
      },
      "execution_count": 5,
      "outputs": [
        {
          "output_type": "stream",
          "name": "stdout",
          "text": [
            "{'0': 1, '1': 'Goroka Airport', '2': 'Goroka', '3': 'Papua New Guinea', '4': 'GKA', '5': 'AYGA', '6': -6.081689834590001, '7': 145.391998291, '8': 5282, '9': '10', '10': 'U', '11': 'Pacific/Port_Moresby', '12': 'airport', '13': 'OurAirports'}\n"
          ]
        }
      ]
    },
    {
      "cell_type": "markdown",
      "source": [
        "b. Use the sklearn DictVectorizer to load the data"
      ],
      "metadata": {
        "id": "FUXTT4DQabC5"
      }
    },
    {
      "cell_type": "code",
      "source": [
        "v = DictVectorizer()\n",
        "trans_df = v.fit_transform(df_dict1)\n",
        "trans_df"
      ],
      "metadata": {
        "colab": {
          "base_uri": "https://localhost:8080/"
        },
        "id": "AYVwStuzSUCX",
        "outputId": "8d9dd7dd-1fe7-4b68-f8ec-3c1519fb3ffb"
      },
      "execution_count": 6,
      "outputs": [
        {
          "output_type": "execute_result",
          "data": {
            "text/plain": [
              "<7698x28985 sparse matrix of type '<class 'numpy.float64'>'\n",
              "\twith 107772 stored elements in Compressed Sparse Row format>"
            ]
          },
          "metadata": {},
          "execution_count": 6
        }
      ]
    },
    {
      "cell_type": "markdown",
      "source": [
        "d. How many samples does this dataset have?"
      ],
      "metadata": {
        "id": "18fgjWbJafZw"
      }
    },
    {
      "cell_type": "code",
      "source": [
        "df.shape"
      ],
      "metadata": {
        "id": "veH7Ewya05yp",
        "colab": {
          "base_uri": "https://localhost:8080/"
        },
        "outputId": "3fe0e77e-12c3-4345-896f-b44a92bfc05f"
      },
      "execution_count": 7,
      "outputs": [
        {
          "output_type": "execute_result",
          "data": {
            "text/plain": [
              "(7698, 14)"
            ]
          },
          "metadata": {},
          "execution_count": 7
        }
      ]
    },
    {
      "cell_type": "code",
      "source": [
        "print(\"there are \" + str(len(df)) + \" samples\")"
      ],
      "metadata": {
        "colab": {
          "base_uri": "https://localhost:8080/"
        },
        "id": "ARuNodesHrUK",
        "outputId": "b6c87473-b1f8-43ed-d3a8-6bc959b72ea6"
      },
      "execution_count": 8,
      "outputs": [
        {
          "output_type": "stream",
          "name": "stdout",
          "text": [
            "there are 7698 samples\n"
          ]
        }
      ]
    },
    {
      "cell_type": "markdown",
      "source": [
        "e. How many features does this dataset have?"
      ],
      "metadata": {
        "id": "ZyFkeDfJaiOQ"
      }
    },
    {
      "cell_type": "code",
      "source": [
        "len(df.columns)"
      ],
      "metadata": {
        "colab": {
          "base_uri": "https://localhost:8080/"
        },
        "id": "e_U3GVdN061W",
        "outputId": "c87da75a-007e-420d-bb19-96c920712ea8"
      },
      "execution_count": 9,
      "outputs": [
        {
          "output_type": "execute_result",
          "data": {
            "text/plain": [
              "14"
            ]
          },
          "metadata": {},
          "execution_count": 9
        }
      ]
    },
    {
      "cell_type": "markdown",
      "source": [
        "f. For each feature, indicate whether it is categorical or continuous. If categorical, how many levels does it have?"
      ],
      "metadata": {
        "id": "_3GSj70Yalqp"
      }
    },
    {
      "cell_type": "code",
      "source": [
        "df.columns = [\"Airport_ID\", \"Name\", \"City\",\"Country\",\"IATA_FAA\", \"ICAO\",\"Latitude\", \"Longitude\",\"Altitude\",\"Timezone\", \"DST\", \"TZ\",\"V13\", \"V14\"]"
      ],
      "metadata": {
        "id": "c-W69YumVJbu"
      },
      "execution_count": 10,
      "outputs": []
    },
    {
      "cell_type": "code",
      "source": [
        "for col in df.columns:\n",
        "    print(col)"
      ],
      "metadata": {
        "id": "m9HuLmz-07jA",
        "colab": {
          "base_uri": "https://localhost:8080/"
        },
        "outputId": "76cd898b-b70c-48a3-cda7-39e87d619a91"
      },
      "execution_count": 11,
      "outputs": [
        {
          "output_type": "stream",
          "name": "stdout",
          "text": [
            "Airport_ID\n",
            "Name\n",
            "City\n",
            "Country\n",
            "IATA_FAA\n",
            "ICAO\n",
            "Latitude\n",
            "Longitude\n",
            "Altitude\n",
            "Timezone\n",
            "DST\n",
            "TZ\n",
            "V13\n",
            "V14\n"
          ]
        }
      ]
    },
    {
      "cell_type": "markdown",
      "source": [
        "g. Justify, in writing, your answers to part iii"
      ],
      "metadata": {
        "id": "r_OsuTVGapum"
      }
    },
    {
      "cell_type": "code",
      "source": [
        "df.dtypes"
      ],
      "metadata": {
        "colab": {
          "base_uri": "https://localhost:8080/"
        },
        "id": "BQ1lDSMJVM9x",
        "outputId": "1fb8f5be-affe-480b-95e5-6b053e4c56db"
      },
      "execution_count": 12,
      "outputs": [
        {
          "output_type": "execute_result",
          "data": {
            "text/plain": [
              "Airport_ID      int64\n",
              "Name           object\n",
              "City           object\n",
              "Country        object\n",
              "IATA_FAA       object\n",
              "ICAO           object\n",
              "Latitude      float64\n",
              "Longitude     float64\n",
              "Altitude        int64\n",
              "Timezone       object\n",
              "DST            object\n",
              "TZ             object\n",
              "V13            object\n",
              "V14            object\n",
              "dtype: object"
            ]
          },
          "metadata": {},
          "execution_count": 12
        }
      ]
    },
    {
      "cell_type": "markdown",
      "source": [
        "h. For each feature, calculate its mean and median (if continuous) and its mode (if categorical) "
      ],
      "metadata": {
        "id": "kKo3UDvfasy6"
      }
    },
    {
      "cell_type": "code",
      "source": [
        "df[\"Airport_ID\"].mean()"
      ],
      "metadata": {
        "colab": {
          "base_uri": "https://localhost:8080/"
        },
        "id": "wTV6BkDk-wJa",
        "outputId": "7c8c9bb2-ae89-456c-d868-a444e258f8b5"
      },
      "execution_count": 15,
      "outputs": [
        {
          "output_type": "execute_result",
          "data": {
            "text/plain": [
              "5170.950116913484"
            ]
          },
          "metadata": {},
          "execution_count": 15
        }
      ]
    },
    {
      "cell_type": "code",
      "source": [
        "df[\"Latitude\"].mean()"
      ],
      "metadata": {
        "colab": {
          "base_uri": "https://localhost:8080/"
        },
        "id": "bZqElK_V_Q1N",
        "outputId": "02684b1b-97a4-4f45-9519-325d8afae8bb"
      },
      "execution_count": 16,
      "outputs": [
        {
          "output_type": "execute_result",
          "data": {
            "text/plain": [
              "25.808442484912426"
            ]
          },
          "metadata": {},
          "execution_count": 16
        }
      ]
    },
    {
      "cell_type": "code",
      "source": [
        "df[\"Longitude\"].mean()"
      ],
      "metadata": {
        "colab": {
          "base_uri": "https://localhost:8080/"
        },
        "id": "U_hMwqii_QvC",
        "outputId": "a5ec658b-3ee4-441b-b81a-833cec5b8552"
      },
      "execution_count": 17,
      "outputs": [
        {
          "output_type": "execute_result",
          "data": {
            "text/plain": [
              "-1.3905462050706137"
            ]
          },
          "metadata": {},
          "execution_count": 17
        }
      ]
    },
    {
      "cell_type": "code",
      "source": [
        "df[\"Altitude\"].mean()"
      ],
      "metadata": {
        "colab": {
          "base_uri": "https://localhost:8080/"
        },
        "id": "cyly0D9z_Qo3",
        "outputId": "f823753f-4731-4ef8-eba0-e600a4f2fecb"
      },
      "execution_count": 18,
      "outputs": [
        {
          "output_type": "execute_result",
          "data": {
            "text/plain": [
              "1015.873343725643"
            ]
          },
          "metadata": {},
          "execution_count": 18
        }
      ]
    },
    {
      "cell_type": "code",
      "source": [
        "df[\"Name\"].mode()"
      ],
      "metadata": {
        "id": "lb55abOZaG0o",
        "colab": {
          "base_uri": "https://localhost:8080/"
        },
        "outputId": "7e12e633-f42f-4bc4-931b-1e0e43739ce4"
      },
      "execution_count": 14,
      "outputs": [
        {
          "output_type": "execute_result",
          "data": {
            "text/plain": [
              "0    Capital City Airport\n",
              "1       Newcastle Airport\n",
              "2       San Pedro Airport\n",
              "3     Santa Maria Airport\n",
              "dtype: object"
            ]
          },
          "metadata": {},
          "execution_count": 14
        }
      ]
    },
    {
      "cell_type": "code",
      "source": [
        "df[\"City\"].mode()"
      ],
      "metadata": {
        "colab": {
          "base_uri": "https://localhost:8080/"
        },
        "id": "_fX2rjky_Zxo",
        "outputId": "3439e8d4-cefb-41be-a2fd-3763c7adf9d4"
      },
      "execution_count": 20,
      "outputs": [
        {
          "output_type": "execute_result",
          "data": {
            "text/plain": [
              "0    London\n",
              "dtype: object"
            ]
          },
          "metadata": {},
          "execution_count": 20
        }
      ]
    },
    {
      "cell_type": "code",
      "source": [
        "df[\"Country\"].mode()"
      ],
      "metadata": {
        "colab": {
          "base_uri": "https://localhost:8080/"
        },
        "id": "tjY33o9V_Zui",
        "outputId": "938892b6-068f-46ba-a2cb-d32c0efc2f69"
      },
      "execution_count": 21,
      "outputs": [
        {
          "output_type": "execute_result",
          "data": {
            "text/plain": [
              "0    United States\n",
              "dtype: object"
            ]
          },
          "metadata": {},
          "execution_count": 21
        }
      ]
    },
    {
      "cell_type": "code",
      "source": [
        "df[\"IATA_FAA\"].mode()"
      ],
      "metadata": {
        "colab": {
          "base_uri": "https://localhost:8080/"
        },
        "id": "C0XCWJLy_ZrQ",
        "outputId": "e96b8e6a-7869-4165-96fc-6c8df4430a3b"
      },
      "execution_count": 22,
      "outputs": [
        {
          "output_type": "execute_result",
          "data": {
            "text/plain": [
              "0    \\N\n",
              "dtype: object"
            ]
          },
          "metadata": {},
          "execution_count": 22
        }
      ]
    },
    {
      "cell_type": "code",
      "source": [
        "df[\"ICAO\"].mode()"
      ],
      "metadata": {
        "colab": {
          "base_uri": "https://localhost:8080/"
        },
        "id": "1ldfvnXL_ZoP",
        "outputId": "a738cf92-a8eb-4d47-f4f4-ecf1d7e447e0"
      },
      "execution_count": 19,
      "outputs": [
        {
          "output_type": "execute_result",
          "data": {
            "text/plain": [
              "0        03N\n",
              "1       07FA\n",
              "2       07MT\n",
              "3       0WI8\n",
              "4       18AZ\n",
              "        ... \n",
              "7693    ZYXC\n",
              "7694    ZYYJ\n",
              "7695    ZYYK\n",
              "7696    ZYYY\n",
              "7697      \\N\n",
              "Length: 7698, dtype: object"
            ]
          },
          "metadata": {},
          "execution_count": 19
        }
      ]
    },
    {
      "cell_type": "code",
      "source": [
        "df[\"Timezone\"].mode()"
      ],
      "metadata": {
        "colab": {
          "base_uri": "https://localhost:8080/"
        },
        "id": "bizxZN13_j3e",
        "outputId": "28bba144-7b1f-41bd-c661-749e143746a2"
      },
      "execution_count": 23,
      "outputs": [
        {
          "output_type": "execute_result",
          "data": {
            "text/plain": [
              "0    1\n",
              "dtype: object"
            ]
          },
          "metadata": {},
          "execution_count": 23
        }
      ]
    },
    {
      "cell_type": "code",
      "source": [
        "df[\"DST\"].mode()"
      ],
      "metadata": {
        "colab": {
          "base_uri": "https://localhost:8080/"
        },
        "id": "_UfrVI3__ka7",
        "outputId": "5355f2c4-ce63-40cd-e8a1-ccb07aaac153"
      },
      "execution_count": 24,
      "outputs": [
        {
          "output_type": "execute_result",
          "data": {
            "text/plain": [
              "0    U\n",
              "dtype: object"
            ]
          },
          "metadata": {},
          "execution_count": 24
        }
      ]
    },
    {
      "cell_type": "code",
      "source": [
        "df[\"TZ\"].mode()"
      ],
      "metadata": {
        "colab": {
          "base_uri": "https://localhost:8080/"
        },
        "id": "s9a6yvmK_kVq",
        "outputId": "a396b59a-99ba-4d3e-89f0-8d400917cd49"
      },
      "execution_count": 25,
      "outputs": [
        {
          "output_type": "execute_result",
          "data": {
            "text/plain": [
              "0    \\N\n",
              "dtype: object"
            ]
          },
          "metadata": {},
          "execution_count": 25
        }
      ]
    },
    {
      "cell_type": "code",
      "source": [
        "df[\"V13\"].mode()"
      ],
      "metadata": {
        "colab": {
          "base_uri": "https://localhost:8080/"
        },
        "id": "tDSiU8By_nny",
        "outputId": "b546d260-1872-46ad-f765-9256d2c1e4d0"
      },
      "execution_count": 27,
      "outputs": [
        {
          "output_type": "execute_result",
          "data": {
            "text/plain": [
              "0    airport\n",
              "dtype: object"
            ]
          },
          "metadata": {},
          "execution_count": 27
        }
      ]
    },
    {
      "cell_type": "code",
      "source": [
        "df[\"V14\"].mode()"
      ],
      "metadata": {
        "colab": {
          "base_uri": "https://localhost:8080/"
        },
        "id": "Rytb-Wsj_niu",
        "outputId": "2d96c08a-dafb-4d8c-e1db-fb98c38446ae"
      },
      "execution_count": 26,
      "outputs": [
        {
          "output_type": "execute_result",
          "data": {
            "text/plain": [
              "0    OurAirports\n",
              "dtype: object"
            ]
          },
          "metadata": {},
          "execution_count": 26
        }
      ]
    },
    {
      "cell_type": "markdown",
      "source": [
        "c. Save the dataset to a Pickle (.pkl) file and submit the file and your code with your assignment."
      ],
      "metadata": {
        "id": "e11ClTk3acHX"
      }
    },
    {
      "cell_type": "code",
      "source": [
        "with open('airports.pkl', 'wb') as fileWriteStream:\n",
        "    pickle.dump(df, fileWriteStream)"
      ],
      "metadata": {
        "id": "49IVi7L2JTqy"
      },
      "execution_count": 28,
      "outputs": []
    },
    {
      "cell_type": "code",
      "source": [
        "import os"
      ],
      "metadata": {
        "id": "oDFG1dZrMbyA"
      },
      "execution_count": 29,
      "outputs": []
    },
    {
      "cell_type": "code",
      "source": [
        "print('pickle file of airports is saved at Location:',os.getcwd())"
      ],
      "metadata": {
        "colab": {
          "base_uri": "https://localhost:8080/"
        },
        "id": "GnOgl0FIMVE6",
        "outputId": "dc79c011-1025-4fc8-b76f-17af52305481"
      },
      "execution_count": 30,
      "outputs": [
        {
          "output_type": "stream",
          "name": "stdout",
          "text": [
            "pickle file of airports is saved at Location: /content\n"
          ]
        }
      ]
    }
  ]
}