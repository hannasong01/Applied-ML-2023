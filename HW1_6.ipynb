{
  "nbformat": 4,
  "nbformat_minor": 0,
  "metadata": {
    "colab": {
      "provenance": []
    },
    "kernelspec": {
      "name": "python3",
      "display_name": "Python 3"
    },
    "language_info": {
      "name": "python"
    }
  },
  "cells": [
    {
      "cell_type": "code",
      "source": [
        "from sklearn.feature_extraction import DictVectorizer\n",
        "import numpy as np\n",
        "import matplotlib.pyplot as plt\n",
        "from sklearn import datasets\n",
        "import pandas as pd\n",
        "from sklearn.model_selection import  ShuffleSplit, train_test_split\n",
        "import sklearn\n",
        "import pickle\n",
        "import joblib"
      ],
      "metadata": {
        "id": "5pEmdziUTX7d"
      },
      "execution_count": null,
      "outputs": []
    },
    {
      "cell_type": "markdown",
      "source": [
        "(20 points) Load a non-JSON dataset of your choice from data.gov, http://catalog.data.gov/dataset into SKLearn. Save the dataset to a Pickle (.pkl) file and submit the file and your code with your assignment."
      ],
      "metadata": {
        "id": "vdGli-aUEVwa"
      }
    },
    {
      "cell_type": "markdown",
      "source": [
        "a. \tSpend some time exploring this dataset, and brainstorm a question that you can use it to answer."
      ],
      "metadata": {
        "id": "7aaGpNzREXAv"
      }
    },
    {
      "cell_type": "markdown",
      "source": [
        "b. \tFirst, use the read_csv function in pandas to load the data into a dataframe. Next, use the to_dict function to save the data as a dictionary (HINT: transpose the data and make sure to only keep the values)"
      ],
      "metadata": {
        "id": "QMCBxdzXEbYA"
      }
    },
    {
      "cell_type": "code",
      "source": [
        "# Average Daily Traffic Counts\n",
        "df = pd.read_csv(\"https://data.cityofchicago.org/api/views/pfsx-4n4m/rows.csv?accessType=DOWNLOAD\", header=None)"
      ],
      "metadata": {
        "id": "CnVBfJO6otzQ"
      },
      "execution_count": null,
      "outputs": []
    },
    {
      "cell_type": "code",
      "source": [
        "df.columns = [\"ID\", \"Traffic Volume Count Location Address\", \"Street\",\"Date of Count\",\"Total Passing Vehicle Volume\", \"Vehicle Volume By Each Direction of Traffic\", \"Latitude\",\"Longitude\", \"Location\"]"
      ],
      "metadata": {
        "id": "5DNVoZ5Sno4J"
      },
      "execution_count": null,
      "outputs": []
    },
    {
      "cell_type": "code",
      "source": [
        "df.drop(df.index[0], inplace = True)"
      ],
      "metadata": {
        "id": "HHmKXro8p_IH"
      },
      "execution_count": null,
      "outputs": []
    },
    {
      "cell_type": "code",
      "source": [
        "df.columns = df.columns.astype(str)"
      ],
      "metadata": {
        "id": "565EHydDynKq"
      },
      "execution_count": null,
      "outputs": []
    },
    {
      "cell_type": "markdown",
      "source": [
        "c. \tUse the sklearn DictVectorizer to load the data"
      ],
      "metadata": {
        "id": "hsrt7zIYEdaI"
      }
    },
    {
      "cell_type": "code",
      "source": [
        "df_dict = df.T.to_dict()\n",
        "v = DictVectorizer(sparse=False)\n",
        "X = v.fit_transform(df_dict.values())"
      ],
      "metadata": {
        "id": "QlyToeRRBudf"
      },
      "execution_count": null,
      "outputs": []
    },
    {
      "cell_type": "code",
      "source": [
        "X"
      ],
      "metadata": {
        "colab": {
          "base_uri": "https://localhost:8080/"
        },
        "id": "Dc2Uo-7cByDh",
        "outputId": "2d48e59a-8496-4a30-d20b-00ecbead3d2d"
      },
      "execution_count": null,
      "outputs": [
        {
          "output_type": "execute_result",
          "data": {
            "text/plain": [
              "array([[0., 0., 0., ..., 0., 0., 0.],\n",
              "       [0., 0., 0., ..., 0., 0., 0.],\n",
              "       [0., 0., 0., ..., 0., 0., 0.],\n",
              "       ...,\n",
              "       [0., 0., 0., ..., 0., 0., 0.],\n",
              "       [0., 0., 0., ..., 0., 0., 0.],\n",
              "       [0., 0., 0., ..., 0., 0., 0.]])"
            ]
          },
          "metadata": {},
          "execution_count": 7
        }
      ]
    },
    {
      "cell_type": "code",
      "source": [
        "v.get_feature_names_out()"
      ],
      "metadata": {
        "colab": {
          "base_uri": "https://localhost:8080/"
        },
        "id": "FBSTHAsSB2_d",
        "outputId": "69e3cd81-931b-4eda-eef2-802e818b91af"
      },
      "execution_count": null,
      "outputs": [
        {
          "output_type": "execute_result",
          "data": {
            "text/plain": [
              "array(['Date of Count=01/09/2007', 'Date of Count=01/24/2007',\n",
              "       'Date of Count=01/30/2007', ...,\n",
              "       'Vehicle Volume By Each Direction of Traffic=West Bound: 8200/ Oneway West Bound',\n",
              "       'Vehicle Volume By Each Direction of Traffic=West Bound: 8600/ Oneway West Bound ',\n",
              "       'Vehicle Volume By Each Direction of Traffic=West Bound: 9300/ Oneway West Bound'],\n",
              "      dtype=object)"
            ]
          },
          "metadata": {},
          "execution_count": 8
        }
      ]
    },
    {
      "cell_type": "markdown",
      "source": [
        "d.                   \tSave the dataset to a Pickle (.pkl) file and submit the file and your code with your assignment."
      ],
      "metadata": {
        "id": "N8hfbhS8EhcQ"
      }
    },
    {
      "cell_type": "code",
      "source": [
        "# save the dataset into a pickle file\n",
        "with open('dailytraffic.pkl', 'wb') as fileWriteStream:\n",
        "    pickle.dump(df, fileWriteStream)"
      ],
      "metadata": {
        "id": "49IVi7L2JTqy"
      },
      "execution_count": null,
      "outputs": []
    },
    {
      "cell_type": "code",
      "source": [
        "import os"
      ],
      "metadata": {
        "id": "oDFG1dZrMbyA"
      },
      "execution_count": null,
      "outputs": []
    },
    {
      "cell_type": "code",
      "source": [
        "print('pickle file of daily traffic is saved at Location:',os.getcwd())"
      ],
      "metadata": {
        "colab": {
          "base_uri": "https://localhost:8080/"
        },
        "id": "GnOgl0FIMVE6",
        "outputId": "4c3a6c9e-d83b-4d9d-cf9d-cc526a2362aa"
      },
      "execution_count": null,
      "outputs": [
        {
          "output_type": "stream",
          "name": "stdout",
          "text": [
            "pickle file of daily traffic is saved at Location: /content\n"
          ]
        }
      ]
    },
    {
      "cell_type": "markdown",
      "source": [
        "e. \tHow many samples does this dataset have?\n",
        "f.  \tHow many features does this dataset have?"
      ],
      "metadata": {
        "id": "iHGkUQdeEiyW"
      }
    },
    {
      "cell_type": "code",
      "source": [
        "print(\"there are \" + str(len(df)) + \" samples\")"
      ],
      "metadata": {
        "id": "QONuG-rQIAkP",
        "colab": {
          "base_uri": "https://localhost:8080/"
        },
        "outputId": "21c822c9-8fe7-4cec-b5d8-06573af8c44b"
      },
      "execution_count": null,
      "outputs": [
        {
          "output_type": "stream",
          "name": "stdout",
          "text": [
            "there are 1279 samples\n"
          ]
        }
      ]
    },
    {
      "cell_type": "markdown",
      "source": [
        "g. \tFor each feature, indicate whether it is categorical or continuous. If categorical, how many levels does it have?"
      ],
      "metadata": {
        "id": "PCYDomNHEkGP"
      }
    },
    {
      "cell_type": "code",
      "source": [
        "len(df.columns)"
      ],
      "metadata": {
        "id": "0Vu-kCHDIBA_",
        "colab": {
          "base_uri": "https://localhost:8080/"
        },
        "outputId": "61b1eea3-83ce-43b5-d0cd-8079ec594711"
      },
      "execution_count": null,
      "outputs": [
        {
          "output_type": "execute_result",
          "data": {
            "text/plain": [
              "9"
            ]
          },
          "metadata": {},
          "execution_count": 19
        }
      ]
    },
    {
      "cell_type": "code",
      "source": [
        "df.dtypes"
      ],
      "metadata": {
        "colab": {
          "base_uri": "https://localhost:8080/"
        },
        "outputId": "0aa3edc4-698f-443b-9c90-d28798dfd1d6",
        "id": "LqlzPLqmLEAp"
      },
      "execution_count": null,
      "outputs": [
        {
          "output_type": "execute_result",
          "data": {
            "text/plain": [
              "ID                                             object\n",
              "Traffic Volume Count Location Address          object\n",
              "Street                                         object\n",
              "Date of Count                                  object\n",
              "Total Passing Vehicle Volume                   object\n",
              "Vehicle Volume By Each Direction of Traffic    object\n",
              "Latitude                                       object\n",
              "Longitude                                      object\n",
              "Location                                       object\n",
              "dtype: object"
            ]
          },
          "metadata": {},
          "execution_count": 9
        }
      ]
    },
    {
      "cell_type": "code",
      "source": [
        "df.head()"
      ],
      "metadata": {
        "colab": {
          "base_uri": "https://localhost:8080/",
          "height": 354
        },
        "outputId": "4b0aee9d-82f2-4a5c-90aa-39c9285116f4",
        "id": "h526E7iqLEAx"
      },
      "execution_count": null,
      "outputs": [
        {
          "output_type": "execute_result",
          "data": {
            "text/plain": [
              "     ID Traffic Volume Count Location Address    Street Date of Count  \\\n",
              "1   414                             5838 West   Lake St    11/14/2006   \n",
              "2   176                              320 East   76th St    03/28/2006   \n",
              "3  1367                             1730 East   57th Dr    08/24/2006   \n",
              "4   316                              125 East   24th St    03/30/2006   \n",
              "5  1294                             2924 East  130th St    08/29/2006   \n",
              "\n",
              "  Total Passing Vehicle Volume Vehicle Volume By Each Direction of Traffic  \\\n",
              "1                         7100         East Bound: 3600 / West Bound: 3500   \n",
              "2                         8600         East Bound: 3800 / West Bound: 4800   \n",
              "3                        53500       East Bound: 27800 / West Bound: 25700   \n",
              "4                          700           East Bound: 400 / West Bound: 300   \n",
              "5                         4200         East Bound: 2300 / West Bound: 1900   \n",
              "\n",
              "    Latitude   Longitude                 Location  \n",
              "1  41.887904  -87.771064  (41.887904, -87.771064)  \n",
              "2  41.756542  -87.617335  (41.756542, -87.617335)  \n",
              "3  41.792663  -87.582231  (41.792663, -87.582231)  \n",
              "4  41.849302  -87.622658  (41.849302, -87.622658)  \n",
              "5  41.659177  -87.552112  (41.659177, -87.552112)  "
            ],
            "text/html": [
              "\n",
              "  <div id=\"df-70ce38d4-0cbb-4764-8c98-b674a7f16cb4\">\n",
              "    <div class=\"colab-df-container\">\n",
              "      <div>\n",
              "<style scoped>\n",
              "    .dataframe tbody tr th:only-of-type {\n",
              "        vertical-align: middle;\n",
              "    }\n",
              "\n",
              "    .dataframe tbody tr th {\n",
              "        vertical-align: top;\n",
              "    }\n",
              "\n",
              "    .dataframe thead th {\n",
              "        text-align: right;\n",
              "    }\n",
              "</style>\n",
              "<table border=\"1\" class=\"dataframe\">\n",
              "  <thead>\n",
              "    <tr style=\"text-align: right;\">\n",
              "      <th></th>\n",
              "      <th>ID</th>\n",
              "      <th>Traffic Volume Count Location Address</th>\n",
              "      <th>Street</th>\n",
              "      <th>Date of Count</th>\n",
              "      <th>Total Passing Vehicle Volume</th>\n",
              "      <th>Vehicle Volume By Each Direction of Traffic</th>\n",
              "      <th>Latitude</th>\n",
              "      <th>Longitude</th>\n",
              "      <th>Location</th>\n",
              "    </tr>\n",
              "  </thead>\n",
              "  <tbody>\n",
              "    <tr>\n",
              "      <th>1</th>\n",
              "      <td>414</td>\n",
              "      <td>5838 West</td>\n",
              "      <td>Lake St</td>\n",
              "      <td>11/14/2006</td>\n",
              "      <td>7100</td>\n",
              "      <td>East Bound: 3600 / West Bound: 3500</td>\n",
              "      <td>41.887904</td>\n",
              "      <td>-87.771064</td>\n",
              "      <td>(41.887904, -87.771064)</td>\n",
              "    </tr>\n",
              "    <tr>\n",
              "      <th>2</th>\n",
              "      <td>176</td>\n",
              "      <td>320 East</td>\n",
              "      <td>76th St</td>\n",
              "      <td>03/28/2006</td>\n",
              "      <td>8600</td>\n",
              "      <td>East Bound: 3800 / West Bound: 4800</td>\n",
              "      <td>41.756542</td>\n",
              "      <td>-87.617335</td>\n",
              "      <td>(41.756542, -87.617335)</td>\n",
              "    </tr>\n",
              "    <tr>\n",
              "      <th>3</th>\n",
              "      <td>1367</td>\n",
              "      <td>1730 East</td>\n",
              "      <td>57th Dr</td>\n",
              "      <td>08/24/2006</td>\n",
              "      <td>53500</td>\n",
              "      <td>East Bound: 27800 / West Bound: 25700</td>\n",
              "      <td>41.792663</td>\n",
              "      <td>-87.582231</td>\n",
              "      <td>(41.792663, -87.582231)</td>\n",
              "    </tr>\n",
              "    <tr>\n",
              "      <th>4</th>\n",
              "      <td>316</td>\n",
              "      <td>125 East</td>\n",
              "      <td>24th St</td>\n",
              "      <td>03/30/2006</td>\n",
              "      <td>700</td>\n",
              "      <td>East Bound: 400 / West Bound: 300</td>\n",
              "      <td>41.849302</td>\n",
              "      <td>-87.622658</td>\n",
              "      <td>(41.849302, -87.622658)</td>\n",
              "    </tr>\n",
              "    <tr>\n",
              "      <th>5</th>\n",
              "      <td>1294</td>\n",
              "      <td>2924 East</td>\n",
              "      <td>130th St</td>\n",
              "      <td>08/29/2006</td>\n",
              "      <td>4200</td>\n",
              "      <td>East Bound: 2300 / West Bound: 1900</td>\n",
              "      <td>41.659177</td>\n",
              "      <td>-87.552112</td>\n",
              "      <td>(41.659177, -87.552112)</td>\n",
              "    </tr>\n",
              "  </tbody>\n",
              "</table>\n",
              "</div>\n",
              "      <button class=\"colab-df-convert\" onclick=\"convertToInteractive('df-70ce38d4-0cbb-4764-8c98-b674a7f16cb4')\"\n",
              "              title=\"Convert this dataframe to an interactive table.\"\n",
              "              style=\"display:none;\">\n",
              "        \n",
              "  <svg xmlns=\"http://www.w3.org/2000/svg\" height=\"24px\"viewBox=\"0 0 24 24\"\n",
              "       width=\"24px\">\n",
              "    <path d=\"M0 0h24v24H0V0z\" fill=\"none\"/>\n",
              "    <path d=\"M18.56 5.44l.94 2.06.94-2.06 2.06-.94-2.06-.94-.94-2.06-.94 2.06-2.06.94zm-11 1L8.5 8.5l.94-2.06 2.06-.94-2.06-.94L8.5 2.5l-.94 2.06-2.06.94zm10 10l.94 2.06.94-2.06 2.06-.94-2.06-.94-.94-2.06-.94 2.06-2.06.94z\"/><path d=\"M17.41 7.96l-1.37-1.37c-.4-.4-.92-.59-1.43-.59-.52 0-1.04.2-1.43.59L10.3 9.45l-7.72 7.72c-.78.78-.78 2.05 0 2.83L4 21.41c.39.39.9.59 1.41.59.51 0 1.02-.2 1.41-.59l7.78-7.78 2.81-2.81c.8-.78.8-2.07 0-2.86zM5.41 20L4 18.59l7.72-7.72 1.47 1.35L5.41 20z\"/>\n",
              "  </svg>\n",
              "      </button>\n",
              "      \n",
              "  <style>\n",
              "    .colab-df-container {\n",
              "      display:flex;\n",
              "      flex-wrap:wrap;\n",
              "      gap: 12px;\n",
              "    }\n",
              "\n",
              "    .colab-df-convert {\n",
              "      background-color: #E8F0FE;\n",
              "      border: none;\n",
              "      border-radius: 50%;\n",
              "      cursor: pointer;\n",
              "      display: none;\n",
              "      fill: #1967D2;\n",
              "      height: 32px;\n",
              "      padding: 0 0 0 0;\n",
              "      width: 32px;\n",
              "    }\n",
              "\n",
              "    .colab-df-convert:hover {\n",
              "      background-color: #E2EBFA;\n",
              "      box-shadow: 0px 1px 2px rgba(60, 64, 67, 0.3), 0px 1px 3px 1px rgba(60, 64, 67, 0.15);\n",
              "      fill: #174EA6;\n",
              "    }\n",
              "\n",
              "    [theme=dark] .colab-df-convert {\n",
              "      background-color: #3B4455;\n",
              "      fill: #D2E3FC;\n",
              "    }\n",
              "\n",
              "    [theme=dark] .colab-df-convert:hover {\n",
              "      background-color: #434B5C;\n",
              "      box-shadow: 0px 1px 3px 1px rgba(0, 0, 0, 0.15);\n",
              "      filter: drop-shadow(0px 1px 2px rgba(0, 0, 0, 0.3));\n",
              "      fill: #FFFFFF;\n",
              "    }\n",
              "  </style>\n",
              "\n",
              "      <script>\n",
              "        const buttonEl =\n",
              "          document.querySelector('#df-70ce38d4-0cbb-4764-8c98-b674a7f16cb4 button.colab-df-convert');\n",
              "        buttonEl.style.display =\n",
              "          google.colab.kernel.accessAllowed ? 'block' : 'none';\n",
              "\n",
              "        async function convertToInteractive(key) {\n",
              "          const element = document.querySelector('#df-70ce38d4-0cbb-4764-8c98-b674a7f16cb4');\n",
              "          const dataTable =\n",
              "            await google.colab.kernel.invokeFunction('convertToInteractive',\n",
              "                                                     [key], {});\n",
              "          if (!dataTable) return;\n",
              "\n",
              "          const docLinkHtml = 'Like what you see? Visit the ' +\n",
              "            '<a target=\"_blank\" href=https://colab.research.google.com/notebooks/data_table.ipynb>data table notebook</a>'\n",
              "            + ' to learn more about interactive tables.';\n",
              "          element.innerHTML = '';\n",
              "          dataTable['output_type'] = 'display_data';\n",
              "          await google.colab.output.renderOutput(dataTable, element);\n",
              "          const docLink = document.createElement('div');\n",
              "          docLink.innerHTML = docLinkHtml;\n",
              "          element.appendChild(docLink);\n",
              "        }\n",
              "      </script>\n",
              "    </div>\n",
              "  </div>\n",
              "  "
            ]
          },
          "metadata": {},
          "execution_count": 10
        }
      ]
    },
    {
      "cell_type": "code",
      "source": [
        "convert_dict = {'ID': float, 'Latitude': float, 'Longitude': float, 'Total Passing Vehicle Volume': float}\n",
        " \n",
        "df = df.astype(convert_dict)\n",
        "print(df.dtypes)"
      ],
      "metadata": {
        "colab": {
          "base_uri": "https://localhost:8080/"
        },
        "outputId": "eb200ebf-fe62-4ed6-b01c-55c96fe6073a",
        "id": "pRkIf0JSLEAy"
      },
      "execution_count": null,
      "outputs": [
        {
          "output_type": "stream",
          "name": "stdout",
          "text": [
            "ID                                             float64\n",
            "Traffic Volume Count Location Address           object\n",
            "Street                                          object\n",
            "Date of Count                                   object\n",
            "Total Passing Vehicle Volume                   float64\n",
            "Vehicle Volume By Each Direction of Traffic     object\n",
            "Latitude                                       float64\n",
            "Longitude                                      float64\n",
            "Location                                        object\n",
            "dtype: object\n"
          ]
        }
      ]
    },
    {
      "cell_type": "code",
      "source": [
        "df.describe(include='object')"
      ],
      "metadata": {
        "colab": {
          "base_uri": "https://localhost:8080/",
          "height": 254
        },
        "id": "fBm1nBb8GnM6",
        "outputId": "5a3b94e0-6e41-4c1f-c47f-f0814dd4b315"
      },
      "execution_count": null,
      "outputs": [
        {
          "output_type": "execute_result",
          "data": {
            "text/plain": [
              "       Traffic Volume Count Location Address     Street Date of Count  \\\n",
              "count                                   1279       1279          1279   \n",
              "unique                                  1203        251            95   \n",
              "top                                210 South  Damen Ave    03/28/2006   \n",
              "freq                                       4         33            73   \n",
              "\n",
              "       Vehicle Volume By Each Direction of Traffic                Location  \n",
              "count                                         1279                    1279  \n",
              "unique                                        1223                    1276  \n",
              "top          North Bound: 6300 / South Bound: 6200  (41.828474, -87.65091)  \n",
              "freq                                             4                       2  "
            ],
            "text/html": [
              "\n",
              "  <div id=\"df-f711f124-14fa-4f7d-a255-dc8d5ab75ed6\">\n",
              "    <div class=\"colab-df-container\">\n",
              "      <div>\n",
              "<style scoped>\n",
              "    .dataframe tbody tr th:only-of-type {\n",
              "        vertical-align: middle;\n",
              "    }\n",
              "\n",
              "    .dataframe tbody tr th {\n",
              "        vertical-align: top;\n",
              "    }\n",
              "\n",
              "    .dataframe thead th {\n",
              "        text-align: right;\n",
              "    }\n",
              "</style>\n",
              "<table border=\"1\" class=\"dataframe\">\n",
              "  <thead>\n",
              "    <tr style=\"text-align: right;\">\n",
              "      <th></th>\n",
              "      <th>Traffic Volume Count Location Address</th>\n",
              "      <th>Street</th>\n",
              "      <th>Date of Count</th>\n",
              "      <th>Vehicle Volume By Each Direction of Traffic</th>\n",
              "      <th>Location</th>\n",
              "    </tr>\n",
              "  </thead>\n",
              "  <tbody>\n",
              "    <tr>\n",
              "      <th>count</th>\n",
              "      <td>1279</td>\n",
              "      <td>1279</td>\n",
              "      <td>1279</td>\n",
              "      <td>1279</td>\n",
              "      <td>1279</td>\n",
              "    </tr>\n",
              "    <tr>\n",
              "      <th>unique</th>\n",
              "      <td>1203</td>\n",
              "      <td>251</td>\n",
              "      <td>95</td>\n",
              "      <td>1223</td>\n",
              "      <td>1276</td>\n",
              "    </tr>\n",
              "    <tr>\n",
              "      <th>top</th>\n",
              "      <td>210 South</td>\n",
              "      <td>Damen Ave</td>\n",
              "      <td>03/28/2006</td>\n",
              "      <td>North Bound: 6300 / South Bound: 6200</td>\n",
              "      <td>(41.828474, -87.65091)</td>\n",
              "    </tr>\n",
              "    <tr>\n",
              "      <th>freq</th>\n",
              "      <td>4</td>\n",
              "      <td>33</td>\n",
              "      <td>73</td>\n",
              "      <td>4</td>\n",
              "      <td>2</td>\n",
              "    </tr>\n",
              "  </tbody>\n",
              "</table>\n",
              "</div>\n",
              "      <button class=\"colab-df-convert\" onclick=\"convertToInteractive('df-f711f124-14fa-4f7d-a255-dc8d5ab75ed6')\"\n",
              "              title=\"Convert this dataframe to an interactive table.\"\n",
              "              style=\"display:none;\">\n",
              "        \n",
              "  <svg xmlns=\"http://www.w3.org/2000/svg\" height=\"24px\"viewBox=\"0 0 24 24\"\n",
              "       width=\"24px\">\n",
              "    <path d=\"M0 0h24v24H0V0z\" fill=\"none\"/>\n",
              "    <path d=\"M18.56 5.44l.94 2.06.94-2.06 2.06-.94-2.06-.94-.94-2.06-.94 2.06-2.06.94zm-11 1L8.5 8.5l.94-2.06 2.06-.94-2.06-.94L8.5 2.5l-.94 2.06-2.06.94zm10 10l.94 2.06.94-2.06 2.06-.94-2.06-.94-.94-2.06-.94 2.06-2.06.94z\"/><path d=\"M17.41 7.96l-1.37-1.37c-.4-.4-.92-.59-1.43-.59-.52 0-1.04.2-1.43.59L10.3 9.45l-7.72 7.72c-.78.78-.78 2.05 0 2.83L4 21.41c.39.39.9.59 1.41.59.51 0 1.02-.2 1.41-.59l7.78-7.78 2.81-2.81c.8-.78.8-2.07 0-2.86zM5.41 20L4 18.59l7.72-7.72 1.47 1.35L5.41 20z\"/>\n",
              "  </svg>\n",
              "      </button>\n",
              "      \n",
              "  <style>\n",
              "    .colab-df-container {\n",
              "      display:flex;\n",
              "      flex-wrap:wrap;\n",
              "      gap: 12px;\n",
              "    }\n",
              "\n",
              "    .colab-df-convert {\n",
              "      background-color: #E8F0FE;\n",
              "      border: none;\n",
              "      border-radius: 50%;\n",
              "      cursor: pointer;\n",
              "      display: none;\n",
              "      fill: #1967D2;\n",
              "      height: 32px;\n",
              "      padding: 0 0 0 0;\n",
              "      width: 32px;\n",
              "    }\n",
              "\n",
              "    .colab-df-convert:hover {\n",
              "      background-color: #E2EBFA;\n",
              "      box-shadow: 0px 1px 2px rgba(60, 64, 67, 0.3), 0px 1px 3px 1px rgba(60, 64, 67, 0.15);\n",
              "      fill: #174EA6;\n",
              "    }\n",
              "\n",
              "    [theme=dark] .colab-df-convert {\n",
              "      background-color: #3B4455;\n",
              "      fill: #D2E3FC;\n",
              "    }\n",
              "\n",
              "    [theme=dark] .colab-df-convert:hover {\n",
              "      background-color: #434B5C;\n",
              "      box-shadow: 0px 1px 3px 1px rgba(0, 0, 0, 0.15);\n",
              "      filter: drop-shadow(0px 1px 2px rgba(0, 0, 0, 0.3));\n",
              "      fill: #FFFFFF;\n",
              "    }\n",
              "  </style>\n",
              "\n",
              "      <script>\n",
              "        const buttonEl =\n",
              "          document.querySelector('#df-f711f124-14fa-4f7d-a255-dc8d5ab75ed6 button.colab-df-convert');\n",
              "        buttonEl.style.display =\n",
              "          google.colab.kernel.accessAllowed ? 'block' : 'none';\n",
              "\n",
              "        async function convertToInteractive(key) {\n",
              "          const element = document.querySelector('#df-f711f124-14fa-4f7d-a255-dc8d5ab75ed6');\n",
              "          const dataTable =\n",
              "            await google.colab.kernel.invokeFunction('convertToInteractive',\n",
              "                                                     [key], {});\n",
              "          if (!dataTable) return;\n",
              "\n",
              "          const docLinkHtml = 'Like what you see? Visit the ' +\n",
              "            '<a target=\"_blank\" href=https://colab.research.google.com/notebooks/data_table.ipynb>data table notebook</a>'\n",
              "            + ' to learn more about interactive tables.';\n",
              "          element.innerHTML = '';\n",
              "          dataTable['output_type'] = 'display_data';\n",
              "          await google.colab.output.renderOutput(dataTable, element);\n",
              "          const docLink = document.createElement('div');\n",
              "          docLink.innerHTML = docLinkHtml;\n",
              "          element.appendChild(docLink);\n",
              "        }\n",
              "      </script>\n",
              "    </div>\n",
              "  </div>\n",
              "  "
            ]
          },
          "metadata": {},
          "execution_count": 20
        }
      ]
    },
    {
      "cell_type": "markdown",
      "source": [
        "h. \tJustify, in writing, you answers to part iii\n",
        "\n",
        "\n",
        "*   The dataset have combined categorical and continous variables. From the dtype we can determine ID, Total Passing Vehicle Volume, Latitude and Longitude are float which is continous and others are object which are categorical. \n",
        "\n"
      ],
      "metadata": {
        "id": "oer7fByQEl_2"
      }
    },
    {
      "cell_type": "markdown",
      "source": [
        "i.  \tFor each feature, calculate its mean and median (if continuous) and its mode (if categorical) "
      ],
      "metadata": {
        "id": "Oi_cskVNEn_e"
      }
    },
    {
      "cell_type": "code",
      "source": [
        "df.mean()"
      ],
      "metadata": {
        "id": "_9PCJ47CIB2I",
        "colab": {
          "base_uri": "https://localhost:8080/"
        },
        "outputId": "42043ca8-54de-49cd-ab93-a6b718169534"
      },
      "execution_count": null,
      "outputs": [
        {
          "output_type": "stream",
          "name": "stderr",
          "text": [
            "<ipython-input-21-c61f0c8f89b5>:1: FutureWarning: Dropping of nuisance columns in DataFrame reductions (with 'numeric_only=None') is deprecated; in a future version this will raise TypeError.  Select only valid columns before calling the reduction.\n",
            "  df.mean()\n"
          ]
        },
        {
          "output_type": "execute_result",
          "data": {
            "text/plain": [
              "ID                                689.937451\n",
              "Total Passing Vehicle Volume    19466.301798\n",
              "Latitude                           41.849394\n",
              "Longitude                         -87.670298\n",
              "dtype: float64"
            ]
          },
          "metadata": {},
          "execution_count": 21
        }
      ]
    },
    {
      "cell_type": "code",
      "source": [
        "df[\"ID\"].median()"
      ],
      "metadata": {
        "colab": {
          "base_uri": "https://localhost:8080/"
        },
        "id": "gQjLd6BNdcST",
        "outputId": "9256757f-0175-42ee-db93-93ce36fad076"
      },
      "execution_count": null,
      "outputs": [
        {
          "output_type": "execute_result",
          "data": {
            "text/plain": [
              "684.0"
            ]
          },
          "metadata": {},
          "execution_count": 28
        }
      ]
    },
    {
      "cell_type": "code",
      "source": [
        "df[\"Total Passing Vehicle Volume\"].median()"
      ],
      "metadata": {
        "colab": {
          "base_uri": "https://localhost:8080/"
        },
        "id": "nW2Fqh9pdcOD",
        "outputId": "a646da9d-5ee9-46a2-8a18-9422a6510e29"
      },
      "execution_count": null,
      "outputs": [
        {
          "output_type": "execute_result",
          "data": {
            "text/plain": [
              "17300.0"
            ]
          },
          "metadata": {},
          "execution_count": 29
        }
      ]
    },
    {
      "cell_type": "code",
      "source": [
        "df[\"Latitude\"].median()"
      ],
      "metadata": {
        "colab": {
          "base_uri": "https://localhost:8080/"
        },
        "id": "ZB2C2ltMdcHK",
        "outputId": "acc9d095-6c57-4927-8416-732b26a45580"
      },
      "execution_count": null,
      "outputs": [
        {
          "output_type": "execute_result",
          "data": {
            "text/plain": [
              "41.87138"
            ]
          },
          "metadata": {},
          "execution_count": 30
        }
      ]
    },
    {
      "cell_type": "code",
      "source": [
        "df[\"Longitude\"].median()"
      ],
      "metadata": {
        "colab": {
          "base_uri": "https://localhost:8080/"
        },
        "id": "TCeUdhcedhqI",
        "outputId": "4a52f983-4749-47e2-c4e3-fd7efae242a1"
      },
      "execution_count": null,
      "outputs": [
        {
          "output_type": "execute_result",
          "data": {
            "text/plain": [
              "-87.66285"
            ]
          },
          "metadata": {},
          "execution_count": 31
        }
      ]
    },
    {
      "cell_type": "code",
      "source": [
        "df.Street.mode()"
      ],
      "metadata": {
        "colab": {
          "base_uri": "https://localhost:8080/"
        },
        "id": "wvo1YePJQ8LH",
        "outputId": "c01f02da-a45e-4c2a-d576-2e4b83926ef4"
      },
      "execution_count": null,
      "outputs": [
        {
          "output_type": "execute_result",
          "data": {
            "text/plain": [
              "0    Damen Ave\n",
              "dtype: object"
            ]
          },
          "metadata": {},
          "execution_count": 22
        }
      ]
    },
    {
      "cell_type": "code",
      "source": [
        "df[\"Total Passing Vehicle Volume\"].mode()"
      ],
      "metadata": {
        "colab": {
          "base_uri": "https://localhost:8080/"
        },
        "id": "Jikw_nJ4Q8F_",
        "outputId": "b3875b5a-f8e5-404a-8627-1e33c58f3e3d"
      },
      "execution_count": null,
      "outputs": [
        {
          "output_type": "execute_result",
          "data": {
            "text/plain": [
              "0    12500.0\n",
              "dtype: float64"
            ]
          },
          "metadata": {},
          "execution_count": 25
        }
      ]
    },
    {
      "cell_type": "code",
      "source": [
        "df[\"Date of Count\"].mode()"
      ],
      "metadata": {
        "colab": {
          "base_uri": "https://localhost:8080/"
        },
        "id": "s9lNLW-wQ8Av",
        "outputId": "0a0cead4-29c1-411f-d251-bbbb0fe0d25e"
      },
      "execution_count": null,
      "outputs": [
        {
          "output_type": "execute_result",
          "data": {
            "text/plain": [
              "0    03/28/2006\n",
              "dtype: object"
            ]
          },
          "metadata": {},
          "execution_count": 23
        }
      ]
    },
    {
      "cell_type": "code",
      "source": [
        "df[\"Vehicle Volume By Each Direction of Traffic\"].mode()"
      ],
      "metadata": {
        "colab": {
          "base_uri": "https://localhost:8080/"
        },
        "id": "NBJGKxYdQ71n",
        "outputId": "40386a79-7484-48e3-e295-b613e2f218da"
      },
      "execution_count": null,
      "outputs": [
        {
          "output_type": "execute_result",
          "data": {
            "text/plain": [
              "0    North Bound: 6300 / South Bound: 6200\n",
              "dtype: object"
            ]
          },
          "metadata": {},
          "execution_count": 26
        }
      ]
    },
    {
      "cell_type": "code",
      "source": [
        "df.Location.mode()"
      ],
      "metadata": {
        "colab": {
          "base_uri": "https://localhost:8080/"
        },
        "id": "2stksIOURYCu",
        "outputId": "83371508-fbc4-48f1-c1ad-84a3573885eb"
      },
      "execution_count": null,
      "outputs": [
        {
          "output_type": "execute_result",
          "data": {
            "text/plain": [
              "0     (41.828474, -87.65091)\n",
              "1     (41.87346, -87.647091)\n",
              "2    (41.876934, -87.666676)\n",
              "dtype: object"
            ]
          },
          "metadata": {},
          "execution_count": 27
        }
      ]
    },
    {
      "cell_type": "markdown",
      "source": [
        "j.  \tPropose a plan to use this dataset to answer your question in part a.\n",
        "\n",
        "\n",
        "\n",
        "*   The plan is to use how daily traffic different from the location to determine the faster route for people from certain locations. Also, it would be useful to analzye which locations have trouble with traffic to decrease its traffic for people. In this case, we can analyze vehicle volumne by each direction of traffic, and location to determine which location and direction has a higher rate of traffic. Moreover, we can understand why they are having more traffic than others. \n",
        "\n"
      ],
      "metadata": {
        "id": "rTozWzA9Ep9K"
      }
    }
  ]
}